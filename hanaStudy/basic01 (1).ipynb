{
 "cells": [
  {
   "cell_type": "code",
   "execution_count": 8,
   "metadata": {},
   "outputs": [
    {
     "name": "stdout",
     "output_type": "stream",
     "text": [
      "1\n",
      "2\n",
      "3\n",
      "k\n",
      "ggk\n",
      "ggggk\n",
      "ggggggk\n",
      "ggggggggk\n",
      "ggggggggggk\n",
      "ggggggggggggk\n",
      "ggggggggggggggk\n",
      "ggggggggggggggggk\n",
      "ggggggggggggggggggk\n"
     ]
    },
    {
     "data": {
      "text/plain": [
       "(2, 3, 3)"
      ]
     },
     "execution_count": 8,
     "metadata": {},
     "output_type": "execute_result"
    }
   ],
   "source": [
    "#vector, list & array\n",
    "import numpy as np\n",
    "\n",
    "#scalar\n",
    "a=1\n",
    "b=2\n",
    "c=3\n",
    "\n",
    "#list\n",
    "alist = [a, b, c]\n",
    "#print(alist)\n",
    "alist2 = [a] + [b] + [c]\n",
    "#print(alist2)\n",
    "\n",
    "blist1 = [[1,2,3], [4,5,6], [7,8,9]]\n",
    "blist2 = [[10,11,12], [13,14,15], [16,17,18]]\n",
    "blist3 = [['a', 'b', 'c'], ['d', 'e', 'f']]\n",
    "\n",
    "clist = [blist1, blist2, blist3]\n",
    "#print(clist)\n",
    "dlist =[blist1, blist2]\n",
    "#print(dlist)\n",
    "\n",
    "darray = np.array(dlist)\n",
    "#print(darray)\n",
    "\n",
    "for idx in range(3):\n",
    "    print(darray[0, 0, idx])\n",
    "\n",
    "for i in range(0,10):\n",
    "    for a in range(0, i):\n",
    "        print('k')\n",
    "    print('k')\n",
    "\n",
    "np.shape(darray)\n",
    "\n"
   ]
  },
  {
   "cell_type": "code",
   "execution_count": 1,
   "metadata": {},
   "outputs": [
    {
     "name": "stdout",
     "output_type": "stream",
     "text": [
      "한석원\n"
     ]
    }
   ],
   "source": [
    "print(\"한석원\")"
   ]
  },
  {
   "cell_type": "code",
   "execution_count": 2,
   "metadata": {},
   "outputs": [
    {
     "name": "stdout",
     "output_type": "stream",
     "text": [
      "한석원\n",
      "한석원\n",
      "한석원\n"
     ]
    }
   ],
   "source": [
    "print(\"한석원\")\n",
    "print(\"한석원\")\n",
    "print(\"한석원\")"
   ]
  },
  {
   "cell_type": "code",
   "execution_count": 6,
   "metadata": {},
   "outputs": [
    {
     "name": "stdout",
     "output_type": "stream",
     "text": [
      "0\n",
      "한석원\n",
      "1\n",
      "한석원\n",
      "2\n",
      "한석원\n"
     ]
    }
   ],
   "source": [
    "for number in [0,1,2]:\n",
    "    print(number)\n",
    "    print(\"한석원\")"
   ]
  },
  {
   "cell_type": "code",
   "execution_count": 9,
   "metadata": {},
   "outputs": [
    {
     "name": "stdout",
     "output_type": "stream",
     "text": [
      "name\n",
      "name\n",
      "name\n"
     ]
    }
   ],
   "source": [
    "for name in [\"한석원\", \"김민규\", \"김지혜\"]:\n",
    "    print(\"name\")"
   ]
  },
  {
   "cell_type": "code",
   "execution_count": 13,
   "metadata": {},
   "outputs": [
    {
     "name": "stdout",
     "output_type": "stream",
     "text": [
      "한석원\n",
      "이나현\n",
      "우어진\n",
      "김수지\n",
      "한석원\n",
      "이나현\n",
      "우어진\n",
      "김수지\n"
     ]
    }
   ],
   "source": [
    "namelist = [\"한석원\", \"이나현\", \"우어진\", \"김수지\"]\n",
    "\n",
    "for hana in namelist:\n",
    "    print(hana)\n",
    "\n",
    "for hana in [\"한석원\", \"이나현\", \"우어진\", \"김수지\"]:\n",
    "    print(hana)"
   ]
  },
  {
   "cell_type": "code",
   "execution_count": 11,
   "metadata": {},
   "outputs": [
    {
     "name": "stdout",
     "output_type": "stream",
     "text": [
      "['한석원', '이나현', '우어진', '김수지']\n",
      "['한석원', '이나현', '우어진', '김수지']\n",
      "['한석원', '이나현', '우어진', '김수지']\n",
      "['한석원', '이나현', '우어진', '김수지']\n"
     ]
    }
   ],
   "source": [
    "for nameidx in [0,1,2,3]:\n",
    "    print(namelist)\n",
    "\n",
    "for 변수 in 범위:\n",
    "    알고리즘"
   ]
  },
  {
   "cell_type": "code",
   "execution_count": 12,
   "metadata": {},
   "outputs": [
    {
     "name": "stdout",
     "output_type": "stream",
     "text": [
      "한석원\n",
      "이나현\n",
      "우어진\n",
      "김수지\n"
     ]
    }
   ],
   "source": [
    "for nameidx in [0,1,2,3]:\n",
    "    print(namelist[nameidx])"
   ]
  },
  {
   "cell_type": "code",
   "execution_count": 14,
   "metadata": {},
   "outputs": [
    {
     "name": "stdout",
     "output_type": "stream",
     "text": [
      "한석원\n",
      "이나현\n",
      "우어진\n",
      "김수지\n"
     ]
    }
   ],
   "source": [
    "for nameidx in range(4):\n",
    "    print(namelist[nameidx])"
   ]
  }
 ],
 "metadata": {
  "interpreter": {
   "hash": "b0fa6594d8f4cbf19f97940f81e996739fb7646882a419484c72d19e05852a7e"
  },
  "kernelspec": {
   "display_name": "Python 3.9.13 64-bit",
   "language": "python",
   "name": "python3"
  },
  "language_info": {
   "codemirror_mode": {
    "name": "ipython",
    "version": 3
   },
   "file_extension": ".py",
   "mimetype": "text/x-python",
   "name": "python",
   "nbconvert_exporter": "python",
   "pygments_lexer": "ipython3",
   "version": "3.9.13"
  }
 },
 "nbformat": 4,
 "nbformat_minor": 4
}

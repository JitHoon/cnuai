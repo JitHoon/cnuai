{
 "cells": [
  {
   "cell_type": "markdown",
   "metadata": {},
   "source": [
    "# <세션 2일차>\n",
    "- 공부 내용 : 자료구조 비교, for문, Module\n",
    "\n",
    "- 세션 1일차 코테 링크\n",
    "https://programmers.co.kr/learn/courses/30/lessons/12954\n",
    "https://programmers.co.kr/learn/courses/30/lessons/70128\n",
    "https://programmers.co.kr/learn/courses/30/lessons/87389\n",
    "https://programmers.co.kr/learn/courses/30/lessons/12931\n",
    "https://programmers.co.kr/learn/courses/30/lessons/12944\n",
    "https://programmers.co.kr/learn/courses/30/lessons/12919\n",
    "https://programmers.co.kr/learn/courses/30/lessons/68644"
   ]
  },
  {
   "cell_type": "markdown",
   "metadata": {},
   "source": [
    "# 자료구조\n",
    "\n",
    "# 1. list, tuple, dictionary"
   ]
  },
  {
   "cell_type": "code",
   "execution_count": null,
   "metadata": {},
   "outputs": [],
   "source": [
    "l =[1,2,3,]   # mutable, key 값으로 사용 불가능\n",
    "t = (1, 2, 3) # immutable, key 값으로 사용 가능\n",
    "d = {(1, 2, 3) : 1, 'one' : 1, \"two\" : 2} # key:value"
   ]
  },
  {
   "cell_type": "markdown",
   "metadata": {},
   "source": [
    "list와 dic의 searching 속도 비교\n",
    "\n",
    "hash"
   ]
  },
  {
   "cell_type": "code",
   "execution_count": 12,
   "metadata": {},
   "outputs": [
    {
     "name": "stdout",
     "output_type": "stream",
     "text": [
      "CPU times: user 1e+03 ns, sys: 0 ns, total: 1e+03 ns\n",
      "Wall time: 2.86 µs\n",
      "CPU times: user 0 ns, sys: 0 ns, total: 0 ns\n",
      "Wall time: 954 ns\n"
     ]
    },
    {
     "data": {
      "text/plain": [
       "9999"
      ]
     },
     "execution_count": 12,
     "metadata": {},
     "output_type": "execute_result"
    }
   ],
   "source": [
    "length = 10000\n",
    "\n",
    "l1 = list(range(length))\n",
    "d1 = {x:x for x in range(length)}\n",
    "\n",
    "%time # magic command\n",
    "\n",
    "9999 in l1 # 순서대로 찾아서 느리다\n",
    "\n",
    "%time # magic command\n",
    "\n",
    "9999 in d1\n",
    "\n",
    "hash(9999) \n",
    "# 요소의 주민등록번호를 hash라고 하는데\n",
    "# dic은 해당 요소의 hash 즉 key 값을 찾기 때문에 빠르다\n",
    "# list를 dic의 key 값으로 쓸 수 없는 이유도 unhashable 때문\n"
   ]
  },
  {
   "cell_type": "markdown",
   "metadata": {},
   "source": [
    "# 2. set \n",
    "\n",
    "집합, 순서를 유지하지 x, 중복값을 가지지 않는다."
   ]
  },
  {
   "cell_type": "code",
   "execution_count": 13,
   "metadata": {},
   "outputs": [
    {
     "data": {
      "text/plain": [
       "{1, 12, 123, 1234}"
      ]
     },
     "execution_count": 13,
     "metadata": {},
     "output_type": "execute_result"
    }
   ],
   "source": [
    "s = {123, 1234, 1 ,12}\n",
    "s # 순서 유지 x"
   ]
  },
  {
   "cell_type": "code",
   "execution_count": 14,
   "metadata": {},
   "outputs": [
    {
     "data": {
      "text/plain": [
       "{1, 2, 3, 4}"
      ]
     },
     "execution_count": 14,
     "metadata": {},
     "output_type": "execute_result"
    }
   ],
   "source": [
    "l = [1, 2, 3, 4, 1, 2, 3, 4]\n",
    "s = set(l)\n",
    "s # 중복값을 가지지 않는다."
   ]
  },
  {
   "cell_type": "markdown",
   "metadata": {},
   "source": [
    "집합 연산"
   ]
  },
  {
   "cell_type": "code",
   "execution_count": 16,
   "metadata": {},
   "outputs": [
    {
     "name": "stdout",
     "output_type": "stream",
     "text": [
      "{1, 2, 3, 4, 5, 6, 7}\n",
      "{3, 4, 5}\n",
      "{1, 2}\n",
      "{1, 2, 6, 7}\n"
     ]
    }
   ],
   "source": [
    "s1 = {1, 2, 3, 4, 5}\n",
    "s2 = {3, 4, 5, 6, 7}\n",
    "\n",
    "print(s1 | s2)  # or 연산자, 합집합\n",
    "\n",
    "print(s1 & s2)  # and 연산자, 교집합\n",
    "\n",
    "print(s1 - s2)  # 뺄셈 연산자, 차집합\n",
    "\n",
    "print(s1 ^ s2)  # xor 연산자, 각 여집합을 합친 집합"
   ]
  }
 ],
 "metadata": {
  "interpreter": {
   "hash": "b0fa6594d8f4cbf19f97940f81e996739fb7646882a419484c72d19e05852a7e"
  },
  "kernelspec": {
   "display_name": "Python 3.9.13 64-bit",
   "language": "python",
   "name": "python3"
  },
  "language_info": {
   "codemirror_mode": {
    "name": "ipython",
    "version": 3
   },
   "file_extension": ".py",
   "mimetype": "text/x-python",
   "name": "python",
   "nbconvert_exporter": "python",
   "pygments_lexer": "ipython3",
   "version": "3.9.13"
  },
  "orig_nbformat": 4
 },
 "nbformat": 4,
 "nbformat_minor": 2
}

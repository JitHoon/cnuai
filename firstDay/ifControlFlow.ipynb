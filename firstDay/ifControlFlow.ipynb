{
 "cells": [
  {
   "cell_type": "markdown",
   "metadata": {},
   "source": [
    "# <세션 1일차>\n",
    "- 공부 내용 : 자료형, if문, 함수\n",
    "\n",
    "- 세션 1일차 코테 링크\n",
    "https://programmers.co.kr/learn/courses/30/lessons/86051\n",
    "https://programmers.co.kr/learn/courses/30/lessons/12922\n",
    "https://programmers.co.kr/learn/courses/30/lessons/12916"
   ]
  },
  {
   "cell_type": "markdown",
   "metadata": {},
   "source": [
    "# 제어문"
   ]
  },
  {
   "cell_type": "markdown",
   "metadata": {},
   "source": [
    "# 1. if문"
   ]
  },
  {
   "cell_type": "code",
   "execution_count": 1,
   "metadata": {},
   "outputs": [
    {
     "name": "stdout",
     "output_type": "stream",
     "text": [
      "전사\n"
     ]
    }
   ],
   "source": [
    "stre = input(\"힘 : \")\n",
    "inte = input(\"지능 : \")\n",
    "dex = input(\"민첩 : \")\n",
    "\n",
    "if int(stre) > 100:\n",
    "    print('전사')\n",
    "elif int(inte) > 100:\n",
    "    print('법사')\n",
    "else:\n",
    "    print('다시 키우거나 돈을 쓰세여')"
   ]
  }
 ],
 "metadata": {
  "interpreter": {
   "hash": "b0fa6594d8f4cbf19f97940f81e996739fb7646882a419484c72d19e05852a7e"
  },
  "kernelspec": {
   "display_name": "Python 3.9.13 64-bit",
   "language": "python",
   "name": "python3"
  },
  "language_info": {
   "codemirror_mode": {
    "name": "ipython",
    "version": 3
   },
   "file_extension": ".py",
   "mimetype": "text/x-python",
   "name": "python",
   "nbconvert_exporter": "python",
   "pygments_lexer": "ipython3",
   "version": "3.9.13"
  },
  "orig_nbformat": 4
 },
 "nbformat": 4,
 "nbformat_minor": 2
}

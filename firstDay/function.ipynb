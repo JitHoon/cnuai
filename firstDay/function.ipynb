{
 "cells": [
  {
   "cell_type": "markdown",
   "metadata": {},
   "source": [
    "# <세션 1일차>\n",
    "- 공부 내용 : 자료형, if문, 함수\n",
    "\n",
    "- 세션 1일차 코테 링크\n",
    "https://programmers.co.kr/learn/courses/30/lessons/86051\n",
    "https://programmers.co.kr/learn/courses/30/lessons/12922\n",
    "https://programmers.co.kr/learn/courses/30/lessons/12916"
   ]
  },
  {
   "cell_type": "markdown",
   "metadata": {},
   "source": [
    "# 함수"
   ]
  },
  {
   "cell_type": "code",
   "execution_count": 16,
   "metadata": {},
   "outputs": [
    {
     "data": {
      "text/plain": [
       "'hello 지훈'"
      ]
     },
     "execution_count": 16,
     "metadata": {},
     "output_type": "execute_result"
    }
   ],
   "source": [
    "def function(name):\n",
    "    return f'hello {name}'\n",
    "\n",
    "function('지훈')"
   ]
  },
  {
   "cell_type": "markdown",
   "metadata": {},
   "source": [
    "for문 없이 3번 반복하는 코드 (내 풀이)"
   ]
  },
  {
   "cell_type": "code",
   "execution_count": 29,
   "metadata": {},
   "outputs": [
    {
     "name": "stdout",
     "output_type": "stream",
     "text": [
      "세번 반복!\n",
      "세번 반복!\n",
      "세번 반복!\n"
     ]
    },
    {
     "data": {
      "text/plain": [
       "<function __main__.my_function(message: str, n: int)>"
      ]
     },
     "execution_count": 29,
     "metadata": {},
     "output_type": "execute_result"
    }
   ],
   "source": [
    "def my_function(message : str, n : int):\n",
    "    \"\"\"이 함수는 제가 만든 for문 없는 반복문입니다!\"\"\"\n",
    "    if n > 1:\n",
    "        print(message)\n",
    "        my_function(message, n-1)\n",
    "    else:\n",
    "        print(message)\n",
    "\n",
    "my_function(\"세번 반복!\", 3)\n",
    "my_function"
   ]
  },
  {
   "cell_type": "markdown",
   "metadata": {},
   "source": [
    "for문 없이 3번 반복하는 코드 (멘토 풀이)"
   ]
  },
  {
   "cell_type": "code",
   "execution_count": 22,
   "metadata": {},
   "outputs": [
    {
     "name": "stdout",
     "output_type": "stream",
     "text": [
      "세번 반복!\n",
      "세번 반복!\n",
      "세번 반복!\n"
     ]
    }
   ],
   "source": [
    "def my_function(message : str, n : int):\n",
    "    print('\\n'.join([message] * n))\n",
    "\n",
    "my_function('세번 반복!', 3)"
   ]
  }
 ],
 "metadata": {
  "interpreter": {
   "hash": "b0fa6594d8f4cbf19f97940f81e996739fb7646882a419484c72d19e05852a7e"
  },
  "kernelspec": {
   "display_name": "Python 3.9.13 64-bit",
   "language": "python",
   "name": "python3"
  },
  "language_info": {
   "codemirror_mode": {
    "name": "ipython",
    "version": 3
   },
   "file_extension": ".py",
   "mimetype": "text/x-python",
   "name": "python",
   "nbconvert_exporter": "python",
   "pygments_lexer": "ipython3",
   "version": "3.9.13"
  },
  "orig_nbformat": 4
 },
 "nbformat": 4,
 "nbformat_minor": 2
}

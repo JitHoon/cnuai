{
 "cells": [
  {
   "cell_type": "markdown",
   "metadata": {},
   "source": [
    "# <세션 1일차>\n",
    "- 공부 내용 : 자료형, if문, 함수\n",
    "\n",
    "- 세션 1일차 코테 링크\n",
    "https://programmers.co.kr/learn/courses/30/lessons/86051\n",
    "https://programmers.co.kr/learn/courses/30/lessons/12922\n",
    "https://programmers.co.kr/learn/courses/30/lessons/12916"
   ]
  },
  {
   "cell_type": "markdown",
   "metadata": {},
   "source": [
    "첫번째 문제\n",
    "\n",
    "리스트에서 0~9중 없는 숫자끼리 더하기"
   ]
  },
  {
   "cell_type": "code",
   "execution_count": null,
   "metadata": {},
   "outputs": [],
   "source": [
    "def solution(numbers):\n",
    "    sum = []\n",
    "    answer = 0\n",
    "    \n",
    "    for i in range(10):\n",
    "        if i not in numbers:\n",
    "            sum.append(i)\n",
    "    \n",
    "    for j in range(len(sum)):\n",
    "        answer = answer + sum[j]\n",
    "        \n",
    "    return answer"
   ]
  },
  {
   "cell_type": "code",
   "execution_count": null,
   "metadata": {},
   "outputs": [],
   "source": [
    "def solution(numbers):\n",
    "    return 45 - sum(numbers)"
   ]
  },
  {
   "cell_type": "markdown",
   "metadata": {},
   "source": [
    "두번째 문제\n",
    "\n",
    "수박 반복 출력하기 "
   ]
  },
  {
   "cell_type": "code",
   "execution_count": null,
   "metadata": {},
   "outputs": [],
   "source": [
    "def solution(n):\n",
    "    if n % 2 == 0:\n",
    "        answer = '수박'* int(n/2)\n",
    "    else:\n",
    "        answer = '수박'* int(n/2) + '수'\n",
    "    \n",
    "    return answer"
   ]
  },
  {
   "cell_type": "code",
   "execution_count": 2,
   "metadata": {},
   "outputs": [
    {
     "name": "stdout",
     "output_type": "stream",
     "text": [
      "수박수\n",
      "수박수\n"
     ]
    }
   ],
   "source": [
    "def water_melon1(n):\n",
    "    s = \"수박\" * n\n",
    "    return s[:n]\n",
    "\n",
    "def water_melon2(n):\n",
    "    return (\"수박\"*n)[0:n]\n",
    "\n",
    "print(water_melon1(3))\n",
    "print(water_melon2(3))"
   ]
  },
  {
   "cell_type": "code",
   "execution_count": null,
   "metadata": {},
   "outputs": [],
   "source": [
    "def water_melon(n):\n",
    "    return \"수박\"*(n//2) + \"수\"*(n%2)"
   ]
  },
  {
   "cell_type": "markdown",
   "metadata": {},
   "source": [
    "세번째 문제\n",
    "\n"
   ]
  },
  {
   "cell_type": "markdown",
   "metadata": {},
   "source": [
    "\n"
   ]
  }
 ],
 "metadata": {
  "interpreter": {
   "hash": "b0fa6594d8f4cbf19f97940f81e996739fb7646882a419484c72d19e05852a7e"
  },
  "kernelspec": {
   "display_name": "Python 3.9.13 64-bit",
   "language": "python",
   "name": "python3"
  },
  "language_info": {
   "codemirror_mode": {
    "name": "ipython",
    "version": 3
   },
   "file_extension": ".py",
   "mimetype": "text/x-python",
   "name": "python",
   "nbconvert_exporter": "python",
   "pygments_lexer": "ipython3",
   "version": "3.9.13"
  },
  "orig_nbformat": 4
 },
 "nbformat": 4,
 "nbformat_minor": 2
}

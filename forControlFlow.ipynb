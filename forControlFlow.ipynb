{
 "cells": [
  {
   "cell_type": "markdown",
   "metadata": {},
   "source": [
    "# <세션 2일차>\n",
    "- 공부 내용 : 자료구조 비교, for문, Module\n",
    "\n",
    "- 세션 1일차 코테 링크\n",
    "https://programmers.co.kr/learn/courses/30/lessons/12954\n",
    "https://programmers.co.kr/learn/courses/30/lessons/70128\n",
    "https://programmers.co.kr/learn/courses/30/lessons/87389\n",
    "https://programmers.co.kr/learn/courses/30/lessons/12931\n",
    "https://programmers.co.kr/learn/courses/30/lessons/12944\n",
    "https://programmers.co.kr/learn/courses/30/lessons/12919\n",
    "https://programmers.co.kr/learn/courses/30/lessons/68644"
   ]
  },
  {
   "cell_type": "markdown",
   "metadata": {},
   "source": [
    "# 제어문\n",
    "\n",
    "1. if문\n",
    "\n",
    "# 2. for문\n",
    "\n",
    "3. while문"
   ]
  },
  {
   "cell_type": "code",
   "execution_count": null,
   "metadata": {},
   "outputs": [],
   "source": [
    "for {{variable}} in {{Iterable}}:\n",
    "    ...\n",
    "    ...\n",
    " # Iterable : 반복, 나열할 수 있는"
   ]
  },
  {
   "cell_type": "code",
   "execution_count": 5,
   "metadata": {},
   "outputs": [
    {
     "name": "stdout",
     "output_type": "stream",
     "text": [
      "H\n",
      "e\n",
      "l\n",
      "l\n",
      "o\n"
     ]
    }
   ],
   "source": [
    "l = [1, 2, 3, 4, 5]\n",
    "l = \"Hello\"\n",
    "\n",
    "\n",
    "for i in l:\n",
    "    print(i)"
   ]
  }
 ],
 "metadata": {
  "interpreter": {
   "hash": "b0fa6594d8f4cbf19f97940f81e996739fb7646882a419484c72d19e05852a7e"
  },
  "kernelspec": {
   "display_name": "Python 3.9.13 64-bit",
   "language": "python",
   "name": "python3"
  },
  "language_info": {
   "codemirror_mode": {
    "name": "ipython",
    "version": 3
   },
   "file_extension": ".py",
   "mimetype": "text/x-python",
   "name": "python",
   "nbconvert_exporter": "python",
   "pygments_lexer": "ipython3",
   "version": "3.9.13"
  },
  "orig_nbformat": 4
 },
 "nbformat": 4,
 "nbformat_minor": 2
}

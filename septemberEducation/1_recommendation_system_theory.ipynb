{
 "cells": [
  {
   "cell_type": "markdown",
   "metadata": {},
   "source": [
    "# 1. ML 기반 추천 엔진이란?"
   ]
  },
  {
   "cell_type": "markdown",
   "metadata": {},
   "source": [
    "## 1. 추천 엔진 정의\n",
    "\n",
    "### 1-1) `사용자와 아이템`\n",
    "#### `사용자` : 서비스를 사용하는 사람\n",
    "#### `아이템` : 서비스에서 판매하는 물품 (데이트 서비스와 같이 다른 사용자가 물품이 될 수도 있음)\n",
    "\n",
    "- 보통 서비스가 성장하면 사용자/아이템의 수도 같이 성장함\n",
    "- 특히 사용자의 성장도가 훨씬 커짐\n",
    "- 하지만 아이템의 수가 커지면서 `아이템 디스커버리`(`사용자가 원하는 아이템을 쉽게 찾지 못하는 문제`) `문제`가 대두됨\n",
    "- 모든 사용자가 검색(능동적)을 하지 않으며 `사람들이 점점 더 추천(수동적)을 사용`"
   ]
  },
  {
   "cell_type": "markdown",
   "metadata": {},
   "source": [
    "### 1-2) `추천 엔진의 정의`\n",
    "#### 트위터의 알파 제인의 정의\n",
    "- 사용자가 `관심`있어 할만한 아이템을 제공해주는 `자동화`된 시스템\n",
    "- `관심을 어떻게 표현하고 측정하느냐가 이번 강의의 핵심!!!!`\n",
    "\n",
    "#### 야후의 디팍 아그라왈의 정의\n",
    "- 비지니스의 `장기적인 목표(매출액 자동화)`를 개선하기 위해 사용자에게 알맞은 아이템을 `자동`으로 보여주는 시스템"
   ]
  },
  {
   "cell_type": "markdown",
   "metadata": {},
   "source": [
    "### 1-3) `추천 엔진이 필요한 이유`\n",
    "1. 아이템 디스커버리 해결을 위해 (`자동화`)\n",
    "2. `personalization` (`개인화`) 을 위해\n",
    "3. `senendipity` (`우연`) 적인 추천도 가능\n",
    "4. 인기 아이템 뿐만 아니라 `롱 테일`(크게 수익이 되지 않는 상품군)의 `다양한 아이템의 노출`이 가능\n",
    "5. 마케팅시 추천 엔진 활용 (관련 상품 추천으로 쉽게 `사업 확장` 가능)"
   ]
  },
  {
   "cell_type": "markdown",
   "metadata": {},
   "source": [
    "### 1-4) `추천은 결국 매칭 문제!`\n",
    "- 아이템은 서비스에 따라 달라지며 아이템이 다른 사용자가 될 수도 있음\n",
    "- `어떤 아이템을 추천`할 것인가? (다양한 방법을 뒤에서 설명)\n",
    "- 아이템과 사용자의 부가 정보들이 필요해짐 (`분류 체계` (보통 관심 카테고리, 서브 카테고리와 같이 2단계)가 필요)\n",
    "- `추천 UI(user interface) 및 이유`도 광장히 중요 (`어떤 순서로 노출`하는가, `무엇을 기준`으로 추천하는가 (클릭, 매출, 소비, 평점 등))\n",
    "- ML : `숫자로 표현된 벡터나 행렬을 가지고 계산`함\n",
    "\n",
    "![item](./pic/item.png)"
   ]
  },
  {
   "cell_type": "markdown",
   "metadata": {},
   "source": [
    "## 2. 추천 엔진 예제"
   ]
  },
  {
   "cell_type": "markdown",
   "metadata": {},
   "source": [
    "### 2-1) `amazon Related Product`\n",
    "1. 사용자 : 멤버\n",
    "2. 아이템 : 상품"
   ]
  },
  {
   "cell_type": "markdown",
   "metadata": {},
   "source": [
    "### 2-2) `netflix`\n",
    "1. 사용자 : 멤버\n",
    "2. 아이템 : 영화/드라마"
   ]
  },
  {
   "cell_type": "markdown",
   "metadata": {},
   "source": [
    "### 2-3) `google`\n",
    "1. 사용자 : 검색자\n",
    "2. 아이템 : 검색어"
   ]
  },
  {
   "cell_type": "markdown",
   "metadata": {},
   "source": [
    "### 2-4) `linkin, facebook`\n",
    "1. 사용자 : 멤버\n",
    "2. 아이템 : 멤버"
   ]
  },
  {
   "cell_type": "markdown",
   "metadata": {},
   "source": [
    "### 2-5) `spotify, pandora`\n",
    "1. 사용자 : 멤버\n",
    "2. 아이템 : 노래/플레이리스트"
   ]
  },
  {
   "cell_type": "markdown",
   "metadata": {},
   "source": [
    "### 2-6) `helthcare` (발병 환률 * 발병시 임팩트 를 고려한 치료 우선순위)\n",
    "1. 사용자 : 의사/간호사\n",
    "2. 아이템 : 환자"
   ]
  },
  {
   "cell_type": "markdown",
   "metadata": {},
   "source": [
    "### 2-7) `udemy course`\n",
    "1. 사용자 : 멤버\n",
    "2. 아이템 : 강좌"
   ]
  },
  {
   "cell_type": "markdown",
   "metadata": {},
   "source": [
    "### 2-8) `앞선 추천 엔진들의 공통점`\n",
    "1. `격자 형태 UI`를 사용\n",
    "\n",
    "2. `다양한 형태의 유닛`들이 존재\n",
    "- 개인화 유닛\n",
    "- 인기도, 비개인화 정보 기반 유닛\n",
    "- 랭킹 추천 유닛 (순전히 데이터 수집을 위한 온라인 테스트)"
   ]
  },
  {
   "cell_type": "markdown",
   "metadata": {},
   "source": [
    "## 3. 추천 엔진 알고리즘 종류 \n",
    "### 3-1) 컨텐츠 기반\n",
    "#### "
   ]
  },
  {
   "cell_type": "markdown",
   "metadata": {},
   "source": [
    "### 3-2) 아이템 기반"
   ]
  },
  {
   "cell_type": "markdown",
   "metadata": {},
   "source": [
    "![](./pic/.png)"
   ]
  }
 ],
 "metadata": {
  "language_info": {
   "name": "python"
  },
  "orig_nbformat": 4
 },
 "nbformat": 4,
 "nbformat_minor": 2
}

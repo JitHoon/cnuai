{
 "cells": [
  {
   "cell_type": "markdown",
   "metadata": {},
   "source": [
    "# 2. 컨텐츠 기반 추천 엔진 개발"
   ]
  },
  {
   "cell_type": "markdown",
   "metadata": {},
   "source": [
    "## 1. Netflix Prize\n",
    "### 1-1) Netflix Prize 개요\n",
    "- 기념비적인 추천 엔진 경진 대회\n",
    "\n",
    "- 넷플릭스 추천 시스템 품질을 10% 개선하는 팀에게 상금 수요\n",
    "\n",
    "- `RMS (Root Mean Square Error) 가 평가 기준`으로 사용됨\n",
    "\n",
    "- 이를 기폭제로 캐글과 같은 머신러닝 경진대회 플랫폼이 등장"
   ]
  },
  {
   "cell_type": "markdown",
   "metadata": {},
   "source": [
    "### 1-2) Netflix Prize 우승팀과 알고리즘\n",
    "- 최종 우승팀 \"BellKor's Pragmatic Chaos\"\n",
    "\n",
    "- 이 대회를 통해 `협업 필터링이 한단계 발전`함\n",
    "\n",
    "- `SVD를 활용한 SVD++ (큰 행렬을 여러 작은 행렬의 곱으로 표현하고 비어있는 셀들을 ML 최적화 방식으로 채워나가는 알고리즘)`는 이후 굉장히 많은 분야에서 활용됨\n",
    "\n",
    "- `앙상블 방식의 모델 (여러 모델들을 조합한 방법)`들이 가장 좋은 성능을 보임 (너무 긴 실행시간 때문에 실제 프로덕션에서는 사용 불가)"
   ]
  },
  {
   "cell_type": "markdown",
   "metadata": {},
   "source": [
    "### 1-3) `Ensemble`과 `Random Forest`\n",
    "- 다수 분류기를 사용해서 예측하는 방식\n",
    "\n",
    "- 성능이 좋지만 훈련과 예측 시간이 오래 걸린다는 단점 존재"
   ]
  },
  {
   "cell_type": "markdown",
   "metadata": {},
   "source": [
    "### 참고) 추천 엔진 발전 역사\n",
    "- `오토인코더` 기반 (복잡한 행렬 계산을 단순화하는 방식)\n",
    "\n",
    "- 아이템 관련 사용자 정보를 `시간순으로 인코드하는 RNN`을 사용하는 방식\n",
    "\n",
    "- `아마존에서 DSSNTE 라는 알고리즘을 오픈소스화` 했다가 `SageMaker 라는 제품`으로 통합"
   ]
  },
  {
   "cell_type": "markdown",
   "metadata": {},
   "source": [
    "## 2. 유데미 추천 엔진 살펴보기\n",
    "- 학생들에게 관심있을 만한 강의를 먼저 보여주는 것\n",
    "\n",
    "- `하이브리드 방식 추천` : 협업 필터링, 사용자 행동 기반 추천, 머신러닝 모델기반 추천\n",
    "\n",
    "- 사용자별로 `등록 확률`을 기준으로 2천개의 탑 강의 목록 생성 (배치 -> 실시간 계산으로 변경)\n",
    "\n",
    "- `특정 강의 세부 페이지`에서 추천은 `아이템 중심` \n",
    "\n",
    "- ex 1) `student also bought (아이템 기반 협업 필터링)`\n",
    "\n",
    "- ex 2) `Frequently bought together (별도의 co-occurrence 행렬 계산)`\n",
    "\n",
    "- ex 3) `각 유닛`에서의 `강의 랭킹`은 `개인별 등록 확률`로 결정 \n",
    "\n",
    "- `사용한 추천 UI` : `격자 기반의 UI`\n",
    "\n",
    "- 온라인 강의의 `메타 데이터 요소` : 분류 체계, 태그, 클릭 키워드 분석 등\n",
    "\n",
    "- `행동 기반 추천 요소` : 클릭, 구매, 소비 등\n"
   ]
  },
  {
   "cell_type": "markdown",
   "metadata": {},
   "source": [
    "## 3. 인기도 기반 추천 개발\n",
    "- cold start(첫 사용자의 정보가 필요한 경우) 이슈가 존재하지 않음 (ex 현재 사용자들이 구매한, 보고 있는 아이템 추천)\n",
    "\n",
    "- `인기도 기준 : 평점, 매출, 최대 판매 등` (인기도의 기준에따라 다양한 추천 유닛 생성 가능)\n",
    "\n",
    "- `사용자 정보에 따라 확장 가능` : 서울 지역 인기 아이템 추천\n",
    "\n",
    "- `아이템의 분류 체계를 활용하여 쉽게 확장 가능` : 특정 카테고리에서의 인기 아이템 추천 (분류 체계를 가지고 있으면 인기도 기반 추천에 많은 도움이 된다.)"
   ]
  },
  {
   "cell_type": "markdown",
   "metadata": {},
   "source": [
    "![training](./pic/training.png)\n",
    "\n",
    "- pandas, python"
   ]
  },
  {
   "cell_type": "markdown",
   "metadata": {},
   "source": [
    "## 4. 유사도 측정 "
   ]
  },
  {
   "cell_type": "markdown",
   "metadata": {},
   "source": [
    "## 5. TF-IDF 소개와 실습"
   ]
  },
  {
   "cell_type": "markdown",
   "metadata": {},
   "source": [
    "## 6. TF-IDF를 이용한 컨텐츠 기반 추천 엔진 실습"
   ]
  },
  {
   "cell_type": "markdown",
   "metadata": {},
   "source": [
    "![](./pic/.png) "
   ]
  }
 ],
 "metadata": {
  "language_info": {
   "name": "python"
  },
  "orig_nbformat": 4
 },
 "nbformat": 4,
 "nbformat_minor": 2
}

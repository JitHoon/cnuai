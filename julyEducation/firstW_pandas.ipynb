{
 "cells": [
  {
   "cell_type": "markdown",
   "metadata": {},
   "source": [
    "# 프로그래밍 기초 (Numpy, Pandas, Matplotlib)\n",
    "\n",
    "# Pandas\n",
    "- 파이썬 라이브러리 중 하나\n",
    "- 데이터 프레임을 다루기에 용이함\n",
    "\n",
    "## 1. Pandas 시작하기\n",
    "### (1) prerequisite : Table\n",
    "- pandas는 Table의 역할을 할 수 있다.\n",
    "- 즉, 행과 열을 이용해서 데이터를 저장하고 관리하는 자료구조(컨테이너)\n",
    "- 주로 행은 개체, 열은 속성을 나타낸다."
   ]
  },
  {
   "cell_type": "markdown",
   "metadata": {},
   "source": [
    "### (2) pandas import 하기"
   ]
  },
  {
   "cell_type": "code",
   "execution_count": 5,
   "metadata": {},
   "outputs": [],
   "source": [
    "import pandas as pd"
   ]
  },
  {
   "cell_type": "markdown",
   "metadata": {},
   "source": [
    "## 2. Pandas로 1차원 데이터 다루기 (pd.Series)\n",
    "- dic처럼 인덱스의 값을 지정해 줄 수 있는 1차원 **array**.\n",
    "\n",
    "### (1) pd.Series() 사용법"
   ]
  },
  {
   "cell_type": "code",
   "execution_count": 7,
   "metadata": {},
   "outputs": [
    {
     "name": "stdout",
     "output_type": "stream",
     "text": [
      "0     1\n",
      "1     4\n",
      "2     9\n",
      "3    16\n",
      "4    25\n",
      "dtype: int64\n",
      "one      1\n",
      "two      2\n",
      "three    3\n",
      "dtype: int64\n"
     ]
    }
   ],
   "source": [
    "import pandas as pd\n",
    "\n",
    "# list\n",
    "s = pd.Series([1, 4, 9, 16, 25])\n",
    "print(s) # 인덱스와 값이 출력된다.\n",
    "\n",
    "# dictionary\n",
    "t = pd.Series({'one':1, 'two':2, 'three':3})\n",
    "print(t)"
   ]
  },
  {
   "cell_type": "markdown",
   "metadata": {},
   "source": [
    "### (2) pd.Series()와 Numpy\n",
    "- series는 ndarray와 유사하다.\n",
    "- 조건을 붙여서 값을 불러올 수 있는 기능이 있다."
   ]
  },
  {
   "cell_type": "code",
   "execution_count": 12,
   "metadata": {},
   "outputs": [
    {
     "name": "stdout",
     "output_type": "stream",
     "text": [
      "4\n",
      "2\n",
      "two      2\n",
      "three    3\n",
      "dtype: int64\n",
      "3    16\n",
      "4    25\n",
      "dtype: int64\n",
      "3    16\n",
      "2     9\n",
      "4    25\n",
      "dtype: int64\n",
      "0    2.718282e+00\n",
      "1    5.459815e+01\n",
      "2    8.103084e+03\n",
      "3    8.886111e+06\n",
      "4    7.200490e+10\n",
      "dtype: float64\n"
     ]
    },
    {
     "data": {
      "text/plain": [
       "dtype('int64')"
      ]
     },
     "execution_count": 12,
     "metadata": {},
     "output_type": "execute_result"
    }
   ],
   "source": [
    "# index\n",
    "print(s[1])\n",
    "print(t[1])\n",
    "\n",
    "# slicing\n",
    "print(t[1:3])\n",
    "\n",
    "# 조건으로 불러올 수 있다.\n",
    "print(s[s > s.median()]) \n",
    "# 자신의 median(중앙값)보다 큰 값을 가져옴 (9보다 큰 값)\n",
    "\n",
    "# 원하는 인덱스 순서대로 불러오기\n",
    "print(s[[3, 2, 4]])\n",
    "\n",
    "# numpy와 함께 사용할 수 있다.\n",
    "import numpy as np\n",
    "print(np.exp(s))\n",
    "\n",
    "# cf. 데이터 타입 확인\n",
    "s.dtype"
   ]
  },
  {
   "cell_type": "markdown",
   "metadata": {},
   "source": [
    "### (3) pd.Series()와 Dictionary\n",
    "- series는 Dictionary와도 유사하다."
   ]
  },
  {
   "cell_type": "code",
   "execution_count": 17,
   "metadata": {},
   "outputs": [
    {
     "name": "stdout",
     "output_type": "stream",
     "text": [
      "2\n",
      "one      1\n",
      "two      2\n",
      "three    3\n",
      "four     4\n",
      "dtype: int64\n",
      "False\n",
      "18\n"
     ]
    }
   ],
   "source": [
    "# index\n",
    "print(t['two'])\n",
    "\n",
    "# 값 추가\n",
    "t['four']=4\n",
    "print(t)\n",
    "\n",
    "# key 값 유무 확인\n",
    "print('six' in t)\n",
    "\n",
    "# .get()으로 key값 유무 확인 후 없으면 원하는 값 반환\n",
    "print(t.get('six', 18))\n"
   ]
  },
  {
   "cell_type": "markdown",
   "metadata": {},
   "source": [
    "### (4) pd.Series()에 이름 붙이기\n",
    "- Series는 `name` 속성을 가진다.\n",
    "- 처음 Series를 만들 때 이름을 붙일 수 있다."
   ]
  },
  {
   "cell_type": "code",
   "execution_count": 22,
   "metadata": {},
   "outputs": [
    {
     "name": "stdout",
     "output_type": "stream",
     "text": [
      "0   -0.011571\n",
      "1    0.082735\n",
      "2    0.609933\n",
      "3   -0.404719\n",
      "4    0.569367\n",
      "Name: random_nums, dtype: float64\n"
     ]
    },
    {
     "data": {
      "text/plain": [
       "0   -0.011571\n",
       "1    0.082735\n",
       "2    0.609933\n",
       "3   -0.404719\n",
       "4    0.569367\n",
       "Name: 임의의 변수, dtype: float64"
      ]
     },
     "execution_count": 22,
     "metadata": {},
     "output_type": "execute_result"
    }
   ],
   "source": [
    "s = pd.Series(np.random.randn(5), name=\"random_nums\")\n",
    "print(s) # name을 붙여서 각 Series 관리 가능\n",
    "\n",
    "# 이름 변경\n",
    "s.name = \"임의의 변수\"\n",
    "s"
   ]
  }
 ],
 "metadata": {
  "interpreter": {
   "hash": "b0fa6594d8f4cbf19f97940f81e996739fb7646882a419484c72d19e05852a7e"
  },
  "kernelspec": {
   "display_name": "Python 3.9.13 64-bit",
   "language": "python",
   "name": "python3"
  },
  "language_info": {
   "codemirror_mode": {
    "name": "ipython",
    "version": 3
   },
   "file_extension": ".py",
   "mimetype": "text/x-python",
   "name": "python",
   "nbconvert_exporter": "python",
   "pygments_lexer": "ipython3",
   "version": "3.9.13"
  },
  "orig_nbformat": 4
 },
 "nbformat": 4,
 "nbformat_minor": 2
}

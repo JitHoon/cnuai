{
 "cells": [
  {
   "cell_type": "markdown",
   "metadata": {},
   "source": [
    "# Flask\n",
    "- Flask를 활용해서 REST API 구축하기\n",
    "- Python 기반 마이크로 웹 프레임워크 (가볍고 작은 프로젝트에 좋음)\n",
    "## 1. Flask 시작하기\n",
    "- 가상환경을 만든 후 Flask를 구축함"
   ]
  },
  {
   "cell_type": "code",
   "execution_count": null,
   "metadata": {
    "vscode": {
     "languageId": "bat"
    }
   },
   "outputs": [],
   "source": [
    "# 현재 디렉토리에 새 virtualenv 가상환경 설치하기\n",
    "pip install virtualenv\n",
    "\n",
    "# 현재 디렉토리에 새 virtualenv 가상환경 만들기 (venv는 통상적인 이름)\n",
    "virtualenv venv\n",
    "\n",
    "# 새 가상환경 venv에 진입하기\n",
    "source venv/bin/activate\n",
    "\n",
    "# 설치된 모듈 확인 (새로운 가상 환경이기 때문에 모듈이 하나도 설치되어있지 않음)\n",
    "pip freeze\n",
    "\n",
    "# flask 설치\n",
    "pip install flask\n",
    "\n",
    "# 간단한 앱 구현하기\n",
    "app.py (venv 파일 밖에 존재해야하며 flask run 을 할 때 파일 이름이 app.py 이어야 한다.)\n"
   ]
  },
  {
   "cell_type": "markdown",
   "metadata": {},
   "source": [
    "## `cf.` Web의 동작방식\n",
    "### 1. Client가 Server에 정보를 `Request` 한다.\n",
    "### 2. Server는 이 요청받은 정보에 대한 처리를 진행한다.\n",
    "### 3. Server가 Client에게 Request에 대해 `Response` 한다.\n",
    "\n",
    "#### `Request`(GET, POST 등)와 `Response`(HTML 등)는 `HTTP` 통신 방식(규칙)을 따른다.\n",
    "\n",
    "- 이런 동작 방식을 구현해주는 프레임 워크가 Flask와 Django이다."
   ]
  },
  {
   "cell_type": "markdown",
   "metadata": {},
   "source": [
    "## 2. API\n",
    "### 2-(1). `REST`(ful) `API`\n",
    "#### - `REST` : 웹 서버가 `Request`에 `Response`하는 방법론(생각하는 패러다임, 개발자간 약속, 기술은 아님)중 하나\n",
    "#### [`REST`(ful) 1] `HTTP URI`를 통해 자원을 명시하고, `HTTP Method`를 통해 해당 자원에 대한 CRUD를 진행\n",
    "#### - `HTTP URI` : 위치에 대한 식별자 ex) URL\n",
    "#### - `HTTP Method` : 요청 함수들, 같은 resorce(URI)에 대해서 다른 Action을 취할 수 있는 자원이라고 생각하는 것이 좋다.  ex) GET POST PUT DELETE\n",
    "#### [`REST`(ful) 2] Stateless (Client의 Context를 서버에서 유지하지 않는다. (각 Client들의 정보를 독립적으로 관리함))\n",
    "#### `POST/shoes`, `GET/shoes` 각 방식들은 서로 `독립적인 역할을 수행`함.\n",
    "#### ex) `POST/shoes` : 자원에 새로운 정보를 생성, `GET/shoes` : DB에서 새로운 shose가 있는지 확인 후 해당 자원 반환. "
   ]
  }
 ],
 "metadata": {
  "language_info": {
   "name": "python"
  },
  "orig_nbformat": 4
 },
 "nbformat": 4,
 "nbformat_minor": 2
}

{
 "cells": [
  {
   "cell_type": "markdown",
   "metadata": {},
   "source": [
    "# 자료구조와 알고리즘 (Data Structure, Algorithm)"
   ]
  },
  {
   "cell_type": "markdown",
   "metadata": {},
   "source": [
    "## 0-(1). python의 data type\n",
    "### `string` = `\" \"`, `list` = `[ ]`, `dictionary` = `{ : }`\n",
    "### `tuple` = `( )`, `set` = `{ }`"
   ]
  },
  {
   "cell_type": "markdown",
   "metadata": {},
   "source": [
    "## 0-(2). Data Structure를 알아야하는 이유!\n",
    "#### : `프로그램 실행 시간을 줄이기 위해서~`\n",
    "#### : 따라서, 내가 시도하려는 `프로젝트에 이용하려는 자료구조가 어떤 성질을 가져야 하는가`를 생각해야 한다.\n",
    "#### : 해결하고자 하는 문제에 맞는 `최적의 풀이 방법`이 다르기 때문임,"
   ]
  },
  {
   "cell_type": "markdown",
   "metadata": {},
   "source": [
    "## 0-(3). algirithm 이란?\n",
    "#### : 주어진 프로젝트 해결을 위한 `자료구조와 연산 방법에 대한 선택`"
   ]
  },
  {
   "cell_type": "markdown",
   "metadata": {},
   "source": [
    "## 1. Data Structure 종류\n",
    "## (1)`Linear Array` (선형 배열) by. `list` = `[ ]`\n",
    "### a. 배열에 원소 덧붙이기\n",
    "#### - `.append(`맨 끝에 추가할 내용`)`\n",
    "#### - `.pop()`\n",
    "#### - `.insert(`추가할 자리 지정,추가할 내용`)`\n",
    "#### - `del(`변수[지우고 싶은 자리]`)`"
   ]
  },
  {
   "cell_type": "code",
   "execution_count": 6,
   "metadata": {},
   "outputs": [
    {
     "name": "stdout",
     "output_type": "stream",
     "text": [
      "[1, 2, 3, 4, 5]\n",
      "[1, 2, 3, 4]\n",
      "[1, 2, 5, 3, 4]\n",
      "[1, 2, 3, 4]\n"
     ]
    }
   ],
   "source": [
    "list = [1, 2, 3, 4]\n",
    "\n",
    "# list가 길어져도 실행 시간이 빠른 연산들 append, pop\n",
    "# .append(맨 끝에 추가할 내용)\n",
    "list.append(5)\n",
    "print(list)\n",
    "\n",
    "# .pop()\n",
    "list.pop()\n",
    "print(list)\n",
    "\n",
    "# list가 길어지면 실행 시간이 느려지는 연산들 insert, del\n",
    "# .insert(추가할 자리 지정,추가할 내용)\n",
    "list.insert(2,5)\n",
    "print(list)\n",
    "\n",
    "# del(변수[지우고 싶은 자리])\n",
    "del(list[2])\n",
    "print(list)"
   ]
  },
  {
   "cell_type": "markdown",
   "metadata": {},
   "source": [
    "### b. 배열 원소 indexing하기\n",
    "#### - `.index(`찾고자 하는 원소 내용`)`"
   ]
  },
  {
   "cell_type": "code",
   "execution_count": 9,
   "metadata": {},
   "outputs": [
    {
     "name": "stdout",
     "output_type": "stream",
     "text": [
      "0\n"
     ]
    }
   ],
   "source": [
    "list = ['일번', 2, 3, 4]\n",
    "print(list.index('일번')) # 인덱스 위치 반환"
   ]
  }
 ],
 "metadata": {
  "interpreter": {
   "hash": "b0fa6594d8f4cbf19f97940f81e996739fb7646882a419484c72d19e05852a7e"
  },
  "kernelspec": {
   "display_name": "Python 3.9.13 64-bit",
   "language": "python",
   "name": "python3"
  },
  "language_info": {
   "codemirror_mode": {
    "name": "ipython",
    "version": 3
   },
   "file_extension": ".py",
   "mimetype": "text/x-python",
   "name": "python",
   "nbconvert_exporter": "python",
   "pygments_lexer": "ipython3",
   "version": "3.9.13"
  },
  "orig_nbformat": 4
 },
 "nbformat": 4,
 "nbformat_minor": 2
}

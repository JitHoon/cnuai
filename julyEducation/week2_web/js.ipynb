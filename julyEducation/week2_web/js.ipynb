{
 "cells": [
  {
   "cell_type": "markdown",
   "metadata": {},
   "source": [
    "# 웹서비스 이론 및 구축 실습 Ⅰ\n",
    "- Jupyter 노트북에서 js 사용하기: https://yiyudesign.tistory.com/entry/%EC%A3%BC%ED%94%BC%ED%84%B0-%EB%85%B8%ED%8A%B8%EB%B6%81-%EC%A3%BC%ED%94%BC%ED%84%B0%EC%97%90%EC%84%9C-%EC%9E%90%EB%B0%94%EC%8A%A4%ED%81%AC%EB%A6%BD%ED%8A%B8-%EC%93%B0%EA%B8%B0?category=973513\n",
    "## Basic JS\n",
    "\n",
    "### 1. 실습 환경 만들기"
   ]
  },
  {
   "cell_type": "markdown",
   "metadata": {},
   "source": [
    "#### (1) `<meta>` 태그\n",
    "##### `<meta charset=\"문자셋\">` :  meta 태그의 charset 속성은 해당 HTML 문서의 문자 인코딩 방식을 명시합니다.\n",
    "- 유니코드(Unicode)를 위한 문자셋인 UTF-8이 가장 많이 사용됨."
   ]
  },
  {
   "cell_type": "code",
   "execution_count": null,
   "metadata": {
    "vscode": {
     "languageId": "html"
    }
   },
   "outputs": [],
   "source": [
    "<html>\n",
    "    <head>\n",
    "        <meta charset=\"UTF-8\">\n",
    "        <script src=\"lecture01.js\"></script>\n",
    "    </head>\n",
    "    <body>\n",
    "        First Web Page.\n",
    "    </body>\n",
    "</html>"
   ]
  },
  {
   "cell_type": "markdown",
   "metadata": {},
   "source": [
    "#### (2) Developer Console 사용하기\n",
    "- The Developer Console is an `integrated development environment` \n",
    "- `with a collection` of tools you can use to `create, debug, and test applications`"
   ]
  },
  {
   "cell_type": "code",
   "execution_count": null,
   "metadata": {
    "vscode": {
     "languageId": "javascript"
    }
   },
   "outputs": [],
   "source": [
    "console.log(\"Hi\")"
   ]
  },
  {
   "cell_type": "markdown",
   "metadata": {},
   "source": [
    "### 2. JS 기본 문법\n",
    "#### (1) 변수 선언과 초기화"
   ]
  },
  {
   "cell_type": "code",
   "execution_count": null,
   "metadata": {
    "vscode": {
     "languageId": "javascript"
    }
   },
   "outputs": [],
   "source": [
    "var a = 10;"
   ]
  },
  {
   "cell_type": "markdown",
   "metadata": {},
   "source": [
    "#### (2) 변수의 활용"
   ]
  },
  {
   "cell_type": "code",
   "execution_count": null,
   "metadata": {
    "vscode": {
     "languageId": "javascript"
    }
   },
   "outputs": [],
   "source": [
    "var name = prompt(\"이름을 입력하세요 : \");\n",
    "console.log(name, \"님 환영합니다.\"); // 문자열로 반환"
   ]
  },
  {
   "cell_type": "markdown",
   "metadata": {},
   "source": [
    "#### (3) 기본 자료형\n",
    "- 변수에 저장할 수 있는 값의 종류\n",
    "- `number, string, boolean, object`"
   ]
  },
  {
   "cell_type": "code",
   "execution_count": null,
   "metadata": {
    "vscode": {
     "languageId": "javascript"
    }
   },
   "outputs": [],
   "source": [
    "var number = 100\n",
    "var string = \"Hi\"\n",
    "var boolean = true // js는 소문자, python은 대문자\n",
    "\n",
    "typeof(number, string, boolean);"
   ]
  },
  {
   "cell_type": "markdown",
   "metadata": {},
   "source": [
    "#### (3)-1. number\n",
    "- `int, float, NaN, Infinity`\n",
    "- `parseInt(), parseFloat()`"
   ]
  },
  {
   "cell_type": "code",
   "execution_count": null,
   "metadata": {
    "vscode": {
     "languageId": "javascript"
    }
   },
   "outputs": [],
   "source": [
    "var height = prompt(\"키를 입력하세요 : \");\n",
    "var heightInt = parseInt(height);\n",
    "var heightFloat = parseFloat(height);\n",
    "\n",
    "console(heightInt, typeof(heightInt));\n",
    "console(heightFloat, typeof(heightFloat));\n",
    "\n",
    "// 나의 키는 180.5 입니다. 라고 입력했을 때\n",
    "// 각각 180 \"number\"과 180.5 \"number\"를 출력\n",
    "\n",
    "// 180 라고 입력했을 때\n",
    "// NaN : Not A Number 을 출력\n",
    "\n",
    "// Infinity number 결과값도 존재함\n"
   ]
  },
  {
   "cell_type": "markdown",
   "metadata": {},
   "source": [
    "#### (3)-2. string\n",
    "#### \"\", ''\n",
    "#### \" ' \", ' \" '\n",
    "#### \" \\\" \\\" or \\' \\' \", ' \\\" \\\" or \\' \\' '\n",
    "#### \" \\n \", ' \\n '"
   ]
  },
  {
   "cell_type": "code",
   "execution_count": null,
   "metadata": {
    "vscode": {
     "languageId": "javascript"
    }
   },
   "outputs": [],
   "source": [
    "var string1 = \"기본\"\n",
    "var string2 = '기본'\n",
    "\n",
    "var string3 = \" ' \" // ' 출력\n",
    "var string4 = ' \" ' // \" 출력\n",
    "\n",
    "var string5 = \" \\' 작은 따옴표 사용 가능 \\', \\\" 큰 따옴표 사용 가능 \\\" \"\n",
    "var string6 = ' \\' 작은 따옴표 사용 가능 \\', \\\" 큰 따옴표 사용 가능 \\\" '\n",
    "\n",
    "var string = \" \\\\ \" // \\ 만 출력\n",
    "var string = \" \\n \" // 줄 바꿈"
   ]
  },
  {
   "cell_type": "markdown",
   "metadata": {},
   "source": [
    "#### (3)-3. object (객체)\n",
    "- 객체안의 자료형들을 속성이라고 부른다.\n",
    "- 속성은 모든 자료형으로 선언 될 수 있다. (object도 포함된다.)"
   ]
  },
  {
   "cell_type": "code",
   "execution_count": null,
   "metadata": {
    "vscode": {
     "languageId": "javascript"
    }
   },
   "outputs": [],
   "source": [
    "var object = {\n",
    "    name:\"최지훈\", \n",
    "    height:175, \n",
    "    male:true, \n",
    "    personality:['nice', 'hummble']\n",
    "};\n",
    "\n",
    "object.male;"
   ]
  },
  {
   "cell_type": "markdown",
   "metadata": {},
   "source": [
    "### 3. undefined, null"
   ]
  },
  {
   "cell_type": "markdown",
   "metadata": {},
   "source": [
    "#### (1) `underfined`\n",
    "- 변수나 속성이 정의되지 않은 경우를 표현.\n",
    "\n",
    "#### (2) `null`\n",
    "- 값이 들어가 있지만 빈객체를 표현함."
   ]
  },
  {
   "cell_type": "markdown",
   "metadata": {},
   "source": [
    "### 4. 산술 연산자\n",
    "#### (1) 여러가지 연산자\n",
    "#### `+, -,*, /`\n",
    "#### `%` : 몫\n",
    "#### `- 변수` : 음수 표현\n",
    "#### `++변수`, `--변수` : 값을 변경 후 출력\n",
    "#### `변수++`, `변수--` : 값을 출력 후 변경\n",
    "\n",
    "#### (2) Math 객체 : `Math.()`\n"
   ]
  },
  {
   "cell_type": "code",
   "execution_count": null,
   "metadata": {
    "vscode": {
     "languageId": "javascript"
    }
   },
   "outputs": [],
   "source": [
    "Math.pow(2,3); // 2의 3 제곱근\n",
    "Math.sqrt(16); // 루트 16\n",
    "Math.random(); // 난수 생성"
   ]
  },
  {
   "cell_type": "markdown",
   "metadata": {},
   "source": [
    "### 5. 함수"
   ]
  },
  {
   "cell_type": "code",
   "execution_count": null,
   "metadata": {
    "vscode": {
     "languageId": "javascript"
    }
   },
   "outputs": [],
   "source": [
    "function jithub(){}\n",
    "\n",
    "function jithub(variable1, variable2){\n",
    "    // 실행할 코드\n",
    "    return ;\n",
    "}\n"
   ]
  },
  {
   "cell_type": "markdown",
   "metadata": {},
   "source": [
    "### 6. 관계연산자 (Relational Operation), 논리연산자 (Logical Operation)\n",
    "#### (1) 관계연산자 : 두 개의 피연산자를 비교, Boolean으로 반환\n",
    "- `>, <, >=, <=, ==, !=`\n",
    "- `string` 비교시 사전순으로 크기를 비교함\n",
    "###  \n",
    "#### (2) 논리연산자 : 논리식을 판단하여 Boolean 반환\n",
    "- `&&` : AND, `||` : OR, `!` : NOT"
   ]
  },
  {
   "cell_type": "markdown",
   "metadata": {},
   "source": [
    "### 7. 연산 우선순위\n",
    "#### ()\n",
    "#### 첫번째 : `!`\n",
    "#### 두번째 : `+`, `-`, `*`, `/`, `%`\n",
    "#### 새번째 : `>`, `<`, `>=`, `<=`, `==`, `!=`\n",
    "#### 네번째 : `&&`\n",
    "#### 다섯번째 : `||`"
   ]
  },
  {
   "cell_type": "markdown",
   "metadata": {},
   "source": [
    "### 8. string 길이 알아내기와 이어 붙이기\n",
    "#### (1) `변수.length;`, `str[\" \"];`"
   ]
  },
  {
   "cell_type": "code",
   "execution_count": null,
   "metadata": {
    "vscode": {
     "languageId": "javascript"
    }
   },
   "outputs": [],
   "source": [
    "var str = \"jit hub\";\n",
    "\n",
    "str.length;\n",
    "str[\"Hi\"];"
   ]
  },
  {
   "cell_type": "markdown",
   "metadata": {},
   "source": [
    "#### (2) string + string + number"
   ]
  },
  {
   "cell_type": "code",
   "execution_count": null,
   "metadata": {
    "vscode": {
     "languageId": "javascript"
    }
   },
   "outputs": [],
   "source": [
    "\"hi\" + \" jit\" + 123"
   ]
  },
  {
   "cell_type": "markdown",
   "metadata": {},
   "source": [
    "#### (3) string indexing"
   ]
  },
  {
   "cell_type": "code",
   "execution_count": null,
   "metadata": {
    "vscode": {
     "languageId": "javascript"
    }
   },
   "outputs": [],
   "source": [
    "var str = \"abcdefgb\";\n",
    "\n",
    "str[2];\n",
    "\n",
    "str.substring(2, 4); // \"cd\" 출력\n",
    "str.substr(2, 4);    // \"cdef\" 출력\n",
    "str.substr(-2);      // \"fg\" 출력\n",
    "\n",
    "str.indexOf(\"bc\");     // b의 처음 index 위치를 반환 : 1\n",
    "str.lastIndexOf(\"bc\")  // b의 마지막 index 위치를 반환 : 7\n",
    "str.lastIndexOf(\"z\")  // 없는 문자 호출 시 -1 반환"
   ]
  },
  {
   "cell_type": "markdown",
   "metadata": {},
   "source": [
    "### 9. 배열 `[]`\n",
    "#### (1) 선언 방법"
   ]
  },
  {
   "cell_type": "code",
   "execution_count": null,
   "metadata": {
    "vscode": {
     "languageId": "javascript"
    }
   },
   "outputs": [],
   "source": [
    "var arr=[3.14, true, \"str\", {name:\"jithub\"}, [1,2,3]];"
   ]
  },
  {
   "cell_type": "markdown",
   "metadata": {},
   "source": [
    "#### (2) 배열 활용\n",
    "- `변수.shift()`, `변수.pop()` : 각각 없어지는 값 반환 후 배열의 가장 앞, 뒤 index 삭제\n",
    "- `변수.unshift()`, `변수.push()` : 각각 없어지는 값 반환 후 배열의 가장 앞, 뒤 index 삭제\n",
    "- `변수.reverse()`, `변수.sort()` : 배열 값을 뒤집거나 정렬해 준다."
   ]
  },
  {
   "cell_type": "markdown",
   "metadata": {},
   "source": [
    "#### (3) 문자열 배열로 반환하기\n",
    "- `변수.split()`"
   ]
  },
  {
   "cell_type": "code",
   "execution_count": null,
   "metadata": {
    "vscode": {
     "languageId": "javascript"
    }
   },
   "outputs": [],
   "source": [
    "str = \"1, 2, 3, 4, 5\";\n",
    "str.split(\",\");"
   ]
  },
  {
   "cell_type": "markdown",
   "metadata": {},
   "source": [
    "### ☘️ Tip \n",
    "#### 정규 표현식 사용해보기 \n",
    "- 정규 표현식, 또는 정규식은 문자열에서 특정 문자 조합을 찾기 위한 패턴입니다.\n",
    "#### https://developer.mozilla.org/ko/docs/Web/JavaScript/Guide/Regular_Expressions"
   ]
  },
  {
   "cell_type": "markdown",
   "metadata": {},
   "source": [
    "### cf. 주석\n",
    "#### `/**/` : 여러 줄\n",
    "#### '//' : 한 줄"
   ]
  },
  {
   "cell_type": "markdown",
   "metadata": {},
   "source": [
    "### 10. if문 : `if(조건){}else if(조건){}else{}`"
   ]
  },
  {
   "cell_type": "code",
   "execution_count": null,
   "metadata": {
    "vscode": {
     "languageId": "javascript"
    }
   },
   "outputs": [],
   "source": [
    "if( 조건 ){\n",
    "\n",
    "}\n",
    "else if( 조건 ){\n",
    "\n",
    "}\n",
    "else{\n",
    "    \n",
    "}"
   ]
  },
  {
   "cell_type": "markdown",
   "metadata": {},
   "source": [
    "### 11. switch문 : `switch(조건){case : break;}`"
   ]
  },
  {
   "cell_type": "code",
   "execution_count": null,
   "metadata": {
    "vscode": {
     "languageId": "javascript"
    }
   },
   "outputs": [],
   "source": [
    "switch( 변수 ){\n",
    "    case 변수종류 : \n",
    "    // 실행할 코드\n",
    "    break;\n",
    "}"
   ]
  },
  {
   "cell_type": "markdown",
   "metadata": {},
   "source": [
    "### 12. while문, do while문 : `while(조건){}`, `do{}while(조건);`\n",
    "#### `do{}while(조건);` : 우선 do 내용을 실행하고 while 조건으로 멈출지말지 결정"
   ]
  },
  {
   "cell_type": "code",
   "execution_count": null,
   "metadata": {
    "vscode": {
     "languageId": "javascript"
    }
   },
   "outputs": [],
   "source": [
    "do{\n",
    "\n",
    "}while( 조건 );"
   ]
  },
  {
   "cell_type": "markdown",
   "metadata": {},
   "source": [
    "### 13. for문\n",
    "#### (1) `for( 변수 초기 조건 ; 반복 조건 ; 변수 업데이트 ){}`"
   ]
  },
  {
   "cell_type": "code",
   "execution_count": null,
   "metadata": {
    "vscode": {
     "languageId": "javascript"
    }
   },
   "outputs": [],
   "source": [
    "for( i=0 ; i<10 ; i++ ){\n",
    "    \n",
    "}"
   ]
  },
  {
   "cell_type": "markdown",
   "metadata": {},
   "source": [
    "#### (2) `for( var 변수이름 in object ){}`"
   ]
  },
  {
   "cell_type": "code",
   "execution_count": null,
   "metadata": {
    "vscode": {
     "languageId": "javascript"
    }
   },
   "outputs": [],
   "source": [
    "for( var propertyName in object ){\n",
    "    console.log(\"\\t\", propertyName, ':', object[propertyName])\n",
    "}\n",
    "\n",
    "// object key값들을 순차적으로 출력\n",
    "\n",
    "// cf. object에 key 값이 있는지 확인하는 연산자 : in, Boolean 봔환\n",
    "\"height\" in object; // true"
   ]
  },
  {
   "cell_type": "markdown",
   "metadata": {},
   "source": [
    "### 14. `variable scope` (변수 유효범위)\n",
    "#### 변수의 scope은 `function의 scope을 따른다.`\n",
    "- 객체(변수)는 선언된 함수 안에서만 접근이 가능하다."
   ]
  },
  {
   "cell_type": "markdown",
   "metadata": {},
   "source": [
    "### 15. `variable Shadowing` (변수 그림자)\n",
    "#### 함수 안의 변수와 함수 밖의 변수가 동일할 때 동작하는 방식"
   ]
  },
  {
   "cell_type": "code",
   "execution_count": null,
   "metadata": {
    "vscode": {
     "languageId": "javascript"
    }
   },
   "outputs": [],
   "source": [
    "// 따로 함수에 같은 변수가 없다면 main 변수를 들고와서 사용한다.\n",
    "function shadowing(){\n",
    "    console.log(\"function var\", func);\n",
    "    func++;\n",
    "}\n",
    "\n",
    "var func = 0;\n",
    "\n",
    "shadowing();                    // 0 출력\n",
    "console.log(\"main var\", func);  // 1 출력"
   ]
  },
  {
   "cell_type": "code",
   "execution_count": null,
   "metadata": {
    "vscode": {
     "languageId": "javascript"
    }
   },
   "outputs": [],
   "source": [
    "// 함수에 main과 같은 이름의 변수를 선언하였다면 함수 안에서는 main 변수를 가리고 함수 속 변수를 사용한다.\n",
    "function shadowing(){\n",
    "    var func = 5;\n",
    "    console.log(\"function var\", func);\n",
    "    func++;\n",
    "}\n",
    "\n",
    "var func = 0;\n",
    "\n",
    "shadowing();                    // 5 출력\n",
    "console.log(\"main var\", func);  // 0 출력"
   ]
  },
  {
   "cell_type": "markdown",
   "metadata": {},
   "source": [
    "### 16. `Method` \n",
    "#### `객체 프로퍼티에 할당된 function`을 `method`라고 부른다.\n",
    "#### 메서드는 객체에 저장된 정보에 접근할 수 있어야 제 역할을 할 수 있습니다. \n",
    "#### 모든 메서드가 그런 건 아니지만, 대부분의 메서드가 객체 프로퍼티의 값을 활용합니다.\n",
    "\n",
    "https://ko.javascript.info/object-methods"
   ]
  },
  {
   "cell_type": "code",
   "execution_count": null,
   "metadata": {
    "vscode": {
     "languageId": "javascript"
    }
   },
   "outputs": [],
   "source": [
    "let user = {\n",
    "    name: \"John\",\n",
    "    age: 30,\n",
    "  \n",
    "    sayHi() {\n",
    "      // 'this'는 '현재 객체'를 나타냅니다.\n",
    "      //user.sayHi()가 실행되는 동안에 this는 user를 나타냅니다.\n",
    "      alert(this.name);\n",
    "      //alert(user.name); 와 동일한 역할\n",
    "    }// sayHi는 Method이다.\n",
    "  \n",
    "  };\n",
    "  \n",
    "  user.sayHi(); // John  "
   ]
  },
  {
   "cell_type": "markdown",
   "metadata": {},
   "source": [
    "### 17. `This`\n",
    "#### `예약어`이다.\n",
    "#### `함수가 불렸을 때 어떤 객체의 바인드된 속성으로써 불렸는지` 알 수 있게 해준다."
   ]
  },
  {
   "cell_type": "code",
   "execution_count": null,
   "metadata": {
    "vscode": {
     "languageId": "javascript"
    }
   },
   "outputs": [],
   "source": [
    "function f(){\n",
    "    console.log(this);\n",
    "    console.log(\"f is called\");\n",
    "}\n",
    "\n",
    "var o = {name : \"object\", method:f}\n",
    "\n",
    "f();        // window에서 \n",
    "o.method(); // object에서 호출도었다고 this를 통해 출력됨"
   ]
  },
  {
   "cell_type": "markdown",
   "metadata": {},
   "source": [
    "### 17. `Closure`\n",
    "#### "
   ]
  }
 ],
 "metadata": {
  "interpreter": {
   "hash": "b0fa6594d8f4cbf19f97940f81e996739fb7646882a419484c72d19e05852a7e"
  },
  "kernelspec": {
   "display_name": "Python 3.9.13 64-bit",
   "language": "python",
   "name": "python3"
  },
  "language_info": {
   "codemirror_mode": {
    "name": "ipython",
    "version": 3
   },
   "file_extension": ".py",
   "mimetype": "text/x-python",
   "name": "python",
   "nbconvert_exporter": "python",
   "pygments_lexer": "ipython3",
   "version": "3.9.13"
  },
  "orig_nbformat": 4
 },
 "nbformat": 4,
 "nbformat_minor": 2
}

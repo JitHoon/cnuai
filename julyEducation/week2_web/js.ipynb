{
 "cells": [
  {
   "cell_type": "markdown",
   "metadata": {},
   "source": [
    "# 웹서비스 이론 및 구축 실습 Ⅰ\n",
    "- Jupyter 노트북에서 js 사용하기: https://yiyudesign.tistory.com/entry/%EC%A3%BC%ED%94%BC%ED%84%B0-%EB%85%B8%ED%8A%B8%EB%B6%81-%EC%A3%BC%ED%94%BC%ED%84%B0%EC%97%90%EC%84%9C-%EC%9E%90%EB%B0%94%EC%8A%A4%ED%81%AC%EB%A6%BD%ED%8A%B8-%EC%93%B0%EA%B8%B0?category=973513\n",
    "## Basic JS\n",
    "\n",
    "### 1. 실습 환경 만들기"
   ]
  },
  {
   "cell_type": "markdown",
   "metadata": {},
   "source": [
    "### (1) `<meta>` 태그\n",
    "##### `<meta charset=\"문자셋\">` :  meta 태그의 charset 속성은 해당 HTML 문서의 문자 인코딩 방식을 명시합니다.\n",
    "- 유니코드(Unicode)를 위한 문자셋인 UTF-8이 가장 많이 사용됨."
   ]
  },
  {
   "cell_type": "code",
   "execution_count": null,
   "metadata": {
    "vscode": {
     "languageId": "html"
    }
   },
   "outputs": [],
   "source": [
    "<html>\n",
    "    <head>\n",
    "        <meta charset=\"UTF-8\">\n",
    "        <script src=\"lecture01.js\"></script>\n",
    "    </head>\n",
    "    <body>\n",
    "        First Web Page.\n",
    "    </body>\n",
    "</html>"
   ]
  },
  {
   "cell_type": "markdown",
   "metadata": {},
   "source": [
    "### (2) Developer Console 사용하기\n",
    "- The Developer Console is an `integrated development environment` \n",
    "- `with a collection` of tools you can use to `create, debug, and test applications`"
   ]
  },
  {
   "cell_type": "code",
   "execution_count": null,
   "metadata": {
    "vscode": {
     "languageId": "javascript"
    }
   },
   "outputs": [],
   "source": [
    "console.log(\"Hi\")"
   ]
  },
  {
   "cell_type": "markdown",
   "metadata": {},
   "source": [
    "### (3) 변수 선언과 초기화"
   ]
  },
  {
   "cell_type": "code",
   "execution_count": null,
   "metadata": {
    "vscode": {
     "languageId": "javascript"
    }
   },
   "outputs": [],
   "source": [
    "var a = 10;"
   ]
  },
  {
   "cell_type": "markdown",
   "metadata": {},
   "source": [
    "### (4) 변수의 활용"
   ]
  },
  {
   "cell_type": "code",
   "execution_count": null,
   "metadata": {
    "vscode": {
     "languageId": "javascript"
    }
   },
   "outputs": [],
   "source": [
    "var name = prompt(\"이름을 입력하세요 : \");\n",
    "console.log(name, \"님 환영합니다.\"); // 문자열로 반환"
   ]
  },
  {
   "cell_type": "markdown",
   "metadata": {},
   "source": [
    "### (5) 기본 자료형\n",
    "- 변수에 저장할 수 있는 값의 종류\n",
    "- number, string, boolean, object"
   ]
  },
  {
   "cell_type": "code",
   "execution_count": null,
   "metadata": {
    "vscode": {
     "languageId": "javascript"
    }
   },
   "outputs": [],
   "source": [
    "var number = 100\n",
    "var string = \"Hi\"\n",
    "var boolean = true // js는 소문자, python은 대문자\n",
    "\n",
    "typeof(number, string, boolean);"
   ]
  },
  {
   "cell_type": "markdown",
   "metadata": {},
   "source": [
    "### (5)-1 number\n",
    "- int, float, NaN, Infinity\n",
    "- parseInt(), parseFloat()"
   ]
  },
  {
   "cell_type": "code",
   "execution_count": null,
   "metadata": {
    "vscode": {
     "languageId": "javascript"
    }
   },
   "outputs": [],
   "source": [
    "var height = prompt(\"키를 입력하세요 : \");\n",
    "var heightInt = parseInt(height);\n",
    "var heightFloat = parseFloat(height);\n",
    "\n",
    "console(heightInt, typeof(heightInt));\n",
    "console(heightFloat, typeof(heightFloat));\n",
    "\n",
    "// 나의 키는 180.5 입니다. 라고 입력했을 때\n",
    "// 각각 180 \"number\"과 180.5 \"number\"를 출력\n",
    "\n",
    "// 180 라고 입력했을 때\n",
    "// NaN : Not A Number 을 출력\n",
    "\n",
    "// Infinity number 결과값도 존재함\n"
   ]
  },
  {
   "cell_type": "markdown",
   "metadata": {},
   "source": [
    "### (5)-2 string\n",
    "#### \"\", ''\n",
    "#### \" ' \", ' \" '\n",
    "#### \" \\\" \\\" or \\' \\' \", ' \\\" \\\" or \\' \\' '\n",
    "#### \" \\n \", ' \\n '"
   ]
  },
  {
   "cell_type": "code",
   "execution_count": null,
   "metadata": {
    "vscode": {
     "languageId": "javascript"
    }
   },
   "outputs": [],
   "source": [
    "var string1 = \"기본\"\n",
    "var string2 = '기본'\n",
    "\n",
    "var string3 = \" ' \" // ' 출력\n",
    "var string4 = ' \" ' // \" 출력\n",
    "\n",
    "var string5 = \" \\' 작은 따옴표 사용 가능 \\', \\\" 큰 따옴표 사용 가능 \\\" \"\n",
    "var string6 = ' \\' 작은 따옴표 사용 가능 \\', \\\" 큰 따옴표 사용 가능 \\\" '\n",
    "\n",
    "var string = \" \\\\ \" // \\ 만 출력\n",
    "var string = \" \\n \" // 줄 바꿈"
   ]
  },
  {
   "cell_type": "markdown",
   "metadata": {},
   "source": [
    "### (5)-2 object (객체)"
   ]
  }
 ],
 "metadata": {
  "interpreter": {
   "hash": "b0fa6594d8f4cbf19f97940f81e996739fb7646882a419484c72d19e05852a7e"
  },
  "kernelspec": {
   "display_name": "Python 3.9.13 64-bit",
   "language": "python",
   "name": "python3"
  },
  "language_info": {
   "codemirror_mode": {
    "name": "ipython",
    "version": 3
   },
   "file_extension": ".py",
   "mimetype": "text/x-python",
   "name": "python",
   "nbconvert_exporter": "python",
   "pygments_lexer": "ipython3",
   "version": "3.9.13"
  },
  "orig_nbformat": 4
 },
 "nbformat": 4,
 "nbformat_minor": 2
}

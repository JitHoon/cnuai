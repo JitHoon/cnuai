{
 "cells": [
  {
   "cell_type": "markdown",
   "metadata": {},
   "source": [
    "# 자료구조와 알고리즘 (Data Structure, Algorithm)"
   ]
  },
  {
   "cell_type": "markdown",
   "metadata": {},
   "source": [
    "## 0-(1). python의 data type\n",
    "### `string` = `\" \"`, `list` = `[ ]`, `dictionary` = `{ : }`\n",
    "### `tuple` = `( )`, `set` = `{ }`"
   ]
  },
  {
   "cell_type": "markdown",
   "metadata": {},
   "source": [
    "## 0-(2). Data Structure를 알아야하는 이유!\n",
    "#### : `프로그램 실행 시간을 줄이기 위해서~`\n",
    "#### : 따라서, 내가 시도하려는 `프로젝트에 이용하려는 자료구조가 어떤 성질을 가져야 하는가`를 생각해야 한다.\n",
    "#### : 해결하고자 하는 문제에 맞는 `최적의 풀이 방법`이 다르기 때문임,"
   ]
  },
  {
   "cell_type": "markdown",
   "metadata": {},
   "source": [
    "## 0-(3). algirithm 이란?\n",
    "#### : 주어진 프로젝트 해결을 위한 `자료구조와 연산 방법에 대한 선택`\n",
    "\n",
    "#### cf. `Big O lotation 표현법` : algorithm의 복잡도 정도를 나타내는 표현법"
   ]
  },
  {
   "cell_type": "markdown",
   "metadata": {},
   "source": [
    "## 1. Data Structure 종류\n",
    "## (1) `Linear Array` (선형 배열) by. `list` = `[ ]`\n",
    "### a. 배열에 원소 덧붙이기\n",
    "#### - `.append(`맨 끝에 추가할 내용`)`\n",
    "#### - `.pop()`\n",
    "#### - `.insert(`추가할 자리 지정,추가할 내용`)`\n",
    "#### - `del(`변수[지우고 싶은 자리]`)`"
   ]
  },
  {
   "cell_type": "code",
   "execution_count": 6,
   "metadata": {},
   "outputs": [
    {
     "name": "stdout",
     "output_type": "stream",
     "text": [
      "[1, 2, 3, 4, 5]\n",
      "[1, 2, 3, 4]\n",
      "[1, 2, 5, 3, 4]\n",
      "[1, 2, 3, 4]\n"
     ]
    }
   ],
   "source": [
    "list = [1, 2, 3, 4]\n",
    "\n",
    "# list가 길어져도 실행 시간이 빠른 연산들 append, pop\n",
    "# .append(맨 끝에 추가할 내용)\n",
    "list.append(5)\n",
    "print(list)\n",
    "\n",
    "# .pop()\n",
    "list.pop()\n",
    "print(list)\n",
    "\n",
    "# list가 길어지면 실행 시간이 느려지는 연산들 insert, del\n",
    "# .insert(추가할 자리 지정,추가할 내용)\n",
    "list.insert(2,5)\n",
    "print(list)\n",
    "\n",
    "# del(변수[지우고 싶은 자리])\n",
    "del(list[2])\n",
    "print(list)"
   ]
  },
  {
   "cell_type": "markdown",
   "metadata": {},
   "source": [
    "### b. 배열 원소 indexing하기\n",
    "#### - `.index(`찾고자 하는 원소 내용`)`"
   ]
  },
  {
   "cell_type": "code",
   "execution_count": 9,
   "metadata": {},
   "outputs": [
    {
     "name": "stdout",
     "output_type": "stream",
     "text": [
      "0\n"
     ]
    }
   ],
   "source": [
    "list = ['일번', 2, 3, 4]\n",
    "print(list.index('일번')) # 인덱스 위치 반환"
   ]
  },
  {
   "cell_type": "markdown",
   "metadata": {},
   "source": [
    "## 2. Algorithm 종류\n",
    "- cf. 소요 시간이 list의 길이에 비례하는 알고리즘 = `O(n)`\n",
    "- cf. divide & conquer 알고리즘 (이진 탐색) = `O(log(n))`\n",
    "## (1) `Sort` (정렬)\n",
    "### a. list변수`.sort()` : `method`, 이미 선언된 list를 정렬\n",
    "### b. `sorted(`변수`)` : `function`, 이미 선언된 list를 정렬 후 새로운 리스트 생성"
   ]
  },
  {
   "cell_type": "markdown",
   "metadata": {},
   "source": [
    "#### cf. function과 method의 차이점\n",
    "#### - `method` : 클래스, 구조체, 열거형에 포함되어있는 \"함수\"를 메소드라고 부릅니다. = \"클래스 함수\"\n",
    "#### - `function` : 특정 작업을 수행하는 \"코드조각\"이에요. 전역, 지역이던 \"독립된 기능\"을 수행하는 단위죠. \n",
    "\n",
    "- 출처: https://zeddios.tistory.com/233 [ZeddiOS:티스토리]"
   ]
  },
  {
   "cell_type": "code",
   "execution_count": 23,
   "metadata": {},
   "outputs": [
    {
     "name": "stdout",
     "output_type": "stream",
     "text": [
      "[1, 2, 3, 4]\n",
      "[1, 2, 3, 4]\n"
     ]
    }
   ],
   "source": [
    "list = [2, 3, 1, 4]\n",
    "list.sort()\n",
    "print(list)\n",
    "\n",
    "list2 = sorted(list)\n",
    "print(list2)\n"
   ]
  },
  {
   "cell_type": "markdown",
   "metadata": {},
   "source": [
    "### `sorted(`변수`)`, list변수`.sort()` 둘 다 inverse 인자를 사용할 수 있다.\n",
    "### -  list변수`.sort(`reverse=True`)`\n",
    "### - `sorted(`변수`, `reverse=True`)`"
   ]
  },
  {
   "cell_type": "code",
   "execution_count": 22,
   "metadata": {},
   "outputs": [
    {
     "name": "stdout",
     "output_type": "stream",
     "text": [
      "[4, 3, 2, 1]\n",
      "[4, 3, 2, 1]\n"
     ]
    }
   ],
   "source": [
    "list = [2, 3, 1, 4]\n",
    "\n",
    "list.sort(reverse=True)\n",
    "print(list)\n",
    "\n",
    "list2 = sorted(list2, reverse=True)\n",
    "print(list2)"
   ]
  },
  {
   "cell_type": "markdown",
   "metadata": {},
   "source": [
    "\n",
    "### list변수`.sort()`와 `sorted(`변수`)`는 둘 다 key 값으로 리스트를 sort할 수 있다.\n",
    "### - list변수`.sort(`key=lambda x: x[' ']`)`\n",
    "### - `sorted(`변수`, `key=lambda x: len(x)`)`"
   ]
  },
  {
   "cell_type": "code",
   "execution_count": 32,
   "metadata": {},
   "outputs": [
    {
     "name": "stdout",
     "output_type": "stream",
     "text": [
      "['two', 'ant', 'one', 'o', 'on']\n",
      "[{'name': 'hoon', 'score': 85}, {'name': 'jit', 'score': 98}]\n",
      "[{'name': 'jit', 'score': 98}, {'name': 'hoon', 'score': 85}]\n"
     ]
    }
   ],
   "source": [
    "list3 = ['two', 'ant', 'one', \"o\", 'on']\n",
    "sorted(list3, key=lambda x: len(x))\n",
    "print(list3)\n",
    "# 같은 길이 일때는 인덱스 순으로 정렬된다.\n",
    "\n",
    "list4 = [{'name':\"jit\", 'score':98}, {'name':\"hoon\", 'score':85}]\n",
    "\n",
    "# score 가준 오름 차순으로 정렬\n",
    "list4.sort(key=lambda x: x['score'])\n",
    "print(list4)\n",
    "\n",
    "# score 가준 낮은 차순으로 정렬\n",
    "list4.sort(key=lambda x: x['score'], reverse=True)\n",
    "print(list4)"
   ]
  },
  {
   "cell_type": "markdown",
   "metadata": {},
   "source": [
    "## (2) `Search Algorithm` (탐색 알고리즘)\n",
    "### a. `Linear Search` : `O(n)` : 리스트를 `순차적으로 비교`하므로 리스트의 길이에 따라 소요 시간이 증가함 \n",
    "### b. `Binary Search` : `O(log(n))` : 리스트가 이미 `정렬이 되어있는 경우`에만 사용 가능, 반씩 리스트를 `잘라서 중앙값을 비교`함"
   ]
  },
  {
   "cell_type": "markdown",
   "metadata": {},
   "source": [
    "## (3) `Recursive Algorithm` (재귀 알고리즘)\n",
    "- 대응되는 알고리즘 = `Interative Algorithm` (반복 알고리즘)\n",
    "- 복잡도 측면에서 동일 (`O(n)`), 효율성 측면은 상황에따라 다름\n",
    "\n",
    "### - 하나의 함수에서 `자신을 다시 호출`하여 작업을 수행하는 것\n",
    "### - 재귀 알고리즘(함수)는 보통 `종결 조건`이 함께 있어야 무한 루프를 돌지 않는다."
   ]
  },
  {
   "cell_type": "code",
   "execution_count": 41,
   "metadata": {},
   "outputs": [
    {
     "data": {
      "text/plain": [
       "55"
      ]
     },
     "execution_count": 41,
     "metadata": {},
     "output_type": "execute_result"
    }
   ],
   "source": [
    "# 재귀 알고리즘으로 n까지의 정수 합 구하기\n",
    "def sum(n):\n",
    "\n",
    "    # 종결 조건\n",
    "    if n<1:\n",
    "        return 0\n",
    "    \n",
    "    # 자기 자신 호출\n",
    "    return n + sum(n-1)\n",
    "\n",
    "sum(10)"
   ]
  },
  {
   "cell_type": "code",
   "execution_count": 46,
   "metadata": {},
   "outputs": [
    {
     "data": {
      "text/plain": [
       "10"
      ]
     },
     "execution_count": 46,
     "metadata": {},
     "output_type": "execute_result"
    }
   ],
   "source": [
    "def combination(n,m):\n",
    "\n",
    "    if n==m:\n",
    "        return 1\n",
    "    elif m==0:\n",
    "        return 1\n",
    "\n",
    "    if n<m:\n",
    "        return print(\"please choose number like n>m\")\n",
    "    \n",
    "    return combination(n-1, m) + combination(n-1, m-1)\n",
    "    # 특정한 하나의 원소 입장에서 볼 때, 이 원소를 포함하는 경우와 그렇지 않은 경우를 따로 계산해서 더한다.\n",
    " \n",
    "combination(5,3)"
   ]
  },
  {
   "cell_type": "markdown",
   "metadata": {},
   "source": [
    "과제 : 재귀적 이진 탐색 실습"
   ]
  }
 ],
 "metadata": {
  "interpreter": {
   "hash": "b0fa6594d8f4cbf19f97940f81e996739fb7646882a419484c72d19e05852a7e"
  },
  "kernelspec": {
   "display_name": "Python 3.9.13 64-bit",
   "language": "python",
   "name": "python3"
  },
  "language_info": {
   "codemirror_mode": {
    "name": "ipython",
    "version": 3
   },
   "file_extension": ".py",
   "mimetype": "text/x-python",
   "name": "python",
   "nbconvert_exporter": "python",
   "pygments_lexer": "ipython3",
   "version": "3.9.13"
  },
  "orig_nbformat": 4
 },
 "nbformat": 4,
 "nbformat_minor": 2
}

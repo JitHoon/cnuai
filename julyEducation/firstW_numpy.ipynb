{
 "cells": [
  {
   "cell_type": "markdown",
   "metadata": {},
   "source": [
    " # 프로그래밍 기초 (Numpy, Pandas, Matplotlib)\n",
    "\n",
    "# Numpy\n",
    "- Numpy의 container : array"
   ]
  },
  {
   "cell_type": "code",
   "execution_count": 1,
   "metadata": {},
   "outputs": [
    {
     "name": "stdout",
     "output_type": "stream",
     "text": [
      "[1 2 3]\n",
      "[[1]\n",
      " [2]\n",
      " [3]]\n"
     ]
    }
   ],
   "source": [
    "import numpy as np\n",
    "\n",
    "arr = np.array([1, 2 ,3])\n",
    "\n",
    "print(arr) # 기본적으로 행을 반환함!\n",
    "\n",
    "# 열로 반환하기 위해서는 전치 행렬로 사용한다.\n",
    "arr = arr[:, None]\n",
    "# 열을 모두 가져오고 행은 아무것도 가져오지 않는다.\n",
    "print(arr)"
   ]
  },
  {
   "cell_type": "markdown",
   "metadata": {},
   "source": [
    "## 1. Numpy로 연산하기\n",
    "\n",
    "### (1) vector와 sclar 사이의 연산\n",
    "- 벡터의 각 원소에 대해서 연산을 진행"
   ]
  },
  {
   "cell_type": "code",
   "execution_count": 2,
   "metadata": {},
   "outputs": [
    {
     "name": "stdout",
     "output_type": "stream",
     "text": [
      "더하기 : [6 7 8]\n",
      "빼기 : [-4 -3 -2]\n",
      "곱하기 : [ 5 10 15]\n",
      "나누기 : [0.2 0.4 0.6]\n"
     ]
    }
   ],
   "source": [
    "x = np.array([1, 2, 3]) \n",
    "c = 5\n",
    "\n",
    "print(\"더하기 : {}\".format(x + c))\n",
    "print(\"빼기 : {}\".format(x - c))\n",
    "print(\"곱하기 : {}\".format(x * c))\n",
    "print(\"나누기 : {}\".format(x / c))"
   ]
  },
  {
   "cell_type": "markdown",
   "metadata": {},
   "source": [
    "### (2) vector와 vector사이의 연산\n",
    "- vector의 **같은 인덱스**끼리 연산이 진행된다."
   ]
  },
  {
   "cell_type": "code",
   "execution_count": 3,
   "metadata": {},
   "outputs": [
    {
     "name": "stdout",
     "output_type": "stream",
     "text": [
      "더하기 : [ 3 12 25]\n",
      "빼기 : [ -1  -6 -15]\n",
      "곱하기 : [  2  27 100]\n",
      "나누기 : [0.5        0.33333333 0.25      ]\n"
     ]
    }
   ],
   "source": [
    "y = np.array([1, 3, 5])\n",
    "z = np.array([2, 9, 20])\n",
    "\n",
    "# array의 인자는 하나이기 때문에 묶어서 넣어줘야함\n",
    "# np.array(1, 2, 3, 4) 는 동작하지 않음\n",
    "\n",
    "print(\"더하기 : {}\".format(y + z))\n",
    "print(\"빼기 : {}\".format(y - z))\n",
    "print(\"곱하기 : {}\".format(y * z))\n",
    "print(\"나누기 : {}\".format(y / z))"
   ]
  },
  {
   "cell_type": "markdown",
   "metadata": {},
   "source": [
    "## 2. array indexing, slicing, broadcasting\n",
    "### (1) array indexing\n",
    "\n",
    "- phython의 리스트와 유사하게 진행"
   ]
  },
  {
   "cell_type": "code",
   "execution_count": 4,
   "metadata": {},
   "outputs": [
    {
     "data": {
      "text/plain": [
       "10"
      ]
     },
     "execution_count": 4,
     "metadata": {},
     "output_type": "execute_result"
    }
   ],
   "source": [
    "w = np.array([[1, 2, 3, 4,],[5, 6, 7, 8],[9, 10 ,11 ,12]])\n",
    "w[2, 1]"
   ]
  },
  {
   "cell_type": "markdown",
   "metadata": {},
   "source": [
    "### (2) array slicing\n",
    "\n",
    "\n",
    "- phython의 리스트와 유사하게 진행"
   ]
  },
  {
   "cell_type": "code",
   "execution_count": 5,
   "metadata": {},
   "outputs": [
    {
     "data": {
      "text/plain": [
       "array([[2, 3],\n",
       "       [6, 7]])"
      ]
     },
     "execution_count": 5,
     "metadata": {},
     "output_type": "execute_result"
    }
   ],
   "source": [
    "w = np.array([[1, 2, 3, 4,],[5, 6, 7, 8],[9, 10 ,11 ,12]])\n",
    " # 2, 3 -> 행 : 인덱스 0~1 -> [0:2]\n",
    " # 6, 7 -> 열 : 인덱스 1~2 -> [1:3]\n",
    "\n",
    "w[0:2, 1:3]\n",
    "\n",
    "# [a:b]\n",
    "\n",
    "# [:b] -> 처음부터 b까지\n",
    "# [a:] -> a부터 끝까지\n",
    "# [:] -> 처음부터 끝까지"
   ]
  },
  {
   "cell_type": "markdown",
   "metadata": {},
   "source": [
    "### (3) array broadcasting\n",
    "\n",
    "- numpy가 배열 연산을 진행하는 특수한 방법\n",
    "\n",
    "#### 1) M x N 연산 M x 1\n",
    "numpy는 M x 1를 복사하여 **각 엘리먼트끼리** 연산을 한다.\n",
    "(배열 곱과 다른 연산)\n",
    "\n",
    "#### 2) M x N 연산 1 x N\n",
    "numpy는 1 x N을 복사하여 **각 엘리먼트끼리** 연산을 한다.\n",
    "(배열 곱과 다른 연산)\n",
    "\n",
    "\n",
    "#### 3) M x 1 연산 1 x N\n",
    "numpy는 1 x N을 복사한다.\n",
    "\n",
    "numpy는 M x 1을 복사한다.\n",
    "\n",
    "결론적으로 M x N의 연산이 결과로 나온다.\n",
    "(배열 곱과 다른 연산)"
   ]
  },
  {
   "cell_type": "markdown",
   "metadata": {},
   "source": [
    "# Numpy와 선형대수\n",
    "## 1. 여러가지 행렬 선언\n",
    "### (1) 영벡터 (영행렬)\n",
    "- 원소가 모두 0인 백터(행렬)"
   ]
  },
  {
   "cell_type": "code",
   "execution_count": 6,
   "metadata": {},
   "outputs": [
    {
     "data": {
      "text/plain": [
       "array([[0., 0., 0.],\n",
       "       [0., 0., 0.],\n",
       "       [0., 0., 0.]])"
      ]
     },
     "execution_count": 6,
     "metadata": {},
     "output_type": "execute_result"
    }
   ],
   "source": [
    "np.zeros((3, 3))\n",
    "\n",
    "# np.zeros(dim)\n",
    "# dim에는 값 혹은 튜플(,)을 입력해주어야 한다."
   ]
  },
  {
   "cell_type": "markdown",
   "metadata": {},
   "source": [
    "### (2) 일벡터 (일행렬)\n",
    "- 원소가 모두 1인 백터(행렬)"
   ]
  },
  {
   "cell_type": "code",
   "execution_count": 7,
   "metadata": {},
   "outputs": [
    {
     "data": {
      "text/plain": [
       "array([[1., 1., 1.],\n",
       "       [1., 1., 1.]])"
      ]
     },
     "execution_count": 7,
     "metadata": {},
     "output_type": "execute_result"
    }
   ],
   "source": [
    "np.ones((2,3))\n",
    "\n",
    "# np.ones(dim)\n",
    "# dim에는 값 혹은 튜플(,)을 입력해주어야 한다."
   ]
  },
  {
   "cell_type": "markdown",
   "metadata": {},
   "source": [
    "### (3) 대각행렬 (diagonal matrix)\n",
    "- main diagonal을 제외한 성분이 0인 행렬"
   ]
  },
  {
   "cell_type": "code",
   "execution_count": 8,
   "metadata": {},
   "outputs": [
    {
     "data": {
      "text/plain": [
       "array([[2, 0],\n",
       "       [0, 4]])"
      ]
     },
     "execution_count": 8,
     "metadata": {},
     "output_type": "execute_result"
    }
   ],
   "source": [
    "np.diag((2,4))\n",
    "\n",
    "# np.diag(dim)\n",
    "# dim에는 값 혹은 튜플(,)을 입력해주어야 한다."
   ]
  },
  {
   "cell_type": "markdown",
   "metadata": {},
   "source": [
    "### (4) 항등행렬 (identity matrix)\n",
    "- main diagonal이 1인 대각행렬"
   ]
  },
  {
   "cell_type": "code",
   "execution_count": 9,
   "metadata": {},
   "outputs": [
    {
     "data": {
      "text/plain": [
       "array([[1, 0],\n",
       "       [0, 1]])"
      ]
     },
     "execution_count": 9,
     "metadata": {},
     "output_type": "execute_result"
    }
   ],
   "source": [
    "np.eye(2, dtype=int)\n",
    "\n",
    "\n",
    "# np.eye(n, dtype) \n",
    "# dtype은 선택 사항 (다른 함후도 동일) defalt는 float임\n",
    "# 항등행렬은 항상 n x n 이기 때문에 하나의 숫자만 입력해주면 된다\n",
    "# dtype : int, float, anssigned int, complex ..."
   ]
  },
  {
   "cell_type": "markdown",
   "metadata": {},
   "source": [
    "### (5) 행렬 곱 (dot product)\n",
    "- 행렬간의 곱연산"
   ]
  },
  {
   "cell_type": "code",
   "execution_count": 10,
   "metadata": {},
   "outputs": [
    {
     "data": {
      "text/plain": [
       "array([[ 7, 33],\n",
       "       [14, 36]])"
      ]
     },
     "execution_count": 10,
     "metadata": {},
     "output_type": "execute_result"
    }
   ],
   "source": [
    "mat_1 = np.array([[1,4],[2,3]])\n",
    "mat_2 = np.array([[7,9],[0,6]])\n",
    "\n",
    "mat_1.dot(mat_2)\n",
    "\n",
    "mat_1 @ mat_2\n",
    "\n",
    "# matrix.dot(matrix)\n",
    "# matrix @ matrix"
   ]
  },
  {
   "cell_type": "markdown",
   "metadata": {},
   "source": [
    "## 2. trace, diterminant, 역행렬 다루기\n",
    "### (1) trace\n",
    "- Main diagoal의 합"
   ]
  },
  {
   "cell_type": "code",
   "execution_count": 11,
   "metadata": {},
   "outputs": [
    {
     "data": {
      "text/plain": [
       "2"
      ]
     },
     "execution_count": 11,
     "metadata": {},
     "output_type": "execute_result"
    }
   ],
   "source": [
    "w = np.array([[1, 2, 3, 4,],[5, 6, 7, 8],[9, 10 ,11 ,12]])\n",
    "\n",
    "w.trace()\n",
    "\n",
    "np.eye(2, dtype=int).trace()\n",
    "# 항등행렬의 경우 trace 연산을 해주면 main diagonal이 1이므러 차원을 알 수 있음"
   ]
  },
  {
   "cell_type": "markdown",
   "metadata": {},
   "source": [
    "### (2) determinant (행렬식)\n",
    "- 행렬을 대표하는 값들 중 하나\n",
    "- 선형변환 과정에서 Vector의 Scalling 척도\n",
    "###\n",
    "- 정사각 행렬에 스칼라를 대응시키는 함수의 하나이다.\n",
    "- 실수 정사각 행렬의 행렬식의 절댓값은 그 행렬이 나타내는 선형 변환이 초부피를 확대시키는 배수를 나타낸다.\n",
    "- 행렬식의 부호는 방향 보존 여부를 나타낸다.\n",
    "###\n",
    "- 2 x 2 일 때 ad - bc\n",
    "- determinant가 0이라는 의미는 full rank가 아니다.\n",
    "- 즉, 선형 변환 과정에서 차원의 손실이 일어난다."
   ]
  },
  {
   "cell_type": "code",
   "execution_count": 12,
   "metadata": {},
   "outputs": [
    {
     "data": {
      "text/plain": [
       "-9.51619735392994e-16"
      ]
     },
     "execution_count": 12,
     "metadata": {},
     "output_type": "execute_result"
    }
   ],
   "source": [
    "arr_3 = np.array([[1, 2, 3],[4, 5, 6],[7, 8, 9]])\n",
    "\n",
    "np.linalg.det(arr_3)"
   ]
  },
  {
   "cell_type": "markdown",
   "metadata": {},
   "source": [
    "### (3) inverse matrix (역행렬)\n",
    "- 항렬 A에 대해 AB = BA = I를 만족하는 행렬 B = A^I"
   ]
  },
  {
   "cell_type": "code",
   "execution_count": 13,
   "metadata": {},
   "outputs": [
    {
     "data": {
      "text/plain": [
       "array([[1.00000000e+00, 0.00000000e+00],\n",
       "       [2.22044605e-16, 1.00000000e+00]])"
      ]
     },
     "execution_count": 13,
     "metadata": {},
     "output_type": "execute_result"
    }
   ],
   "source": [
    "arr_4 = np.array([[1, 2],[4, 5]])\n",
    "\n",
    "arr_4_inv = np.linalg.inv(arr_4)\n",
    "\n",
    "arr_4 @ arr_4_inv\n",
    "# 위 연산이 1일 때 올바른 역행렬을 구한 것임"
   ]
  },
  {
   "cell_type": "markdown",
   "metadata": {},
   "source": [
    "### (4) eigenvalue, eigenvector (고유값과 고유 벡터)\n",
    "- 정방행렬(nxn) A에 대해 $Ax = \\lambda x$를 만족하는 \n",
    "- 상수 $\\lambda$와 이에 대응하는 벡터 $x$\n",
    "###\n",
    "- 선형 변환을 진행하는 과정에서\n",
    "- 같은 span에서 방향은 변하지않고 크기만 변할 때\n",
    "- span ratio 비율을 고유값 람다,\n",
    "- span 영역의 고유 벡터를 고유벡터라고 부른다."
   ]
  },
  {
   "cell_type": "code",
   "execution_count": 14,
   "metadata": {},
   "outputs": [],
   "source": [
    "A = np.array([[1, 2, 3], [4, 5, 6], [7, 8, 9]])\n",
    "\n",
    "eig_val, eig_vec = np.linalg.eig(A)\n",
    "\n",
    "# return 값이 eigenvalue, eigenvector 두 가지임\n",
    "# eigenvector는 column으로 봐야함\n",
    "\n",
    "A_x = A @ eig_vec[:, 0] # Ax 한 column만 불러옴\n",
    "lambda_x = eig_val[0] * eig_vec[:, 0] # (lambda)x 스칼라 *벡터\n",
    "\n",
    "# A_x = lambda_x 이면 옳은 연산"
   ]
  },
  {
   "cell_type": "markdown",
   "metadata": {},
   "source": [
    "# 실습\n",
    "#### 문제 1. 어떤 벡터가 주어졌을 때 L2 norm을 구하는 함수 get_L2_norm()을 작성하세요.\n",
    "###\n",
    "\n",
    "#### 문제 2. 어떤 행렬이 singular matrix인지 확인하는 함수 is_singular()을 작성하세요.\n",
    "###\n"
   ]
  },
  {
   "cell_type": "markdown",
   "metadata": {},
   "source": [
    "# 필수 실습"
   ]
  },
  {
   "cell_type": "code",
   "execution_count": 3,
   "metadata": {},
   "outputs": [
    {
     "name": "stdout",
     "output_type": "stream",
     "text": [
      "3\n",
      "-------------A의 출력-------------\n",
      "[[[1. 1. 1.]]\n",
      "\n",
      " [[1. 1. 1.]]]\n",
      "-------------B의 출력-------------\n",
      "[[[0. 0.]\n",
      "  [0. 0.]\n",
      "  [0. 0.]\n",
      "  [0. 0.]]\n",
      "\n",
      " [[0. 0.]\n",
      "  [0. 0.]\n",
      "  [0. 0.]\n",
      "  [0. 0.]]\n",
      "\n",
      " [[0. 0.]\n",
      "  [0. 0.]\n",
      "  [0. 0.]\n",
      "  [0. 0.]]]\n",
      "-------------A의 출력-------------\n",
      "[[[ 0.49671415 -0.1382643   0.64768854]\n",
      "  [ 1.52302986 -0.23415337 -0.23413696]\n",
      "  [ 1.57921282  0.76743473 -0.46947439]]\n",
      "\n",
      " [[ 0.54256004 -0.46341769 -0.46572975]\n",
      "  [ 0.24196227 -1.91328024 -1.72491783]\n",
      "  [-0.56228753 -1.01283112  0.31424733]]\n",
      "\n",
      " [[-0.90802408 -1.4123037   1.46564877]\n",
      "  [-0.2257763   0.0675282  -1.42474819]\n",
      "  [-0.54438272  0.11092259 -1.15099358]]\n",
      "\n",
      " [[ 0.37569802 -0.60063869 -0.29169375]\n",
      "  [-0.60170661  1.85227818 -0.01349722]\n",
      "  [-1.05771093  0.82254491 -1.22084365]]]\n",
      "-------------B의 출력-------------\n",
      "[[1.69993861 0.24702102 0.67011535 1.69189703 2.05477261 1.67481675]\n",
      " [1.48251565 1.35826052 0.56939027 1.07770438 1.25137202 2.26827189]\n",
      " [1.79022425 0.3787631  1.77713626 1.30199487 1.10646226 1.96982311]\n",
      " [2.25076968 2.18395768 0.99772426 1.35282771 1.7819465  2.21361524]\n",
      " [1.23895326 1.43560849 0.81875557 0.75854156 2.1043923  2.46868082]]\n",
      "-------------C의 출력-------------\n",
      "[[20 12 10 12]\n",
      " [14 12 10 14]\n",
      " [19 16 16 20]]\n"
     ]
    }
   ],
   "source": [
    "import numpy as np\n",
    "\n",
    "# 1. shape로 numpy 배열 모양 불러오기\n",
    "# 머신 러닝에서 행렬의 차원 = shape\n",
    "A = np.array([[1, 2, 3], [3, 4, 5]])\n",
    "shape_of_A = A.shape\n",
    "\n",
    "print(shape_of_A) # (2, 3) 출력\n",
    "\n",
    "# 2. 3차원의 shape = (차원, 행, 열)\n",
    "np.random.seed(42)\n",
    "\n",
    "A = np.ones(shape=(2,1,3))\n",
    "B = np.zeros(shape=(3,4,2))\n",
    "\n",
    "\n",
    "print('-------------A의 출력-------------')\n",
    "print(A)\n",
    "print('-------------B의 출력-------------')\n",
    "print(B)\n",
    "\n",
    "# 3. 랜덤 배열 생성\n",
    "# np.random.randn()을 사용하여 4 x 3 x 3 모양을 가진 배열을 만들어줍니다.\n",
    "A = np.random.randn(4, 3, 3)\n",
    "\n",
    "\n",
    "# np.random.normal()을 사용하여 평균 1.56, 표준편차 0.67의 5 x 6 모양을 가진 배열을 만들어줍니다.\n",
    "B = np.random.normal(loc = 1.56, scale = 0.67, size=(5, 6))\n",
    "\n",
    "\n",
    "# np.random.randint()을 사용하여 10부터 20까지 임의의 정수로 채워진 3 x 4 모양의 배열을 만들어줍니다.\n",
    "C = np.random.randint(10, 21, size=(3,4))\n",
    "\n",
    "\n",
    "print('-------------A의 출력-------------')\n",
    "print(A)\n",
    "print('-------------B의 출력-------------')\n",
    "print(B)\n",
    "print('-------------C의 출력-------------')\n",
    "print(C)\n",
    "\n",
    "# 4. 임의의 모양을 가진 numpy.ndarray 타입의 2차원 행렬 arr가 주어집니다. Numpy를 사용하여 (y1, x1)에서 (y2, x2)까지 구간에 해당하는 모든 요소의 값에 2를 곱하여 반환하는 함수를 구현하세요.\n",
    "def solution(arr, y1, x1, y2, x2):\n",
    "    arr[y1:y2+1, x1:x2+1] = arr[y1:y2+1, x1:x2+1] * 2\n",
    "    answer = arr\n",
    "    return answer\n",
    "\n",
    "# 5. \n"
   ]
  }
 ],
 "metadata": {
  "interpreter": {
   "hash": "b0fa6594d8f4cbf19f97940f81e996739fb7646882a419484c72d19e05852a7e"
  },
  "kernelspec": {
   "display_name": "Python 3.9.13 64-bit",
   "language": "python",
   "name": "python3"
  },
  "language_info": {
   "codemirror_mode": {
    "name": "ipython",
    "version": 3
   },
   "file_extension": ".py",
   "mimetype": "text/x-python",
   "name": "python",
   "nbconvert_exporter": "python",
   "pygments_lexer": "ipython3",
   "version": "3.9.13"
  },
  "orig_nbformat": 4
 },
 "nbformat": 4,
 "nbformat_minor": 2
}

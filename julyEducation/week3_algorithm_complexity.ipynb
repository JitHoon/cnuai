{
 "cells": [
  {
   "cell_type": "markdown",
   "metadata": {},
   "source": [
    "# 알고리즘 복잡도 (`Complexity of Algorithm`)\n",
    "#### - 문제를 해결하는데 필요한 시간적 공간적 자원을 얼마나 요구하는지 나타내는 말.\n",
    "\n",
    "ex) knapsack problem"
   ]
  },
  {
   "cell_type": "markdown",
   "metadata": {},
   "source": [
    "## 0. `Big-O Notation`\n",
    "- 알고리즘 복잡도 표현법으로 asymptotic notation 중 하나의 종류이다.\n",
    "- 점근 표기법 (`asymptotic notation`)은 어떤 함수의 증가 양상을 다른 함수와의 비교로 표현하는 수론과 해석학의 방법이다.\n",
    "- O(logn), O(n) 등\n",
    "\n",
    "- 입력의 크기가 n일 때,\n",
    "- O(n) : 입력의 크기에 비례하는 시간 소요 ex) 탐색 알고리즘_선형 탐색 알고리즘\n",
    "- O(logn) : 입력의 크기에 로그에 비례하는 시간 소요 ex) 탐색 알고리즘_이진 탐색 알고리즘\n",
    "- O(n^2) : ex) 삽입 정렬 (insertion sort) : n번 비교하는 행위를 n개의 원소만큼 반복하는 알고리즘 (best : 이미 배열 상태 O(n), worst : 역순 배열 상태 O(n^2))\n",
    "- O(nlogn) : ex) 병합 정렬 (merge sort)"
   ]
  },
  {
   "cell_type": "markdown",
   "metadata": {},
   "source": [
    "## 1. 시간 복잡도 (`Time Complexity`)\n",
    "#### - 문제의 크기가 커지면 어떤 관계에 따라서 풀이 소요 시간이 증가하는가\n",
    "\n",
    "### 1-(1). 평균 시간 복잡도 (`Average Time Complexity`)\n",
    "- 임의의 입력 패턴을 가정했을 때 소요되는 시간의 평균\n",
    "\n",
    "### 1-(2). 최악 시간 복잡도 (`Worst-case Time Complexity`)\n",
    "- 가장 긴 시간을 소요하게 만드는 입력을 가정했을 때 소요되는 최대 시간"
   ]
  },
  {
   "cell_type": "markdown",
   "metadata": {},
   "source": [
    "## 2. 공간 복잡도 (`Space Complexity`)\n",
    "#### - 문제를 해결하는데 필요한 메모리 공간"
   ]
  }
 ],
 "metadata": {
  "interpreter": {
   "hash": "b0fa6594d8f4cbf19f97940f81e996739fb7646882a419484c72d19e05852a7e"
  },
  "kernelspec": {
   "display_name": "Python 3.9.13 64-bit",
   "language": "python",
   "name": "python3"
  },
  "language_info": {
   "name": "python",
   "version": "3.9.13"
  },
  "orig_nbformat": 4
 },
 "nbformat": 4,
 "nbformat_minor": 2
}

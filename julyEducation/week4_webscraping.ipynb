{
 "cells": [
  {
   "cell_type": "markdown",
   "metadata": {},
   "source": [
    "# Web Scraping\n",
    "- 특정한 목적으로 특정 웹 페이지에서 데이터를 추출하는 것 (데이터 추출)\n",
    "- 날씨 가져오기, 주식 데이터 가져오기 등\n",
    "\n",
    "# Web Crawling\n",
    "- URL을 타고다니며 반복적으로 데이터를 가져오는 과정 (데이터 색인)\n",
    "- 검색 엔진의 웹 크롤러"
   ]
  },
  {
   "cell_type": "markdown",
   "metadata": {},
   "source": [
    "----\n",
    "## 1. `Internet`, `WEB`, `HTTP`"
   ]
  },
  {
   "cell_type": "markdown",
   "metadata": {},
   "source": [
    "## 1-(1). `Internet`과 `Web`\n",
    "### - `Network` : 두 컴퓨터를 연결하는 것\n",
    "### - 근거리 지역 네트워크 (`Local Area Network`) : Network를 묶음\n",
    "### - 범지구적 네트워크 `Internet` (Inter Network): LAN을 묶음\n",
    "### - `Web` (WWW : World Wide Web) : 인터넷에서 정보를 교환할 수 있는 환경(플랫폼)"
   ]
  },
  {
   "cell_type": "markdown",
   "metadata": {},
   "source": [
    "## 1-(2). `Web` 에서 정보를 주고받는 방법\n",
    "### 1. 클라이언트가 서버에게 정보를 요청\n",
    "### 2. 요청에 대해서 서버가 작업을 수행\n",
    "### 3. 수행한 작업의 결과를 클라이언트에게 응답\n",
    "\n",
    "### `! 이런 일련의 과정이 HTTP와 유사함 !`\n",
    "\n",
    "### 1. 클라이언트가 서버에게 정보를 요청 = `HTTP request`\n",
    "### 2. 요청에 대해서 서버가 작업을 수행\n",
    "### 3. 수행한 작업의 결과를 클라이언트에게 응답 = `HTTP response`"
   ]
  },
  {
   "cell_type": "markdown",
   "metadata": {},
   "source": [
    "## 1-(3). `HTTP` \n",
    "### - Hypertext Transfer Protocol (Hypertext가 오고가는 약속)\n",
    "### - 웹 상에서 정보를 주고받기 위한 약속\n",
    "### `1. HTTP에게 필요한 정보`\n",
    "### 요청/응답에 대한 정보를 담는 Head와 Body가 필요함\n",
    "### - `Head` : 보내는 사람, 받는 사람 등\n",
    "### - `Body` : 내용물"
   ]
  },
  {
   "cell_type": "markdown",
   "metadata": {},
   "source": [
    "---- \n",
    "# 2. `WEB SITE`, `WEB PAGE`, `WEB BROWSER`, `HTML`"
   ]
  },
  {
   "cell_type": "markdown",
   "metadata": {},
   "source": [
    "## 2-(1). `WEB BROWSER` 역할을 `python`으로 대신 구현하기\n",
    "### - `웹 페이지`는 HTML (HyperText Markup Language)이라는 형식으로 되어있고, `웹 브라우저`는 우리가 HTTP 요청을 보내고, 응답받는 HTML 코드 렌더링을 해줌\n",
    "### - 이를 `python`으로 구현해 볼거임"
   ]
  }
 ],
 "metadata": {
  "language_info": {
   "name": "python"
  },
  "orig_nbformat": 4
 },
 "nbformat": 4,
 "nbformat_minor": 2
}

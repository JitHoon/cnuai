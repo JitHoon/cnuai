{
 "cells": [
  {
   "cell_type": "markdown",
   "metadata": {},
   "source": [
    "## 시각화 라이브러리, Seaborn\n",
    "\n",
    "- Seaborn을 이용해서 데이터를 요약해서 보여주는 시각화를 진행해봅시다."
   ]
  },
  {
   "cell_type": "markdown",
   "metadata": {},
   "source": [
    "### Seaborn 라이브러리\n",
    "\n",
    "`seaborn`은 파이썬의 데이터 시각화 라이브러리입니다. 이를 기반으로 수려한 그래프를 그릴 수 있습니다.\n",
    "\n",
    "우선, 이를 사용하기 위해서 `pip`를 사용해 다운로드를 받아봅시다.\n",
    "\n",
    "> Tip: `%`를 이용해서 노트북(.ipynb) 환경에서 터미널 코드를 실행할 수 있습니다."
   ]
  },
  {
   "cell_type": "code",
   "execution_count": 2,
   "metadata": {},
   "outputs": [
    {
     "name": "stdout",
     "output_type": "stream",
     "text": [
      "\u001b[33mDEPRECATION: Configuring installation scheme with distutils config files is deprecated and will no longer work in the near future. If you are using a Homebrew or Linuxbrew Python, please see discussion at https://github.com/Homebrew/homebrew-core/issues/76621\u001b[0m\u001b[33m\n",
      "\u001b[0mRequirement already satisfied: seaborn in /opt/homebrew/lib/python3.9/site-packages (0.11.2)\n",
      "Requirement already satisfied: scipy>=1.0 in /opt/homebrew/lib/python3.9/site-packages (from seaborn) (1.8.1)\n",
      "Requirement already satisfied: matplotlib>=2.2 in /opt/homebrew/lib/python3.9/site-packages (from seaborn) (3.5.2)\n",
      "Requirement already satisfied: numpy>=1.15 in /opt/homebrew/lib/python3.9/site-packages (from seaborn) (1.23.0)\n",
      "Requirement already satisfied: pandas>=0.23 in /opt/homebrew/lib/python3.9/site-packages (from seaborn) (1.4.3)\n",
      "Requirement already satisfied: packaging>=20.0 in /opt/homebrew/lib/python3.9/site-packages (from matplotlib>=2.2->seaborn) (21.3)\n",
      "Requirement already satisfied: cycler>=0.10 in /opt/homebrew/lib/python3.9/site-packages (from matplotlib>=2.2->seaborn) (0.11.0)\n",
      "Requirement already satisfied: pillow>=6.2.0 in /opt/homebrew/lib/python3.9/site-packages (from matplotlib>=2.2->seaborn) (9.2.0)\n",
      "Requirement already satisfied: python-dateutil>=2.7 in /opt/homebrew/lib/python3.9/site-packages (from matplotlib>=2.2->seaborn) (2.8.2)\n",
      "Requirement already satisfied: fonttools>=4.22.0 in /opt/homebrew/lib/python3.9/site-packages (from matplotlib>=2.2->seaborn) (4.34.2)\n",
      "Requirement already satisfied: kiwisolver>=1.0.1 in /opt/homebrew/lib/python3.9/site-packages (from matplotlib>=2.2->seaborn) (1.4.3)\n",
      "Requirement already satisfied: pyparsing>=2.2.1 in /opt/homebrew/lib/python3.9/site-packages (from matplotlib>=2.2->seaborn) (3.0.9)\n",
      "Requirement already satisfied: pytz>=2020.1 in /opt/homebrew/lib/python3.9/site-packages (from pandas>=0.23->seaborn) (2022.1)\n",
      "Requirement already satisfied: six>=1.5 in /opt/homebrew/lib/python3.9/site-packages (from python-dateutil>=2.7->matplotlib>=2.2->seaborn) (1.16.0)\n",
      "\u001b[33mDEPRECATION: Configuring installation scheme with distutils config files is deprecated and will no longer work in the near future. If you are using a Homebrew or Linuxbrew Python, please see discussion at https://github.com/Homebrew/homebrew-core/issues/76621\u001b[0m\u001b[33m\n",
      "\u001b[0m\n",
      "\u001b[1m[\u001b[0m\u001b[34;49mnotice\u001b[0m\u001b[1;39;49m]\u001b[0m\u001b[39;49m A new release of pip available: \u001b[0m\u001b[31;49m22.1.2\u001b[0m\u001b[39;49m -> \u001b[0m\u001b[32;49m22.2\u001b[0m\n",
      "\u001b[1m[\u001b[0m\u001b[34;49mnotice\u001b[0m\u001b[1;39;49m]\u001b[0m\u001b[39;49m To update, run: \u001b[0m\u001b[32;49mpython3.9 -m pip install --upgrade pip\u001b[0m\n",
      "Note: you may need to restart the kernel to use updated packages.\n"
     ]
    }
   ],
   "source": [
    "# seaborn 라이브러리를 설치해봅시다.\n",
    "\n",
    "%pip install seaborn"
   ]
  },
  {
   "cell_type": "markdown",
   "metadata": {},
   "source": [
    "설치를 다 진행했다면, 이제 `seaborn` 모듈을 사용할 준비가 되었습니다."
   ]
  },
  {
   "cell_type": "markdown",
   "metadata": {},
   "source": [
    "### Seaborn Essentials\n",
    "\n",
    "`seaborn` 은 다양한 그래프를 그릴 수 있습니다.  \n",
    "이 링크를 통해 어떤 그래프를 그릴 수 있는지 확인할 수 있습니다.\n",
    "\n",
    "저희는 이중에서 자주 사용되는 꺾은선 그래프와 막대 그래프를 그려보면서 사용 방법을 익혀보도록 하겠습니다."
   ]
  },
  {
   "cell_type": "code",
   "execution_count": 3,
   "metadata": {},
   "outputs": [],
   "source": [
    "# 시각화에 필요한 라이브러리를 불러와봅시다.\n",
    "\n",
    "import seaborn as sns"
   ]
  },
  {
   "cell_type": "markdown",
   "metadata": {},
   "source": [
    "### 꺾은선 그래프(Line Plot)\n",
    "\n",
    "두 변수의 값에 따른 추이를 선으로 이은 그래프입니다. \n",
    "`.lineplot()`를 이용해서 이를 그릴 수 있습니다."
   ]
  },
  {
   "cell_type": "code",
   "execution_count": 5,
   "metadata": {},
   "outputs": [
    {
     "data": {
      "text/plain": [
       "<AxesSubplot:>"
      ]
     },
     "execution_count": 5,
     "metadata": {},
     "output_type": "execute_result"
    },
    {
     "data": {
      "image/png": "[encoded data removed]",
      "text/plain": [
       "<Figure size 432x288 with 1 Axes>"
      ]
     },
     "metadata": {
      "needs_background": "light"
     },
     "output_type": "display_data"
    }
   ],
   "source": [
    "# Scatterplot을 직접 그려봅시다\n",
    "# 값 x=[1, 3, 2, 4]\n",
    "# 값 y=[0.7,0.2,0.1,0.05]\n",
    "\n",
    "sns.lineplot(x=[1, 3, 2, 4], y=[0.7,0.2,0.1,0.05])"
   ]
  },
  {
   "cell_type": "markdown",
   "metadata": {},
   "source": [
    "### 막대 그래프(Bar Plot)\n",
    "\n",
    "범주형 데이터의 \"값\"과 그 값의 크기를 직사각형으로 나타낸 그림입니다.  \n",
    "`.barplot()`를 이용해서 이를 그릴 수 있습니다.  "
   ]
  },
  {
   "cell_type": "markdown",
   "metadata": {},
   "source": [
    "지난 실습에서 다룬 마우스 실습을 통해 로그인 창에 접속하는 것에 성공했는데요,  \n",
    "여기에 이제 키보드 입력을 넣어서 로그인을 완료해봅시다."
   ]
  },
  {
   "cell_type": "code",
   "execution_count": 8,
   "metadata": {},
   "outputs": [
    {
     "data": {
      "text/plain": [
       "<AxesSubplot:>"
      ]
     },
     "execution_count": 8,
     "metadata": {},
     "output_type": "execute_result"
    },
    {
     "data": {
      "image/png": "[encoded data removed]",
      "text/plain": [
       "<Figure size 432x288 with 1 Axes>"
      ]
     },
     "metadata": {
      "needs_background": "light"
     },
     "output_type": "display_data"
    }
   ],
   "source": [
    "# Barplot을 직접 그려봅시다\n",
    "# 범주 x=[1,2,3,4]\n",
    "# 값 y=[0.7,0.2,0.1,0.05]\n",
    "\n",
    "sns.barplot(x=[\"Amy\",\"Bob\",\"Cat\",\"Dog\"], y=[0.7,0.2,0.1,0.05])"
   ]
  },
  {
   "cell_type": "markdown",
   "metadata": {},
   "source": [
    "### Plot의 속성\n",
    "\n",
    "`seaborn`은 파이썬의 시각화 라이브러리 `matplotlib`을 기반으로 만들어졌습니다.  \n",
    "`matplotlib.pyplot`의 속성을 변경해서 그래프에 다양한 요소를 변경/추가할 수 있습니다."
   ]
  },
  {
   "cell_type": "code",
   "execution_count": 11,
   "metadata": {},
   "outputs": [],
   "source": [
    "# matplotlib.pyplot을 불러와봅시다.\n",
    "\n",
    "import matplotlib.pyplot as plt"
   ]
  },
  {
   "cell_type": "markdown",
   "metadata": {},
   "source": [
    "`plt.title()` : 그래프에 **제목** 을 추가합니다"
   ]
  },
  {
   "cell_type": "code",
   "execution_count": 12,
   "metadata": {},
   "outputs": [
    {
     "data": {
      "image/png": "[encoded data removed]",
      "text/plain": [
       "<Figure size 432x288 with 1 Axes>"
      ]
     },
     "metadata": {
      "needs_background": "light"
     },
     "output_type": "display_data"
    }
   ],
   "source": [
    "#TODO: 제목을 추가해봅시다.\n",
    "\n",
    "sns.barplot(x=[\"Amy\",\"Bob\",\"Cat\",\"Dog\"],y=[0.7,0.2,0.1,0.05])\n",
    "plt.title(\"Bar Plot\")\n",
    "\n",
    "plt.show()"
   ]
  },
  {
   "cell_type": "markdown",
   "metadata": {},
   "source": [
    "`plt._label()` : 그래프의 축에 **설명** 을 추가합니다"
   ]
  },
  {
   "cell_type": "code",
   "execution_count": 13,
   "metadata": {},
   "outputs": [
    {
     "data": {
      "image/png": "[encoded data removed]",
      "text/plain": [
       "<Figure size 432x288 with 1 Axes>"
      ]
     },
     "metadata": {
      "needs_background": "light"
     },
     "output_type": "display_data"
    }
   ],
   "source": [
    "#TODO: xlabel과 ylabel을 추가해봅시다.\n",
    "\n",
    "sns.barplot(x=[\"Amy\",\"Bob\",\"Cat\",\"Dog\"],y=[0.7,0.2,0.1,0.05])\n",
    "plt.xlabel(\"X\")\n",
    "plt.ylabel(\"Y\")\n",
    "\n",
    "plt.show()"
   ]
  },
  {
   "cell_type": "markdown",
   "metadata": {},
   "source": [
    "`plt._lim()` : 그래프의 축의 **범위** 를 지정합니다."
   ]
  },
  {
   "cell_type": "code",
   "execution_count": 16,
   "metadata": {},
   "outputs": [
    {
     "data": {
      "image/png": "[encoded data removed]",
      "text/plain": [
       "<Figure size 432x288 with 1 Axes>"
      ]
     },
     "metadata": {
      "needs_background": "light"
     },
     "output_type": "display_data"
    }
   ],
   "source": [
    "#TODO: lineplot에서 ylim을 2~3으로 제한해봅시다.\n",
    "\n",
    "sns.lineplot(x=[1, 3, 2, 4], y=[4, 3, 2, 1])\n",
    "plt.ylim(-10,15)\n",
    "\n",
    "plt.show()"
   ]
  },
  {
   "cell_type": "markdown",
   "metadata": {},
   "source": [
    "`plt.figure(figsize = (x, y))` : 그래프의 **크기** 를 지정합니다."
   ]
  },
  {
   "cell_type": "code",
   "execution_count": 20,
   "metadata": {},
   "outputs": [
    {
     "data": {
      "image/png": "[encoded data removed]",
      "text/plain": [
       "<Figure size 1440x360 with 1 Axes>"
      ]
     },
     "metadata": {
      "needs_background": "light"
     },
     "output_type": "display_data"
    }
   ],
   "source": [
    "#TODO: 크기를 (20, 10)으로 지정해봅시다.\n",
    "\n",
    "plt.figure(figsize=(20, 5))\n",
    "sns.lineplot(x=[1, 3, 2, 4], y=[4, 3, 2, 1])\n",
    "\n",
    "plt.show()"
   ]
  },
  {
   "cell_type": "markdown",
   "metadata": {},
   "source": [
    "간단한 사용법을 확인했으니, 이제 이를 활용해서 스크래핑과 함께 사용해봅시다!\n",
    "\n",
    "Tip: 이 외에도 다양한 그래프를 그릴 수 있습니다.  \n",
    "[이 링크](https://seaborn.pydata.org/examples/index.html)를 통해 더 자세히 살펴보실 수 있습니다. :)"
   ]
  },
  {
   "cell_type": "markdown",
   "metadata": {},
   "source": [
    "----\n",
    "## 스크래핑 결과 시각화하기 I - 기상청 날씨 정보 조회\n",
    "\n",
    "- Selenium과 Seaborn을 이용해서 날씨 정보를 가져온 후 Lineplot을 그려봅시다."
   ]
  },
  {
   "cell_type": "markdown",
   "metadata": {},
   "source": [
    "### Target: 기상청 날씨 스크래핑하기\n",
    "\n",
    "다음 사이트에 Selenium을 이용해서 날씨 정보를 가져와봅시다. : https://www.weather.go.kr/w/weather/forecast/short-term.do"
   ]
  },
  {
   "cell_type": "code",
   "execution_count": 22,
   "metadata": {},
   "outputs": [],
   "source": [
    "# 스크래핑에 필요한 라이브러리를 불러와봅시다.\n",
    "\n",
    "from selenium import webdriver\n",
    "from webdriver_manager.chrome import ChromeDriverManager\n",
    "from selenium.webdriver.chrome.service import Service\n",
    "from selenium.webdriver.common.by import By"
   ]
  },
  {
   "cell_type": "code",
   "execution_count": 31,
   "metadata": {},
   "outputs": [
    {
     "name": "stdout",
     "output_type": "stream",
     "text": [
      "[26, 28, 27, 28, 27, 27, 27, 27, 27, 27, 27, 26, 26, 26, 26, 26, 26, 27]\n"
     ]
    }
   ],
   "source": [
    "# driver를 이용해 해당 사이트에 요청을 보내봅시다.\n",
    "\n",
    "driver = webdriver.Chrome(service=Service(ChromeDriverManager().install()))\n",
    "\n",
    "driver.get(\"https://www.weather.go.kr/w/weather/forecast/short-term.do\")\n",
    "\n",
    "temps = driver.find_element(By.ID, \"my-tchart\").text\n",
    "\n",
    "# 문자열 형태로 값이 불러와지기 때문에 그래프를 그릴 수 없다. 따라서 int형으로 바꿔주는 리스트 컴프렌션 작업이 필요\n",
    "temps = [int(i) for i in temps.replace(\"℃\",\"\").split(\"\\n\")]\n",
    "\n",
    "print(temps)"
   ]
  },
  {
   "cell_type": "markdown",
   "metadata": {},
   "source": [
    "**꺾은선 그래프(Line Plot)** 을 이용해 앞으로의 기온의 추이를 나타내봅시다.\n"
   ]
  },
  {
   "cell_type": "code",
   "execution_count": 35,
   "metadata": {},
   "outputs": [
    {
     "data": {
      "text/plain": [
       "<AxesSubplot:>"
      ]
     },
     "execution_count": 35,
     "metadata": {},
     "output_type": "execute_result"
    },
    {
     "data": {
      "image/png": "[encoded data removed]",
      "text/plain": [
       "<Figure size 432x288 with 1 Axes>"
      ]
     },
     "metadata": {
      "needs_background": "light"
     },
     "output_type": "display_data"
    }
   ],
   "source": [
    "# 받아온 데이터를 통해 꺾은선 그래프를 그려봅시다.\n",
    "# x = Elapsed Time(0~len(temperatures)\n",
    "# y = temperatures\n",
    "\n",
    "sns.lineplot(\n",
    "    x = [i for i in range(len(temps))],\n",
    "    y = temps\n",
    ")"
   ]
  },
  {
   "cell_type": "code",
   "execution_count": 33,
   "metadata": {},
   "outputs": [
    {
     "data": {
      "image/png": "[encoded data removed]",
      "text/plain": [
       "<Figure size 432x288 with 1 Axes>"
      ]
     },
     "metadata": {
      "needs_background": "light"
     },
     "output_type": "display_data"
    }
   ],
   "source": [
    "# 받아온 데이터의 ylim을 조금 더 길게 잡아봅시다.\n",
    "\n",
    "plt.ylim(min(temps)-2, max(temps)+2)\n",
    "plt.title(\"Expected Temperature from now on\")\n",
    "\n",
    "sns.lineplot(\n",
    "    x = [i for i in range(len(temps))],\n",
    "    y = temps\n",
    ")\n",
    "\n",
    "plt.show()"
   ]
  },
  {
   "cell_type": "markdown",
   "metadata": {},
   "source": [
    "----\n",
    "## 스크래핑 결과 시각화하기 II - 해시코드 질문태그 빈도 시각화\n",
    "\n",
    "- bs4와 Seaborn을 이용해서 질문의 주제 빈도를 보여주는 시각화를 진행해봅시다."
   ]
  },
  {
   "cell_type": "markdown",
   "metadata": {},
   "source": [
    "### Target: 해시코드 질문 태그의 빈도 확인\n",
    "\n",
    "이전에 진행한 해시코드(https://hashcode.co.kr) 사이트에선 다양한 질문이 올라왔는데,  \n",
    "질문제목 아래에 \"태그\"가 있었습니다.\n",
    "\n",
    "이 태그의 빈도를 측정하면 어떤 주제의 질문이 많이 올라오는지 알 수 있을 것 같습니다.  \n",
    "이를 스크래핑 후 시각화해봅시다."
   ]
  },
  {
   "cell_type": "code",
   "execution_count": 36,
   "metadata": {},
   "outputs": [],
   "source": [
    "# 다음 User-Agent를 추가해봅시다.\n",
    "\n",
    "user_agent = {\"User-Agent\": \"Mozilla/5.0 (Macintosh; Intel Mac OS X 10_15_4) AppleWebKit/537.36 (KHTML, like Gecko) Chrome/83.0.4103.97 Safari/537.36\"}"
   ]
  },
  {
   "cell_type": "code",
   "execution_count": 45,
   "metadata": {},
   "outputs": [
    {
     "name": "stdout",
     "output_type": "stream",
     "text": [
      "{'node.js': 2, 'python': 23, 'process': 1, 'web': 1, 'auto': 1, 'macro': 1, 'mariadb': 1, 'css': 2, 'html': 4, 'java': 5, 'crawling': 1, 'selenium': 2, 'algorithm': 1, 'list': 2, 'class': 1, 'private': 1, 'openpyxl': 2, 'c#': 1, 'web-crawling': 1, 'javascript': 1, 'python3': 1, 'selenium-webdrive': 1, 'random': 1, 'tuple': 1, 'pyinstaller': 1, 'mysql': 1, 'dataframe': 1, 'pandas': 1, 'function': 1, 'canvas': 1, 'fabric': 1, 'iterator': 1, 'c': 1, 'c++': 2, 'array': 1, 'advertisement': 1, 'regression-analysis': 1, 'logistic-regression': 1, 'statsmodels': 1, 'oop': 1, 'program': 1, 'eclipse': 1, 'runtime-error': 1, 'dump': 1, 'flutter': 1, 'react': 2, 'webview': 1, 'error': 1, 'dev-c++': 1, 'dictionary': 1, 'qt': 1, 'qt-designer': 1, 'typescript': 1, 'environment-variables': 1}\n",
      "{'node.js': 2, 'python': 49, 'process': 1, 'web': 1, 'auto': 1, 'macro': 1, 'mariadb': 1, 'css': 2, 'html': 4, 'java': 9, 'crawling': 3, 'selenium': 4, 'algorithm': 1, 'list': 4, 'class': 1, 'private': 1, 'openpyxl': 2, 'c#': 1, 'web-crawling': 1, 'javascript': 1, 'python3': 2, 'selenium-webdrive': 1, 'random': 2, 'tuple': 2, 'pyinstaller': 1, 'mysql': 1, 'dataframe': 1, 'pandas': 2, 'function': 2, 'canvas': 1, 'fabric': 1, 'iterator': 1, 'c': 3, 'c++': 4, 'array': 1, 'advertisement': 1, 'regression-analysis': 1, 'logistic-regression': 1, 'statsmodels': 1, 'oop': 1, 'program': 1, 'eclipse': 1, 'runtime-error': 1, 'dump': 1, 'flutter': 1, 'react': 2, 'webview': 1, 'error': 2, 'dev-c++': 1, 'dictionary': 1, 'qt': 1, 'qt-designer': 1, 'typescript': 2, 'environment-variables': 1, 'for': 1, 'preprocessor': 1, 'ai': 1, 'and': 1, 'tkinter': 1, 'socket': 1, 'loops': 2, 'header': 1, 'python3.6.1': 1, 'len': 1, 'linux': 2, 'python-2.7': 1, 'application': 1, 'idle': 1, 'pointer': 1, 'while-loop': 2, 'android-studio': 2, 'server': 1, 'connect': 1, 'tcp': 1, 'csv': 2, 'recursive': 1, 'write': 1, 'developer': 1, 'recyclerview': 1, 'stack': 1, 'tree': 1, 'r': 1, 'abstract-class': 1, 'arduino': 2, 'eoferror': 1, 'file': 1, 'txt': 1, 'macos': 1}\n",
      "{'node.js': 2, 'python': 75, 'process': 1, 'web': 1, 'auto': 1, 'macro': 1, 'mariadb': 1, 'css': 2, 'html': 4, 'java': 13, 'crawling': 4, 'selenium': 6, 'algorithm': 1, 'list': 5, 'class': 1, 'private': 1, 'openpyxl': 2, 'c#': 1, 'web-crawling': 3, 'javascript': 1, 'python3': 2, 'selenium-webdrive': 1, 'random': 2, 'tuple': 2, 'pyinstaller': 1, 'mysql': 1, 'dataframe': 3, 'pandas': 6, 'function': 2, 'canvas': 1, 'fabric': 1, 'iterator': 1, 'c': 8, 'c++': 4, 'array': 1, 'advertisement': 1, 'regression-analysis': 1, 'logistic-regression': 1, 'statsmodels': 1, 'oop': 1, 'program': 1, 'eclipse': 1, 'runtime-error': 1, 'dump': 1, 'flutter': 1, 'react': 2, 'webview': 1, 'error': 2, 'dev-c++': 1, 'dictionary': 1, 'qt': 1, 'qt-designer': 1, 'typescript': 2, 'environment-variables': 1, 'for': 4, 'preprocessor': 1, 'ai': 1, 'and': 1, 'tkinter': 2, 'socket': 1, 'loops': 3, 'header': 1, 'python3.6.1': 1, 'len': 1, 'linux': 2, 'python-2.7': 1, 'application': 1, 'idle': 1, 'pointer': 1, 'while-loop': 2, 'android-studio': 3, 'server': 1, 'connect': 1, 'tcp': 1, 'csv': 2, 'recursive': 1, 'write': 1, 'developer': 1, 'recyclerview': 2, 'stack': 1, 'tree': 1, 'r': 1, 'abstract-class': 1, 'arduino': 2, 'eoferror': 1, 'file': 1, 'txt': 1, 'macos': 1, 'pyside2': 1, 'firebase': 1, 'datetime': 2, 'date': 1, 'sorting': 1, 'jupyter-notebook': 1, 'konlpy': 1, 'text-mining': 1, 'matrix': 1, 'lambda': 1, 'machine-learning': 1, 'project': 1, 'syntax-error': 1, 'button': 1, 'event': 1, 'matlab': 1, 'time': 1, 'django': 1, 'api': 1, 'google-chrome': 1, 'numpy': 2, 'windows': 1, 'korean': 1, 'timedelta': 1, 'postfix': 1, 'swap': 1, 'opengl': 1, 'matplotlib': 1}\n",
      "{'node.js': 3, 'python': 98, 'process': 1, 'web': 2, 'auto': 1, 'macro': 1, 'mariadb': 1, 'css': 2, 'html': 4, 'java': 14, 'crawling': 4, 'selenium': 7, 'algorithm': 1, 'list': 6, 'class': 1, 'private': 1, 'openpyxl': 2, 'c#': 2, 'web-crawling': 3, 'javascript': 1, 'python3': 2, 'selenium-webdrive': 1, 'random': 2, 'tuple': 2, 'pyinstaller': 2, 'mysql': 1, 'dataframe': 3, 'pandas': 6, 'function': 2, 'canvas': 1, 'fabric': 1, 'iterator': 1, 'c': 13, 'c++': 6, 'array': 1, 'advertisement': 1, 'regression-analysis': 1, 'logistic-regression': 1, 'statsmodels': 1, 'oop': 1, 'program': 1, 'eclipse': 1, 'runtime-error': 1, 'dump': 1, 'flutter': 2, 'react': 2, 'webview': 1, 'error': 2, 'dev-c++': 1, 'dictionary': 3, 'qt': 1, 'qt-designer': 1, 'typescript': 2, 'environment-variables': 1, 'for': 6, 'preprocessor': 1, 'ai': 1, 'and': 1, 'tkinter': 3, 'socket': 1, 'loops': 4, 'header': 1, 'python3.6.1': 1, 'len': 1, 'linux': 2, 'python-2.7': 1, 'application': 1, 'idle': 1, 'pointer': 1, 'while-loop': 3, 'android-studio': 3, 'server': 1, 'connect': 1, 'tcp': 1, 'csv': 2, 'recursive': 1, 'write': 1, 'developer': 1, 'recyclerview': 2, 'stack': 1, 'tree': 1, 'r': 1, 'abstract-class': 1, 'arduino': 2, 'eoferror': 1, 'file': 2, 'txt': 1, 'macos': 1, 'pyside2': 2, 'firebase': 1, 'datetime': 2, 'date': 1, 'sorting': 1, 'jupyter-notebook': 2, 'konlpy': 1, 'text-mining': 1, 'matrix': 1, 'lambda': 1, 'machine-learning': 1, 'project': 1, 'syntax-error': 1, 'button': 1, 'event': 1, 'matlab': 1, 'time': 1, 'django': 1, 'api': 1, 'google-chrome': 1, 'numpy': 3, 'windows': 1, 'korean': 2, 'timedelta': 1, 'postfix': 1, 'swap': 1, 'opengl': 1, 'matplotlib': 1, 'split': 1, 'android': 2, 'method': 2, 'config': 1, 'parser': 1, 'xml': 1, 'pyqt5': 1, 'mobile': 1, 'index': 1, 'tensorflow': 1, 'format': 1, 'github': 2, 'image': 3, 'upload': 1, 'script': 1, 'recursion': 1, 'mfc': 1, 'jsp': 1, 'servlet': 1, 'unity': 1, 'coding-test': 1, 'pygame': 1, 'regex': 2, 'figcaption': 1, 'def': 1, 'global-variable': 1, 'bash': 1, 'reference': 1, 'virtual-functions': 1, 'data': 1}\n",
      "{'node.js': 3, 'python': 124, 'process': 1, 'web': 2, 'auto': 1, 'macro': 1, 'mariadb': 1, 'css': 2, 'html': 5, 'java': 15, 'crawling': 4, 'selenium': 7, 'algorithm': 2, 'list': 7, 'class': 2, 'private': 1, 'openpyxl': 2, 'c#': 2, 'web-crawling': 3, 'javascript': 3, 'python3': 2, 'selenium-webdrive': 2, 'random': 2, 'tuple': 2, 'pyinstaller': 2, 'mysql': 2, 'dataframe': 4, 'pandas': 7, 'function': 3, 'canvas': 1, 'fabric': 1, 'iterator': 1, 'c': 18, 'c++': 8, 'array': 3, 'advertisement': 1, 'regression-analysis': 1, 'logistic-regression': 1, 'statsmodels': 1, 'oop': 1, 'program': 1, 'eclipse': 1, 'runtime-error': 1, 'dump': 1, 'flutter': 2, 'react': 2, 'webview': 1, 'error': 3, 'dev-c++': 1, 'dictionary': 3, 'qt': 1, 'qt-designer': 1, 'typescript': 2, 'environment-variables': 1, 'for': 6, 'preprocessor': 1, 'ai': 3, 'and': 1, 'tkinter': 4, 'socket': 1, 'loops': 4, 'header': 1, 'python3.6.1': 1, 'len': 1, 'linux': 2, 'python-2.7': 1, 'application': 1, 'idle': 1, 'pointer': 1, 'while-loop': 3, 'android-studio': 5, 'server': 1, 'connect': 1, 'tcp': 1, 'csv': 2, 'recursive': 1, 'write': 1, 'developer': 1, 'recyclerview': 2, 'stack': 1, 'tree': 1, 'r': 1, 'abstract-class': 1, 'arduino': 2, 'eoferror': 1, 'file': 2, 'txt': 1, 'macos': 1, 'pyside2': 2, 'firebase': 1, 'datetime': 2, 'date': 1, 'sorting': 1, 'jupyter-notebook': 3, 'konlpy': 1, 'text-mining': 1, 'matrix': 1, 'lambda': 1, 'machine-learning': 1, 'project': 1, 'syntax-error': 1, 'button': 1, 'event': 1, 'matlab': 1, 'time': 1, 'django': 1, 'api': 1, 'google-chrome': 1, 'numpy': 6, 'windows': 1, 'korean': 2, 'timedelta': 1, 'postfix': 1, 'swap': 1, 'opengl': 1, 'matplotlib': 1, 'split': 2, 'android': 3, 'method': 2, 'config': 1, 'parser': 1, 'xml': 1, 'pyqt5': 1, 'mobile': 1, 'index': 1, 'tensorflow': 1, 'format': 1, 'github': 2, 'image': 3, 'upload': 1, 'script': 1, 'recursion': 1, 'mfc': 1, 'jsp': 1, 'servlet': 1, 'unity': 1, 'coding-test': 1, 'pygame': 1, 'regex': 3, 'figcaption': 1, 'def': 2, 'global-variable': 1, 'bash': 1, 'reference': 1, 'virtual-functions': 1, 'data': 1, 'formatt': 1, 'emulator': 1, 'kotlin': 1, 'android-asynctask': 1, 'opencv': 1, 'casting': 1, 'anaconda': 1, 'json': 1, 'map': 1, 'input': 1, 'jupyter': 1, 'sklearn': 1, 'unicode': 1, 'cpu': 1, '2d-array': 1, 'pyqt': 1, 'visual-studio': 1, 'winapi': 1, 'module': 1, 'primes': 1, 'binary-search': 1, 'rgb': 1, 'permissions': 1, 'coding': 1}\n",
      "{'node.js': 5, 'python': 146, 'process': 1, 'web': 2, 'auto': 1, 'macro': 1, 'mariadb': 1, 'css': 3, 'html': 5, 'java': 23, 'crawling': 4, 'selenium': 7, 'algorithm': 2, 'list': 8, 'class': 2, 'private': 1, 'openpyxl': 2, 'c#': 3, 'web-crawling': 3, 'javascript': 3, 'python3': 2, 'selenium-webdrive': 2, 'random': 2, 'tuple': 2, 'pyinstaller': 2, 'mysql': 2, 'dataframe': 4, 'pandas': 8, 'function': 4, 'canvas': 1, 'fabric': 1, 'iterator': 1, 'c': 20, 'c++': 10, 'array': 4, 'advertisement': 1, 'regression-analysis': 1, 'logistic-regression': 1, 'statsmodels': 1, 'oop': 1, 'program': 1, 'eclipse': 1, 'runtime-error': 1, 'dump': 1, 'flutter': 2, 'react': 2, 'webview': 1, 'error': 5, 'dev-c++': 1, 'dictionary': 4, 'qt': 1, 'qt-designer': 1, 'typescript': 2, 'environment-variables': 1, 'for': 9, 'preprocessor': 1, 'ai': 3, 'and': 1, 'tkinter': 4, 'socket': 1, 'loops': 4, 'header': 1, 'python3.6.1': 1, 'len': 1, 'linux': 3, 'python-2.7': 1, 'application': 1, 'idle': 1, 'pointer': 2, 'while-loop': 6, 'android-studio': 6, 'server': 1, 'connect': 1, 'tcp': 1, 'csv': 2, 'recursive': 1, 'write': 1, 'developer': 1, 'recyclerview': 2, 'stack': 1, 'tree': 1, 'r': 2, 'abstract-class': 1, 'arduino': 2, 'eoferror': 1, 'file': 2, 'txt': 2, 'macos': 1, 'pyside2': 2, 'firebase': 1, 'datetime': 3, 'date': 1, 'sorting': 1, 'jupyter-notebook': 3, 'konlpy': 1, 'text-mining': 1, 'matrix': 2, 'lambda': 1, 'machine-learning': 1, 'project': 1, 'syntax-error': 1, 'button': 1, 'event': 1, 'matlab': 1, 'time': 1, 'django': 2, 'api': 1, 'google-chrome': 1, 'numpy': 6, 'windows': 1, 'korean': 2, 'timedelta': 1, 'postfix': 1, 'swap': 1, 'opengl': 1, 'matplotlib': 1, 'split': 2, 'android': 6, 'method': 2, 'config': 1, 'parser': 1, 'xml': 1, 'pyqt5': 1, 'mobile': 1, 'index': 1, 'tensorflow': 1, 'format': 1, 'github': 2, 'image': 3, 'upload': 1, 'script': 1, 'recursion': 1, 'mfc': 1, 'jsp': 1, 'servlet': 1, 'unity': 1, 'coding-test': 1, 'pygame': 1, 'regex': 3, 'figcaption': 1, 'def': 2, 'global-variable': 1, 'bash': 3, 'reference': 1, 'virtual-functions': 1, 'data': 1, 'formatt': 1, 'emulator': 1, 'kotlin': 1, 'android-asynctask': 1, 'opencv': 2, 'casting': 1, 'anaconda': 1, 'json': 1, 'map': 1, 'input': 2, 'jupyter': 1, 'sklearn': 1, 'unicode': 1, 'cpu': 1, '2d-array': 1, 'pyqt': 1, 'visual-studio': 1, 'winapi': 2, 'module': 1, 'primes': 2, 'binary-search': 1, 'rgb': 1, 'permissions': 1, 'coding': 4, 'sqlite3': 1, 'segmentation-fault': 2, 'shell': 2, 'if문': 1, 'programming': 2, 'terminal': 1, 'grep': 1, 'dynamic-allocation': 1, 'replace': 1, 'conditional-statement': 1, 'cv2': 1, 'gui': 1}\n",
      "{'node.js': 5, 'python': 169, 'process': 1, 'web': 2, 'auto': 1, 'macro': 1, 'mariadb': 1, 'css': 3, 'html': 5, 'java': 26, 'crawling': 4, 'selenium': 8, 'algorithm': 2, 'list': 12, 'class': 3, 'private': 1, 'openpyxl': 2, 'c#': 3, 'web-crawling': 3, 'javascript': 3, 'python3': 3, 'selenium-webdrive': 2, 'random': 2, 'tuple': 2, 'pyinstaller': 2, 'mysql': 2, 'dataframe': 7, 'pandas': 11, 'function': 4, 'canvas': 1, 'fabric': 1, 'iterator': 1, 'c': 26, 'c++': 14, 'array': 5, 'advertisement': 1, 'regression-analysis': 1, 'logistic-regression': 1, 'statsmodels': 1, 'oop': 1, 'program': 2, 'eclipse': 1, 'runtime-error': 1, 'dump': 1, 'flutter': 2, 'react': 2, 'webview': 1, 'error': 7, 'dev-c++': 1, 'dictionary': 4, 'qt': 2, 'qt-designer': 2, 'typescript': 2, 'environment-variables': 1, 'for': 10, 'preprocessor': 1, 'ai': 3, 'and': 1, 'tkinter': 4, 'socket': 2, 'loops': 4, 'header': 1, 'python3.6.1': 1, 'len': 1, 'linux': 4, 'python-2.7': 1, 'application': 1, 'idle': 1, 'pointer': 2, 'while-loop': 6, 'android-studio': 7, 'server': 2, 'connect': 1, 'tcp': 1, 'csv': 2, 'recursive': 2, 'write': 1, 'developer': 1, 'recyclerview': 2, 'stack': 1, 'tree': 1, 'r': 2, 'abstract-class': 1, 'arduino': 2, 'eoferror': 1, 'file': 2, 'txt': 2, 'macos': 1, 'pyside2': 2, 'firebase': 1, 'datetime': 3, 'date': 1, 'sorting': 1, 'jupyter-notebook': 3, 'konlpy': 1, 'text-mining': 1, 'matrix': 2, 'lambda': 1, 'machine-learning': 1, 'project': 1, 'syntax-error': 1, 'button': 1, 'event': 1, 'matlab': 1, 'time': 1, 'django': 3, 'api': 2, 'google-chrome': 1, 'numpy': 6, 'windows': 1, 'korean': 2, 'timedelta': 1, 'postfix': 1, 'swap': 1, 'opengl': 2, 'matplotlib': 1, 'split': 2, 'android': 8, 'method': 2, 'config': 1, 'parser': 1, 'xml': 1, 'pyqt5': 2, 'mobile': 1, 'index': 1, 'tensorflow': 1, 'format': 1, 'github': 3, 'image': 4, 'upload': 1, 'script': 1, 'recursion': 1, 'mfc': 1, 'jsp': 1, 'servlet': 1, 'unity': 1, 'coding-test': 1, 'pygame': 1, 'regex': 3, 'figcaption': 1, 'def': 2, 'global-variable': 1, 'bash': 3, 'reference': 1, 'virtual-functions': 1, 'data': 1, 'formatt': 1, 'emulator': 1, 'kotlin': 4, 'android-asynctask': 1, 'opencv': 2, 'casting': 1, 'anaconda': 1, 'json': 1, 'map': 1, 'input': 2, 'jupyter': 1, 'sklearn': 1, 'unicode': 1, 'cpu': 1, '2d-array': 1, 'pyqt': 1, 'visual-studio': 1, 'winapi': 2, 'module': 1, 'primes': 2, 'binary-search': 1, 'rgb': 1, 'permissions': 1, 'coding': 5, 'sqlite3': 1, 'segmentation-fault': 2, 'shell': 2, 'if문': 3, 'programming': 2, 'terminal': 1, 'grep': 1, 'dynamic-allocation': 1, 'replace': 1, 'conditional-statement': 1, 'cv2': 1, 'gui': 2, 'visual': 1, 'object': 1, 'if-else': 1, 'ubuntu': 1, 'binary': 1, 'math': 1, 'stt': 1, 'bluetooth': 1, 'label': 1, 'excel': 1, 'geolocation': 1, 'char': 1, 'scraping': 1, 'turtle': 1}\n",
      "{'node.js': 5, 'python': 195, 'process': 1, 'web': 2, 'auto': 1, 'macro': 1, 'mariadb': 1, 'css': 6, 'html': 6, 'java': 27, 'crawling': 4, 'selenium': 9, 'algorithm': 2, 'list': 13, 'class': 3, 'private': 1, 'openpyxl': 2, 'c#': 3, 'web-crawling': 3, 'javascript': 4, 'python3': 3, 'selenium-webdrive': 2, 'random': 2, 'tuple': 2, 'pyinstaller': 2, 'mysql': 2, 'dataframe': 7, 'pandas': 12, 'function': 4, 'canvas': 1, 'fabric': 1, 'iterator': 1, 'c': 33, 'c++': 17, 'array': 7, 'advertisement': 1, 'regression-analysis': 1, 'logistic-regression': 1, 'statsmodels': 1, 'oop': 1, 'program': 2, 'eclipse': 2, 'runtime-error': 1, 'dump': 1, 'flutter': 2, 'react': 2, 'webview': 1, 'error': 7, 'dev-c++': 1, 'dictionary': 5, 'qt': 2, 'qt-designer': 2, 'typescript': 2, 'environment-variables': 1, 'for': 10, 'preprocessor': 1, 'ai': 3, 'and': 1, 'tkinter': 4, 'socket': 2, 'loops': 4, 'header': 1, 'python3.6.1': 1, 'len': 1, 'linux': 5, 'python-2.7': 2, 'application': 1, 'idle': 1, 'pointer': 2, 'while-loop': 6, 'android-studio': 7, 'server': 2, 'connect': 1, 'tcp': 1, 'csv': 2, 'recursive': 3, 'write': 1, 'developer': 1, 'recyclerview': 2, 'stack': 1, 'tree': 1, 'r': 2, 'abstract-class': 1, 'arduino': 2, 'eoferror': 1, 'file': 2, 'txt': 2, 'macos': 1, 'pyside2': 2, 'firebase': 1, 'datetime': 3, 'date': 1, 'sorting': 1, 'jupyter-notebook': 3, 'konlpy': 1, 'text-mining': 1, 'matrix': 2, 'lambda': 1, 'machine-learning': 2, 'project': 1, 'syntax-error': 1, 'button': 1, 'event': 1, 'matlab': 1, 'time': 1, 'django': 4, 'api': 2, 'google-chrome': 1, 'numpy': 6, 'windows': 1, 'korean': 2, 'timedelta': 1, 'postfix': 1, 'swap': 1, 'opengl': 2, 'matplotlib': 3, 'split': 2, 'android': 8, 'method': 2, 'config': 1, 'parser': 1, 'xml': 1, 'pyqt5': 2, 'mobile': 1, 'index': 1, 'tensorflow': 1, 'format': 1, 'github': 3, 'image': 4, 'upload': 1, 'script': 1, 'recursion': 2, 'mfc': 1, 'jsp': 1, 'servlet': 1, 'unity': 1, 'coding-test': 1, 'pygame': 1, 'regex': 3, 'figcaption': 1, 'def': 2, 'global-variable': 1, 'bash': 3, 'reference': 1, 'virtual-functions': 1, 'data': 1, 'formatt': 1, 'emulator': 1, 'kotlin': 4, 'android-asynctask': 1, 'opencv': 2, 'casting': 1, 'anaconda': 2, 'json': 1, 'map': 1, 'input': 2, 'jupyter': 1, 'sklearn': 1, 'unicode': 1, 'cpu': 1, '2d-array': 1, 'pyqt': 1, 'visual-studio': 1, 'winapi': 2, 'module': 1, 'primes': 2, 'binary-search': 1, 'rgb': 1, 'permissions': 2, 'coding': 6, 'sqlite3': 2, 'segmentation-fault': 2, 'shell': 2, 'if문': 3, 'programming': 2, 'terminal': 1, 'grep': 2, 'dynamic-allocation': 1, 'replace': 1, 'conditional-statement': 1, 'cv2': 1, 'gui': 2, 'visual': 1, 'object': 1, 'if-else': 1, 'ubuntu': 1, 'binary': 1, 'math': 1, 'stt': 1, 'bluetooth': 1, 'label': 1, 'excel': 1, 'geolocation': 1, 'char': 1, 'scraping': 1, 'turtle': 2, 'flex': 1, 'operator-overloading': 1, 'querying': 1, 'orm': 1, 'sqlite': 1, 'data-structure': 1, 'binary-tree': 1, 'thread': 1, 'vscode': 1, 'raspberry-pi': 1, 'pop': 1, 'push': 1, 'inheritance': 1, 'constructor': 1, 'boolean': 1, 'calculate': 1, '3d': 1, 'php': 1}\n",
      "{'node.js': 5, 'python': 217, 'process': 1, 'web': 2, 'auto': 1, 'macro': 1, 'mariadb': 1, 'css': 6, 'html': 6, 'java': 30, 'crawling': 4, 'selenium': 11, 'algorithm': 3, 'list': 13, 'class': 4, 'private': 1, 'openpyxl': 3, 'c#': 3, 'web-crawling': 3, 'javascript': 8, 'python3': 3, 'selenium-webdrive': 2, 'random': 2, 'tuple': 2, 'pyinstaller': 2, 'mysql': 2, 'dataframe': 8, 'pandas': 12, 'function': 5, 'canvas': 1, 'fabric': 1, 'iterator': 1, 'c': 40, 'c++': 24, 'array': 7, 'advertisement': 1, 'regression-analysis': 1, 'logistic-regression': 1, 'statsmodels': 1, 'oop': 1, 'program': 2, 'eclipse': 2, 'runtime-error': 1, 'dump': 1, 'flutter': 2, 'react': 2, 'webview': 1, 'error': 7, 'dev-c++': 1, 'dictionary': 5, 'qt': 2, 'qt-designer': 2, 'typescript': 2, 'environment-variables': 1, 'for': 10, 'preprocessor': 1, 'ai': 3, 'and': 1, 'tkinter': 4, 'socket': 2, 'loops': 4, 'header': 1, 'python3.6.1': 1, 'len': 1, 'linux': 6, 'python-2.7': 2, 'application': 1, 'idle': 1, 'pointer': 2, 'while-loop': 6, 'android-studio': 7, 'server': 2, 'connect': 1, 'tcp': 1, 'csv': 3, 'recursive': 3, 'write': 1, 'developer': 1, 'recyclerview': 2, 'stack': 1, 'tree': 1, 'r': 2, 'abstract-class': 1, 'arduino': 3, 'eoferror': 1, 'file': 2, 'txt': 2, 'macos': 1, 'pyside2': 2, 'firebase': 1, 'datetime': 3, 'date': 1, 'sorting': 1, 'jupyter-notebook': 3, 'konlpy': 1, 'text-mining': 1, 'matrix': 2, 'lambda': 1, 'machine-learning': 2, 'project': 1, 'syntax-error': 1, 'button': 1, 'event': 1, 'matlab': 1, 'time': 1, 'django': 4, 'api': 2, 'google-chrome': 1, 'numpy': 6, 'windows': 1, 'korean': 2, 'timedelta': 1, 'postfix': 1, 'swap': 1, 'opengl': 2, 'matplotlib': 3, 'split': 2, 'android': 9, 'method': 2, 'config': 1, 'parser': 1, 'xml': 1, 'pyqt5': 2, 'mobile': 1, 'index': 1, 'tensorflow': 1, 'format': 1, 'github': 3, 'image': 4, 'upload': 1, 'script': 1, 'recursion': 2, 'mfc': 2, 'jsp': 2, 'servlet': 1, 'unity': 1, 'coding-test': 1, 'pygame': 1, 'regex': 3, 'figcaption': 1, 'def': 2, 'global-variable': 1, 'bash': 3, 'reference': 1, 'virtual-functions': 1, 'data': 1, 'formatt': 1, 'emulator': 1, 'kotlin': 4, 'android-asynctask': 1, 'opencv': 2, 'casting': 1, 'anaconda': 2, 'json': 1, 'map': 1, 'input': 2, 'jupyter': 1, 'sklearn': 1, 'unicode': 1, 'cpu': 1, '2d-array': 1, 'pyqt': 1, 'visual-studio': 1, 'winapi': 2, 'module': 1, 'primes': 2, 'binary-search': 1, 'rgb': 1, 'permissions': 2, 'coding': 7, 'sqlite3': 2, 'segmentation-fault': 2, 'shell': 3, 'if문': 3, 'programming': 2, 'terminal': 1, 'grep': 2, 'dynamic-allocation': 1, 'replace': 1, 'conditional-statement': 2, 'cv2': 1, 'gui': 2, 'visual': 1, 'object': 1, 'if-else': 1, 'ubuntu': 2, 'binary': 1, 'math': 1, 'stt': 1, 'bluetooth': 1, 'label': 1, 'excel': 1, 'geolocation': 1, 'char': 1, 'scraping': 1, 'turtle': 2, 'flex': 1, 'operator-overloading': 1, 'querying': 1, 'orm': 1, 'sqlite': 1, 'data-structure': 1, 'binary-tree': 1, 'thread': 1, 'vscode': 1, 'raspberry-pi': 1, 'pop': 1, 'push': 1, 'inheritance': 1, 'constructor': 2, 'boolean': 1, 'calculate': 1, '3d': 1, 'php': 4, 'putty': 1, 'file-io': 1, 'pycharm': 1}\n",
      "{'node.js': 5, 'python': 243, 'process': 1, 'web': 2, 'auto': 1, 'macro': 1, 'mariadb': 1, 'css': 6, 'html': 6, 'java': 35, 'crawling': 4, 'selenium': 12, 'algorithm': 3, 'list': 14, 'class': 5, 'private': 1, 'openpyxl': 3, 'c#': 4, 'web-crawling': 3, 'javascript': 11, 'python3': 3, 'selenium-webdrive': 2, 'random': 2, 'tuple': 2, 'pyinstaller': 2, 'mysql': 2, 'dataframe': 8, 'pandas': 13, 'function': 5, 'canvas': 1, 'fabric': 1, 'iterator': 1, 'c': 41, 'c++': 26, 'array': 9, 'advertisement': 1, 'regression-analysis': 1, 'logistic-regression': 1, 'statsmodels': 1, 'oop': 1, 'program': 2, 'eclipse': 2, 'runtime-error': 1, 'dump': 1, 'flutter': 2, 'react': 2, 'webview': 1, 'error': 8, 'dev-c++': 1, 'dictionary': 5, 'qt': 2, 'qt-designer': 2, 'typescript': 2, 'environment-variables': 1, 'for': 10, 'preprocessor': 1, 'ai': 3, 'and': 1, 'tkinter': 4, 'socket': 2, 'loops': 5, 'header': 1, 'python3.6.1': 1, 'len': 1, 'linux': 6, 'python-2.7': 2, 'application': 1, 'idle': 1, 'pointer': 2, 'while-loop': 6, 'android-studio': 7, 'server': 2, 'connect': 1, 'tcp': 1, 'csv': 3, 'recursive': 3, 'write': 1, 'developer': 1, 'recyclerview': 2, 'stack': 1, 'tree': 1, 'r': 2, 'abstract-class': 1, 'arduino': 3, 'eoferror': 1, 'file': 2, 'txt': 2, 'macos': 1, 'pyside2': 2, 'firebase': 1, 'datetime': 3, 'date': 1, 'sorting': 1, 'jupyter-notebook': 3, 'konlpy': 1, 'text-mining': 1, 'matrix': 2, 'lambda': 1, 'machine-learning': 2, 'project': 1, 'syntax-error': 1, 'button': 1, 'event': 1, 'matlab': 1, 'time': 1, 'django': 4, 'api': 2, 'google-chrome': 1, 'numpy': 6, 'windows': 1, 'korean': 2, 'timedelta': 1, 'postfix': 1, 'swap': 1, 'opengl': 2, 'matplotlib': 3, 'split': 2, 'android': 10, 'method': 2, 'config': 1, 'parser': 1, 'xml': 1, 'pyqt5': 3, 'mobile': 1, 'index': 1, 'tensorflow': 1, 'format': 1, 'github': 3, 'image': 4, 'upload': 1, 'script': 1, 'recursion': 2, 'mfc': 3, 'jsp': 2, 'servlet': 1, 'unity': 1, 'coding-test': 1, 'pygame': 1, 'regex': 4, 'figcaption': 1, 'def': 2, 'global-variable': 1, 'bash': 3, 'reference': 1, 'virtual-functions': 1, 'data': 1, 'formatt': 1, 'emulator': 1, 'kotlin': 4, 'android-asynctask': 1, 'opencv': 2, 'casting': 1, 'anaconda': 3, 'json': 2, 'map': 1, 'input': 2, 'jupyter': 2, 'sklearn': 1, 'unicode': 1, 'cpu': 1, '2d-array': 1, 'pyqt': 1, 'visual-studio': 1, 'winapi': 2, 'module': 1, 'primes': 2, 'binary-search': 1, 'rgb': 1, 'permissions': 2, 'coding': 7, 'sqlite3': 2, 'segmentation-fault': 2, 'shell': 3, 'if문': 3, 'programming': 2, 'terminal': 1, 'grep': 2, 'dynamic-allocation': 1, 'replace': 1, 'conditional-statement': 2, 'cv2': 1, 'gui': 2, 'visual': 1, 'object': 1, 'if-else': 1, 'ubuntu': 3, 'binary': 1, 'math': 1, 'stt': 1, 'bluetooth': 1, 'label': 1, 'excel': 1, 'geolocation': 1, 'char': 2, 'scraping': 1, 'turtle': 2, 'flex': 1, 'operator-overloading': 1, 'querying': 1, 'orm': 1, 'sqlite': 1, 'data-structure': 1, 'binary-tree': 1, 'thread': 1, 'vscode': 1, 'raspberry-pi': 1, 'pop': 1, 'push': 2, 'inheritance': 1, 'constructor': 2, 'boolean': 1, 'calculate': 1, '3d': 1, 'php': 4, 'putty': 1, 'file-io': 1, 'pycharm': 1, '용량': 1, 'oracle': 1, 'install': 1, 'code': 1, 'deep-learning': 1, 'scrollbar': 1, 'duplicate': 1, 'string': 1, 'print': 1, 'emoji': 1, 'regexp': 1}\n"
     ]
    }
   ],
   "source": [
    "# 필요한 라이브러리를 불러온 후, 요청을 진행해봅시다.\n",
    "# 질문의 빈도를 체크하는 dict를 만든 후, 빈도를 체크해봅시다.\n",
    "\n",
    "import requests\n",
    "from bs4 import BeautifulSoup\n",
    "\n",
    "frequency = {}\n",
    "\n",
    "for i in range(1, 11):\n",
    "    # 페이지를 넘겨가면서 불러올거임\n",
    "    res = requests.get(\"https://hashcode.co.kr/?page={}\".format(i), user_agent)\n",
    "    soup = BeautifulSoup(res.text, \"html.parser\")\n",
    "\n",
    "    # 1. ul 태그를 모두 찾기\n",
    "    # 2. 1번 안에 있는 li 태그의 text를 추출\n",
    "\n",
    "    ul_tags = soup.find_all(\"ul\", \"question-tags\")\n",
    "\n",
    "    for ul in ul_tags:\n",
    "        li_tags = ul.find_all(\"li\")\n",
    "\n",
    "        for li in li_tags:\n",
    "            \n",
    "            # 태그된 수를 세어서 질문 빈도 체크하기\n",
    "            tag = li.text.strip()\n",
    "\n",
    "            if tag not in frequency:\n",
    "                frequency[tag] = 1\n",
    "            else:\n",
    "                frequency[tag] += 1\n",
    "\n",
    "    print(frequency)"
   ]
  },
  {
   "cell_type": "code",
   "execution_count": 46,
   "metadata": {},
   "outputs": [
    {
     "data": {
      "text/plain": [
       "[('python', 243),\n",
       " ('c', 41),\n",
       " ('java', 35),\n",
       " ('c++', 26),\n",
       " ('list', 14),\n",
       " ('pandas', 13),\n",
       " ('selenium', 12),\n",
       " ('javascript', 11),\n",
       " ('for', 10),\n",
       " ('android', 10)]"
      ]
     },
     "execution_count": 46,
     "metadata": {},
     "output_type": "execute_result"
    }
   ],
   "source": [
    "# Counter를 사용해 가장 빈도가 높은 value들을 추출합니다.\n",
    "\n",
    "from collections import Counter\n",
    "\n",
    "counter = Counter(frequency)\n",
    "\n",
    "counter.most_common(10)"
   ]
  },
  {
   "cell_type": "code",
   "execution_count": 50,
   "metadata": {},
   "outputs": [
    {
     "data": {
      "text/plain": [
       "<AxesSubplot:>"
      ]
     },
     "execution_count": 50,
     "metadata": {},
     "output_type": "execute_result"
    },
    {
     "data": {
      "image/png": "[encoded data removed]",
      "text/plain": [
       "<Figure size 432x288 with 1 Axes>"
      ]
     },
     "metadata": {
      "needs_background": "light"
     },
     "output_type": "display_data"
    }
   ],
   "source": [
    "# Seaborn을 이용해 이를 Barplot으로 그립니다.\n",
    "\n",
    "x = [elem[0] for elem in counter.most_common(10)]\n",
    "y = [elem[1] for elem in counter.most_common(10)]\n",
    "\n",
    "sns.barplot(x=x, y=y)"
   ]
  },
  {
   "cell_type": "code",
   "execution_count": 53,
   "metadata": {},
   "outputs": [
    {
     "data": {
      "image/png": "[encoded data removed]",
      "text/plain": [
       "<Figure size 1440x720 with 1 Axes>"
      ]
     },
     "metadata": {
      "needs_background": "light"
     },
     "output_type": "display_data"
    }
   ],
   "source": [
    "# figure, xlabel, ylabel, title을 적절하게 설정해서 시각화를 완성해봅시다.\n",
    "\n",
    "plt.figure(figsize=(20, 10))\n",
    "plt.title(\"Frequency of tag in Q\")\n",
    "plt.xlabel(\"Tag\")\n",
    "plt.ylabel(\"Frequency\")\n",
    "\n",
    "sns.barplot(x=x, y=y)\n",
    "\n",
    "plt.show()"
   ]
  },
  {
   "cell_type": "markdown",
   "metadata": {},
   "source": [
    "----\n",
    "## 뭉게뭉게 단어구름, Wordcloud\n",
    "\n",
    "- wordcloud를 이용해서 텍스트 구름을 만들어봅시다."
   ]
  },
  {
   "cell_type": "markdown",
   "metadata": {},
   "source": [
    "### `wordcloud` 라이브러리와 `konlpy` 라이브러리\n",
    "\n",
    "`wordcloud`는 파이썬의 텍스트 클라우드 라이브러리입니다. 이를 기반으로 텍스트 구름을 그릴 수 있습니다.  \n",
    "`konlpy`는 한국어 형태소 분석기 라이브러리로, 주어진 문장에서 명사 등을 뽑아 내는 데에 사용할 수 있습니다.\n",
    "\n",
    "우선, 이들을 사용하기 위해서 `pip`를 사용해 다운로드를 받아봅시다.\n",
    "\n",
    "> Tip: `%`를 이용해서 노트북(.ipynb) 환경에서 터미널 코드를 실행할 수 있습니다."
   ]
  },
  {
   "cell_type": "code",
   "execution_count": 57,
   "metadata": {},
   "outputs": [
    {
     "name": "stdout",
     "output_type": "stream",
     "text": [
      "\u001b[33mDEPRECATION: Configuring installation scheme with distutils config files is deprecated and will no longer work in the near future. If you are using a Homebrew or Linuxbrew Python, please see discussion at https://github.com/Homebrew/homebrew-core/issues/76621\u001b[0m\u001b[33m\n",
      "\u001b[0mRequirement already satisfied: wordcloud in /opt/homebrew/lib/python3.9/site-packages (1.8.2.2)\n",
      "Requirement already satisfied: numpy>=1.6.1 in /opt/homebrew/lib/python3.9/site-packages (from wordcloud) (1.23.0)\n",
      "Requirement already satisfied: pillow in /opt/homebrew/lib/python3.9/site-packages (from wordcloud) (9.2.0)\n",
      "Requirement already satisfied: matplotlib in /opt/homebrew/lib/python3.9/site-packages (from wordcloud) (3.5.2)\n",
      "Requirement already satisfied: pyparsing>=2.2.1 in /opt/homebrew/lib/python3.9/site-packages (from matplotlib->wordcloud) (3.0.9)\n",
      "Requirement already satisfied: kiwisolver>=1.0.1 in /opt/homebrew/lib/python3.9/site-packages (from matplotlib->wordcloud) (1.4.3)\n",
      "Requirement already satisfied: python-dateutil>=2.7 in /opt/homebrew/lib/python3.9/site-packages (from matplotlib->wordcloud) (2.8.2)\n",
      "Requirement already satisfied: fonttools>=4.22.0 in /opt/homebrew/lib/python3.9/site-packages (from matplotlib->wordcloud) (4.34.2)\n",
      "Requirement already satisfied: cycler>=0.10 in /opt/homebrew/lib/python3.9/site-packages (from matplotlib->wordcloud) (0.11.0)\n",
      "Requirement already satisfied: packaging>=20.0 in /opt/homebrew/lib/python3.9/site-packages (from matplotlib->wordcloud) (21.3)\n",
      "Requirement already satisfied: six>=1.5 in /opt/homebrew/lib/python3.9/site-packages (from python-dateutil>=2.7->matplotlib->wordcloud) (1.16.0)\n",
      "\u001b[33mDEPRECATION: Configuring installation scheme with distutils config files is deprecated and will no longer work in the near future. If you are using a Homebrew or Linuxbrew Python, please see discussion at https://github.com/Homebrew/homebrew-core/issues/76621\u001b[0m\u001b[33m\n",
      "\u001b[0m\n",
      "\u001b[1m[\u001b[0m\u001b[34;49mnotice\u001b[0m\u001b[1;39;49m]\u001b[0m\u001b[39;49m A new release of pip available: \u001b[0m\u001b[31;49m22.1.2\u001b[0m\u001b[39;49m -> \u001b[0m\u001b[32;49m22.2\u001b[0m\n",
      "\u001b[1m[\u001b[0m\u001b[34;49mnotice\u001b[0m\u001b[1;39;49m]\u001b[0m\u001b[39;49m To update, run: \u001b[0m\u001b[32;49mpython3.9 -m pip install --upgrade pip\u001b[0m\n",
      "Note: you may need to restart the kernel to use updated packages.\n",
      "\u001b[33mDEPRECATION: Configuring installation scheme with distutils config files is deprecated and will no longer work in the near future. If you are using a Homebrew or Linuxbrew Python, please see discussion at https://github.com/Homebrew/homebrew-core/issues/76621\u001b[0m\u001b[33m\n",
      "\u001b[0mCollecting konlpy\n",
      "  Downloading konlpy-0.6.0-py2.py3-none-any.whl (19.4 MB)\n",
      "\u001b[2K     \u001b[90m━━━━━━━━━━━━━━━━━━━━━━━━━━━━━━━━━━━━━━━━\u001b[0m \u001b[32m19.4/19.4 MB\u001b[0m \u001b[31m47.0 MB/s\u001b[0m eta \u001b[36m0:00:00\u001b[0m00:01\u001b[0m00:01\u001b[0m\n",
      "\u001b[?25hRequirement already satisfied: numpy>=1.6 in /opt/homebrew/lib/python3.9/site-packages (from konlpy) (1.23.0)\n",
      "Collecting JPype1>=0.7.0\n",
      "  Downloading JPype1-1.4.0.tar.gz (1.2 MB)\n",
      "\u001b[2K     \u001b[90m━━━━━━━━━━━━━━━━━━━━━━━━━━━━━━━━━━━━━━━━\u001b[0m \u001b[32m1.2/1.2 MB\u001b[0m \u001b[31m30.3 MB/s\u001b[0m eta \u001b[36m0:00:00\u001b[0m00:01\u001b[0m\n",
      "\u001b[?25h  Preparing metadata (setup.py) ... \u001b[?25ldone\n",
      "\u001b[?25hCollecting lxml>=4.1.0\n",
      "  Downloading lxml-4.9.1.tar.gz (3.4 MB)\n",
      "\u001b[2K     \u001b[90m━━━━━━━━━━━━━━━━━━━━━━━━━━━━━━━━━━━━━━━━\u001b[0m \u001b[32m3.4/3.4 MB\u001b[0m \u001b[31m38.5 MB/s\u001b[0m eta \u001b[36m0:00:00\u001b[0m00:01\u001b[0m00:01\u001b[0m\n",
      "\u001b[?25h  Preparing metadata (setup.py) ... \u001b[?25ldone\n",
      "\u001b[?25hBuilding wheels for collected packages: JPype1, lxml\n",
      "  Building wheel for JPype1 (setup.py) ... \u001b[?25ldone\n",
      "\u001b[?25h  Created wheel for JPype1: filename=JPype1-1.4.0-cp39-cp39-macosx_12_0_arm64.whl size=368030 sha256=a285f8d2ca4a8423acd8e3cea712e3022ca7e3406cd913baee10184b0122df61\n",
      "  Stored in directory: /Users/jithoon/Library/Caches/pip/wheels/18/e3/c3/d4631b48a04ef3c11288fa19aeb676afecfbcadc4ec1a29ec0\n",
      "  Building wheel for lxml (setup.py) ... \u001b[?25ldone\n",
      "\u001b[?25h  Created wheel for lxml: filename=lxml-4.9.1-cp39-cp39-macosx_12_0_arm64.whl size=1513331 sha256=f84188d3b91b72e7d3dade13857cf20f9ac70cb5c3369ad0315d2c9c5c9c3573\n",
      "  Stored in directory: /Users/jithoon/Library/Caches/pip/wheels/bc/40/07/57dfeee521e18239f57d187948850364c1818be877c9acdf5e\n",
      "Successfully built JPype1 lxml\n",
      "Installing collected packages: lxml, JPype1, konlpy\n",
      "\u001b[33m  DEPRECATION: Configuring installation scheme with distutils config files is deprecated and will no longer work in the near future. If you are using a Homebrew or Linuxbrew Python, please see discussion at https://github.com/Homebrew/homebrew-core/issues/76621\u001b[0m\u001b[33m\n",
      "\u001b[0m\u001b[33m  DEPRECATION: Configuring installation scheme with distutils config files is deprecated and will no longer work in the near future. If you are using a Homebrew or Linuxbrew Python, please see discussion at https://github.com/Homebrew/homebrew-core/issues/76621\u001b[0m\u001b[33m\n",
      "\u001b[0m\u001b[33m  DEPRECATION: Configuring installation scheme with distutils config files is deprecated and will no longer work in the near future. If you are using a Homebrew or Linuxbrew Python, please see discussion at https://github.com/Homebrew/homebrew-core/issues/76621\u001b[0m\u001b[33m\n",
      "\u001b[0m\u001b[33mDEPRECATION: Configuring installation scheme with distutils config files is deprecated and will no longer work in the near future. If you are using a Homebrew or Linuxbrew Python, please see discussion at https://github.com/Homebrew/homebrew-core/issues/76621\u001b[0m\u001b[33m\n",
      "\u001b[0mSuccessfully installed JPype1-1.4.0 konlpy-0.6.0 lxml-4.9.1\n",
      "\n",
      "\u001b[1m[\u001b[0m\u001b[34;49mnotice\u001b[0m\u001b[1;39;49m]\u001b[0m\u001b[39;49m A new release of pip available: \u001b[0m\u001b[31;49m22.1.2\u001b[0m\u001b[39;49m -> \u001b[0m\u001b[32;49m22.2\u001b[0m\n",
      "\u001b[1m[\u001b[0m\u001b[34;49mnotice\u001b[0m\u001b[1;39;49m]\u001b[0m\u001b[39;49m To update, run: \u001b[0m\u001b[32;49mpython3.9 -m pip install --upgrade pip\u001b[0m\n",
      "Note: you may need to restart the kernel to use updated packages.\n"
     ]
    }
   ],
   "source": [
    "# wordcloudd와 konlpy를 설치해봅시다.\n",
    "\n",
    "%pip install wordcloud\n",
    "%pip install konlpy"
   ]
  },
  {
   "cell_type": "markdown",
   "metadata": {},
   "source": [
    "설치를 다 진행했다면, 이제 `wordcloud` 라이브러리를 사용할 준비가 되었습니다."
   ]
  },
  {
   "cell_type": "markdown",
   "metadata": {},
   "source": [
    "### Wordcloud 만들기\n",
    "\n",
    "WordCloud를 만드는 방법은 다음과 같습니다.\n",
    "\n",
    "1. KoNLPy 라이브러리로 한국어 문장을 전처리\n",
    "2. Counter를 이용해 빈도수 측정\n",
    "3. WordCloud를 이용해 시각화\n",
    "\n",
    "이 흐름대로 시각화를 진행해보도록 하겠습니다."
   ]
  },
  {
   "cell_type": "code",
   "execution_count": 1,
   "metadata": {},
   "outputs": [],
   "source": [
    "# 텍스트 구름을 그리기 위해 필요한 라이브러리를 불러와봅시다.\n",
    "\n",
    "# 시각화에 쓰이는 라이브러리\n",
    "import matplotlib.pyplot as plt\n",
    "from wordcloud import WordCloud\n",
    "\n",
    "# 횟수를 기반으로 딕셔너리 생성\n",
    "from collections import Counter\n",
    "\n",
    "# 문장에서 명사를 추출하는 형태소 분석 라이브러리\n",
    "from konlpy.tag import Hannanum"
   ]
  },
  {
   "cell_type": "code",
   "execution_count": 3,
   "metadata": {},
   "outputs": [],
   "source": [
    "# 워드클라우드를 만드는 데 사용할 애국가 가사입니다.\n",
    "\n",
    "national_anthem = \"\"\"\n",
    "동해물과 백두산이 마르고 닳도록\n",
    "하느님이 보우하사 우리나라 만세\n",
    "무궁화 삼천리 화려 강산\n",
    "대한 사람 대한으로 길이 보전하세\n",
    "남산 위에 저 소나무 철갑을 두른 듯\n",
    "바람 서리 불변함은 우리 기상일세\n",
    "무궁화 삼천리 화려 강산\n",
    "대한 사람 대한으로 길이 보전하세\n",
    "가을 하늘 공활한데 높고 구름 없이\n",
    "밝은 달은 우리 가슴 일편단심일세\n",
    "무궁화 삼천리 화려 강산\n",
    "대한 사람 대한으로 길이 보전하세\n",
    "이 기상과 이 맘으로 충성을 다하여\n",
    "괴로우나 즐거우나 나라 사랑하세\n",
    "무궁화 삼천리 화려 강산\n",
    "대한 사람 대한으로 길이 보전하세\n",
    "\"\"\""
   ]
  },
  {
   "cell_type": "markdown",
   "metadata": {},
   "source": [
    "형태소 분석기 객체를 사용해서 주어진 문자열에서 명사를 추출해봅시다."
   ]
  },
  {
   "cell_type": "code",
   "execution_count": 8,
   "metadata": {},
   "outputs": [
    {
     "ename": "OSError",
     "evalue": "[Errno 0] JVM DLL not found: /Library/Java/JavaVirtualMachines/jdk-18.jdk/Contents/Home/lib/libjli.dylib\n",
     "output_type": "error",
     "traceback": [
      "\u001b[0;31m---------------------------------------------------------------------------\u001b[0m",
      "\u001b[0;31mOSError\u001b[0m                                   Traceback (most recent call last)",
      "\u001b[1;32m/Users/jithoon/Documents/cnuai/julyEducation/week4_webscraping3_seaborn.ipynb Cell 46'\u001b[0m in \u001b[0;36m<cell line: 3>\u001b[0;34m()\u001b[0m\n\u001b[1;32m      <a href='vscode-notebook-cell:/Users/jithoon/Documents/cnuai/julyEducation/week4_webscraping3_seaborn.ipynb#ch0000044?line=0'>1</a>\u001b[0m \u001b[39m# hannanum 객체를 생성한 후, .nouns()를 통해 명사를 추출합니다.\u001b[39;00m\n\u001b[0;32m----> <a href='vscode-notebook-cell:/Users/jithoon/Documents/cnuai/julyEducation/week4_webscraping3_seaborn.ipynb#ch0000044?line=2'>3</a>\u001b[0m hannanum \u001b[39m=\u001b[39m Hannanum()\n\u001b[1;32m      <a href='vscode-notebook-cell:/Users/jithoon/Documents/cnuai/julyEducation/week4_webscraping3_seaborn.ipynb#ch0000044?line=3'>4</a>\u001b[0m nouns \u001b[39m=\u001b[39m hannanum\u001b[39m.\u001b[39mnouns(national_anthem)\n\u001b[1;32m      <a href='vscode-notebook-cell:/Users/jithoon/Documents/cnuai/julyEducation/week4_webscraping3_seaborn.ipynb#ch0000044?line=5'>6</a>\u001b[0m nouns[:\u001b[39m10\u001b[39m]\n",
      "File \u001b[0;32m/opt/homebrew/lib/python3.9/site-packages/konlpy/tag/_hannanum.py:69\u001b[0m, in \u001b[0;36mHannanum.__init__\u001b[0;34m(self, jvmpath, max_heap_size)\u001b[0m\n\u001b[1;32m     <a href='file:///opt/homebrew/lib/python3.9/site-packages/konlpy/tag/_hannanum.py?line=66'>67</a>\u001b[0m \u001b[39mdef\u001b[39;00m \u001b[39m__init__\u001b[39m(\u001b[39mself\u001b[39m, jvmpath\u001b[39m=\u001b[39m\u001b[39mNone\u001b[39;00m, max_heap_size\u001b[39m=\u001b[39m\u001b[39m1024\u001b[39m):\n\u001b[1;32m     <a href='file:///opt/homebrew/lib/python3.9/site-packages/konlpy/tag/_hannanum.py?line=67'>68</a>\u001b[0m     \u001b[39mif\u001b[39;00m \u001b[39mnot\u001b[39;00m jpype\u001b[39m.\u001b[39misJVMStarted():\n\u001b[0;32m---> <a href='file:///opt/homebrew/lib/python3.9/site-packages/konlpy/tag/_hannanum.py?line=68'>69</a>\u001b[0m         jvm\u001b[39m.\u001b[39;49minit_jvm(jvmpath, max_heap_size)\n\u001b[1;32m     <a href='file:///opt/homebrew/lib/python3.9/site-packages/konlpy/tag/_hannanum.py?line=70'>71</a>\u001b[0m     jhannanumJavaPackage \u001b[39m=\u001b[39m jpype\u001b[39m.\u001b[39mJPackage(\u001b[39m'\u001b[39m\u001b[39mkr.lucypark.jhannanum.comm\u001b[39m\u001b[39m'\u001b[39m)\n\u001b[1;32m     <a href='file:///opt/homebrew/lib/python3.9/site-packages/konlpy/tag/_hannanum.py?line=71'>72</a>\u001b[0m     HannanumInterfaceJavaClass \u001b[39m=\u001b[39m jhannanumJavaPackage\u001b[39m.\u001b[39mHannanumInterface\n",
      "File \u001b[0;32m/opt/homebrew/lib/python3.9/site-packages/konlpy/jvm.py:64\u001b[0m, in \u001b[0;36minit_jvm\u001b[0;34m(jvmpath, max_heap_size)\u001b[0m\n\u001b[1;32m     <a href='file:///opt/homebrew/lib/python3.9/site-packages/konlpy/jvm.py?line=60'>61</a>\u001b[0m     jvmpath \u001b[39m=\u001b[39m \u001b[39m'\u001b[39m\u001b[39m%s\u001b[39;00m\u001b[39m/lib/jli/libjli.dylib\u001b[39m\u001b[39m'\u001b[39m \u001b[39m%\u001b[39m jvmpath\u001b[39m.\u001b[39msplit(\u001b[39m'\u001b[39m\u001b[39m/lib/\u001b[39m\u001b[39m'\u001b[39m)[\u001b[39m0\u001b[39m]\n\u001b[1;32m     <a href='file:///opt/homebrew/lib/python3.9/site-packages/konlpy/jvm.py?line=62'>63</a>\u001b[0m \u001b[39mif\u001b[39;00m jvmpath:\n\u001b[0;32m---> <a href='file:///opt/homebrew/lib/python3.9/site-packages/konlpy/jvm.py?line=63'>64</a>\u001b[0m     jpype\u001b[39m.\u001b[39;49mstartJVM(jvmpath, \u001b[39m'\u001b[39;49m\u001b[39m-Dfile.encoding=UTF8\u001b[39;49m\u001b[39m'\u001b[39;49m,\n\u001b[1;32m     <a href='file:///opt/homebrew/lib/python3.9/site-packages/konlpy/jvm.py?line=64'>65</a>\u001b[0m                             \u001b[39m'\u001b[39;49m\u001b[39m-ea\u001b[39;49m\u001b[39m'\u001b[39;49m, \u001b[39m'\u001b[39;49m\u001b[39m-Xmx\u001b[39;49m\u001b[39m{}\u001b[39;49;00m\u001b[39mm\u001b[39;49m\u001b[39m'\u001b[39;49m\u001b[39m.\u001b[39;49mformat(max_heap_size),\n\u001b[1;32m     <a href='file:///opt/homebrew/lib/python3.9/site-packages/konlpy/jvm.py?line=65'>66</a>\u001b[0m                             classpath\u001b[39m=\u001b[39;49mclasspath,\n\u001b[1;32m     <a href='file:///opt/homebrew/lib/python3.9/site-packages/konlpy/jvm.py?line=66'>67</a>\u001b[0m                             convertStrings\u001b[39m=\u001b[39;49m\u001b[39mTrue\u001b[39;49;00m)\n\u001b[1;32m     <a href='file:///opt/homebrew/lib/python3.9/site-packages/konlpy/jvm.py?line=67'>68</a>\u001b[0m \u001b[39melse\u001b[39;00m:\n\u001b[1;32m     <a href='file:///opt/homebrew/lib/python3.9/site-packages/konlpy/jvm.py?line=68'>69</a>\u001b[0m     \u001b[39mraise\u001b[39;00m \u001b[39mValueError\u001b[39;00m(\u001b[39m\"\u001b[39m\u001b[39mPlease specify the JVM path.\u001b[39m\u001b[39m\"\u001b[39m)\n",
      "File \u001b[0;32m/opt/homebrew/lib/python3.9/site-packages/jpype/_core.py:218\u001b[0m, in \u001b[0;36mstartJVM\u001b[0;34m(*args, **kwargs)\u001b[0m\n\u001b[1;32m    <a href='file:///opt/homebrew/lib/python3.9/site-packages/jpype/_core.py?line=213'>214</a>\u001b[0m     \u001b[39mraise\u001b[39;00m \u001b[39mTypeError\u001b[39;00m(\u001b[39m\"\u001b[39m\u001b[39mstartJVM() got an unexpected keyword argument \u001b[39m\u001b[39m'\u001b[39m\u001b[39m%s\u001b[39;00m\u001b[39m'\u001b[39m\u001b[39m\"\u001b[39m\n\u001b[1;32m    <a href='file:///opt/homebrew/lib/python3.9/site-packages/jpype/_core.py?line=214'>215</a>\u001b[0m                     \u001b[39m%\u001b[39m (\u001b[39m'\u001b[39m\u001b[39m,\u001b[39m\u001b[39m'\u001b[39m\u001b[39m.\u001b[39mjoin([\u001b[39mstr\u001b[39m(i) \u001b[39mfor\u001b[39;00m i \u001b[39min\u001b[39;00m kwargs])))\n\u001b[1;32m    <a href='file:///opt/homebrew/lib/python3.9/site-packages/jpype/_core.py?line=216'>217</a>\u001b[0m \u001b[39mtry\u001b[39;00m:\n\u001b[0;32m--> <a href='file:///opt/homebrew/lib/python3.9/site-packages/jpype/_core.py?line=217'>218</a>\u001b[0m     _jpype\u001b[39m.\u001b[39;49mstartup(jvmpath, \u001b[39mtuple\u001b[39;49m(args),\n\u001b[1;32m    <a href='file:///opt/homebrew/lib/python3.9/site-packages/jpype/_core.py?line=218'>219</a>\u001b[0m                    ignoreUnrecognized, convertStrings, interrupt)\n\u001b[1;32m    <a href='file:///opt/homebrew/lib/python3.9/site-packages/jpype/_core.py?line=219'>220</a>\u001b[0m     initializeResources()\n\u001b[1;32m    <a href='file:///opt/homebrew/lib/python3.9/site-packages/jpype/_core.py?line=220'>221</a>\u001b[0m \u001b[39mexcept\u001b[39;00m \u001b[39mRuntimeError\u001b[39;00m \u001b[39mas\u001b[39;00m ex:\n",
      "\u001b[0;31mOSError\u001b[0m: [Errno 0] JVM DLL not found: /Library/Java/JavaVirtualMachines/jdk-18.jdk/Contents/Home/lib/libjli.dylib\n"
     ]
    }
   ],
   "source": [
    "# hannanum 객체를 생성한 후, .nouns()를 통해 명사를 추출합니다.\n",
    "\n",
    "hannanum = Hannanum()\n",
    "nouns = hannanum.nouns(national_anthem)\n",
    "\n",
    "nouns[:10]"
   ]
  },
  {
   "cell_type": "markdown",
   "metadata": {},
   "source": [
    "**Java가 설치되어있지 않은 경우, 실행 중 오류가 발생할 수 있습니다.**  \n",
    "[이 링크](https://www.oracle.com/java/technologies/downloads/)에서 여러분의 환경에 맞는 Java를 설치하신 후, 이후 과정을 따라와주세요."
   ]
  },
  {
   "cell_type": "code",
   "execution_count": 10,
   "metadata": {},
   "outputs": [
    {
     "ename": "NameError",
     "evalue": "name 'nouns' is not defined",
     "output_type": "error",
     "traceback": [
      "\u001b[0;31m---------------------------------------------------------------------------\u001b[0m",
      "\u001b[0;31mNameError\u001b[0m                                 Traceback (most recent call last)",
      "\u001b[1;32m/Users/jithoon/Documents/cnuai/julyEducation/week4_webscraping3_seaborn.ipynb Cell 47'\u001b[0m in \u001b[0;36m<cell line: 3>\u001b[0;34m()\u001b[0m\n\u001b[1;32m      <a href='vscode-notebook-cell:/Users/jithoon/Documents/cnuai/julyEducation/week4_webscraping3_seaborn.ipynb#ch0000046?line=0'>1</a>\u001b[0m \u001b[39m# counter를 이용해 각 단어의 개수를 세줍니다.\u001b[39;00m\n\u001b[0;32m----> <a href='vscode-notebook-cell:/Users/jithoon/Documents/cnuai/julyEducation/week4_webscraping3_seaborn.ipynb#ch0000046?line=2'>3</a>\u001b[0m counter \u001b[39m=\u001b[39m Counter(nouns)\n\u001b[1;32m      <a href='vscode-notebook-cell:/Users/jithoon/Documents/cnuai/julyEducation/week4_webscraping3_seaborn.ipynb#ch0000046?line=4'>5</a>\u001b[0m Counter\n",
      "\u001b[0;31mNameError\u001b[0m: name 'nouns' is not defined"
     ]
    }
   ],
   "source": [
    "# counter를 이용해 각 단어의 개수를 세줍니다.\n",
    "\n",
    "counter = Counter(nouns)\n",
    "\n",
    "Counter"
   ]
  },
  {
   "cell_type": "code",
   "execution_count": 9,
   "metadata": {},
   "outputs": [
    {
     "ename": "NameError",
     "evalue": "name 'counter' is not defined",
     "output_type": "error",
     "traceback": [
      "\u001b[0;31m---------------------------------------------------------------------------\u001b[0m",
      "\u001b[0;31mNameError\u001b[0m                                 Traceback (most recent call last)",
      "\u001b[1;32m/Users/jithoon/Documents/cnuai/julyEducation/week4_webscraping3_seaborn.ipynb Cell 48'\u001b[0m in \u001b[0;36m<cell line: 5>\u001b[0;34m()\u001b[0m\n\u001b[1;32m      <a href='vscode-notebook-cell:/Users/jithoon/Documents/cnuai/julyEducation/week4_webscraping3_seaborn.ipynb#ch0000047?line=0'>1</a>\u001b[0m \u001b[39m# WordCloud를 이용해 텍스트 구름을 만들어봅시다.\u001b[39;00m\n\u001b[1;32m      <a href='vscode-notebook-cell:/Users/jithoon/Documents/cnuai/julyEducation/week4_webscraping3_seaborn.ipynb#ch0000047?line=2'>3</a>\u001b[0m wordcloud \u001b[39m=\u001b[39m WordCloud()\n\u001b[0;32m----> <a href='vscode-notebook-cell:/Users/jithoon/Documents/cnuai/julyEducation/week4_webscraping3_seaborn.ipynb#ch0000047?line=4'>5</a>\u001b[0m wordcloud\u001b[39m.\u001b[39mgenerate_from_frequencies(counter)\n\u001b[1;32m      <a href='vscode-notebook-cell:/Users/jithoon/Documents/cnuai/julyEducation/week4_webscraping3_seaborn.ipynb#ch0000047?line=5'>6</a>\u001b[0m plt\u001b[39m.\u001b[39mimshow(img)\n",
      "\u001b[0;31mNameError\u001b[0m: name 'counter' is not defined"
     ]
    }
   ],
   "source": [
    "# WordCloud를 이용해 텍스트 구름을 만들어봅시다.\n",
    "\n",
    "wordcloud = WordCloud(\n",
    "    font_path=\"서체 /.ttf\"\n",
    "    width=1000,\n",
    "    height=1000,\n",
    "    background_color=\"white\",\n",
    ")\n",
    "\n",
    "wordcloud.generate_from_frequencies(counter)\n",
    "plt.imshow(img)"
   ]
  },
  {
   "cell_type": "markdown",
   "metadata": {},
   "source": [
    "간단한 사용법을 확인했으니, 이제 이를 활용해서 스크래핑과 함께 사용해봅시다!\n"
   ]
  },
  {
   "cell_type": "markdown",
   "metadata": {},
   "source": [
    "----\n",
    "## 워드클라우드 만들기 - 해시코드 질문 키워드\n",
    "\n",
    "- bs4와 wordcloud를 이용해서 질문 키워드를 보여주는 시각화를 진행해봅시다."
   ]
  },
  {
   "cell_type": "markdown",
   "metadata": {},
   "source": [
    "### Target: 해시코드 질문 제목의 키워드\n",
    "\n",
    "지난 실습에서 해시코드(https://hashcode.co.kr) 질문태그를 활용해 Bar Plot을 그렸다면,   \n",
    "이번 실습에서는 질문 제목을 스크래핑한 후, 형태소 분석을 진행해서 워드클라우드를 그려봅시다."
   ]
  },
  {
   "cell_type": "code",
   "execution_count": null,
   "metadata": {},
   "outputs": [],
   "source": [
    "# 다음 User-Agent를 추가해봅시다.\n",
    "\n",
    "user_agent = {\"User-Agent\": \"Mozilla/5.0 (Macintosh; Intel Mac OS X 10_15_4) AppleWebKit/537.36 (KHTML, like Gecko) Chrome/83.0.4103.97 Safari/537.36\"}"
   ]
  },
  {
   "cell_type": "code",
   "execution_count": 14,
   "metadata": {},
   "outputs": [],
   "source": [
    "# Pagination이 되어있는 질문 리스트의 제목을 모두 가져와 리스트 questions에 저장해봅시다.\n",
    "# 이전에 진행했던 실습의 코드를 붙여넣으시면 됩니다.\n",
    "\n",
    "# 필요한 라이브러리를 불러온 후, 요청을 진행해봅시다.\n",
    "# 질문의 빈도를 체크하는 dict를 만든 후, 빈도를 체크해봅시다.\n",
    "\n",
    "import requests\n",
    "from bs4 import BeautifulSoup\n",
    "\n",
    "questions = []\n",
    "\n",
    "import time\n",
    "\n",
    "for i in range(1, 6):\n",
    "    # 페이지를 넘겨가면서 불러올거임\n",
    "    res = requests.get(\"https://hashcode.co.kr/?page={}\".format(i), {\"User-Agent\":user_agent})\n",
    "    soup = BeautifulSoup(res.text, \"html.parser\")\n",
    "\n",
    "    parsed_datas = soup.find_all(\"li\", \"question-list-item\")\n",
    "\n",
    "    for data in parsed_datas:\n",
    "        questions.append(data.h4.text.strip())\n",
    "    \n",
    "    time.sleep(0.5)"
   ]
  },
  {
   "cell_type": "code",
   "execution_count": 15,
   "metadata": {},
   "outputs": [
    {
     "data": {
      "text/plain": [
       "['코드를 비동기로 실행하고 싶어요',\n",
       " '여러 파이썬 프로세스가 경합하지 않고 결과를 올리면 모아두는 간단한 방법',\n",
       " '파이썬으로 할 자동화 프로젝트 질문드립니다',\n",
       " '비트나미 설치중 mariadb가 실행되지 않습니다.',\n",
       " 'css 그리드에서 겉이 아닌 속에 선을 넣고 싶습니다.',\n",
       " '간단한 자바 반복문을 배우는 중인데,  증감연산자에 대해 잘 모르겠습니다',\n",
       " 'Java list를 map으로 변환 하려고 합니다',\n",
       " 'Python telnet 통신 초기화 질문',\n",
       " '파이썬 크롤링 관련하여 질문드립니다.',\n",
       " '자바 list의 sublist 사용해서 배열을 거꾸로 배치하는 코딩']"
      ]
     },
     "execution_count": 15,
     "metadata": {},
     "output_type": "execute_result"
    }
   ],
   "source": [
    "questions[:10]"
   ]
  },
  {
   "cell_type": "code",
   "execution_count": 16,
   "metadata": {},
   "outputs": [],
   "source": [
    "# 텍스트 구름을 그리기 위해 필요한 라이브러리를 불러와봅시다.\n",
    "\n",
    "# 시각화에 쓰이는 라이브러리\n",
    "import matplotlib.pyplot as plt\n",
    "from wordcloud import WordCloud\n",
    "\n",
    "# 횟수를 기반으로 딕셔너리 생성\n",
    "from collections import Counter\n",
    "\n",
    "# 문장에서 명사를 추출하는 형태소 분석 라이브러리\n",
    "from konlpy.tag import Hannanum"
   ]
  },
  {
   "cell_type": "code",
   "execution_count": 17,
   "metadata": {},
   "outputs": [
    {
     "ename": "OSError",
     "evalue": "[Errno 0] JVM DLL not found: /Library/Java/JavaVirtualMachines/jdk-18.jdk/Contents/Home/lib/libjli.dylib\n",
     "output_type": "error",
     "traceback": [
      "\u001b[0;31m---------------------------------------------------------------------------\u001b[0m",
      "\u001b[0;31mOSError\u001b[0m                                   Traceback (most recent call last)",
      "\u001b[1;32m/Users/jithoon/Documents/cnuai/julyEducation/week4_webscraping3_seaborn.ipynb Cell 56'\u001b[0m in \u001b[0;36m<cell line: 5>\u001b[0;34m()\u001b[0m\n\u001b[1;32m      <a href='vscode-notebook-cell:/Users/jithoon/Documents/cnuai/julyEducation/week4_webscraping3_seaborn.ipynb#ch0000054?line=0'>1</a>\u001b[0m \u001b[39m# Hannanum 객체를 생성한 후, .nouns()를 통해 명사를 추출합니다.\u001b[39;00m\n\u001b[1;32m      <a href='vscode-notebook-cell:/Users/jithoon/Documents/cnuai/julyEducation/week4_webscraping3_seaborn.ipynb#ch0000054?line=2'>3</a>\u001b[0m words \u001b[39m=\u001b[39m []\n\u001b[0;32m----> <a href='vscode-notebook-cell:/Users/jithoon/Documents/cnuai/julyEducation/week4_webscraping3_seaborn.ipynb#ch0000054?line=4'>5</a>\u001b[0m hannanum \u001b[39m=\u001b[39m Hannanum()\n\u001b[1;32m      <a href='vscode-notebook-cell:/Users/jithoon/Documents/cnuai/julyEducation/week4_webscraping3_seaborn.ipynb#ch0000054?line=6'>7</a>\u001b[0m \u001b[39mfor\u001b[39;00m question \u001b[39min\u001b[39;00m questions:\n\u001b[1;32m      <a href='vscode-notebook-cell:/Users/jithoon/Documents/cnuai/julyEducation/week4_webscraping3_seaborn.ipynb#ch0000054?line=7'>8</a>\u001b[0m     nouns \u001b[39m=\u001b[39m hannanum\u001b[39m.\u001b[39mnouns(question) \u001b[39m# 1번 반복할 때 나온 명사들\u001b[39;00m\n",
      "File \u001b[0;32m/opt/homebrew/lib/python3.9/site-packages/konlpy/tag/_hannanum.py:69\u001b[0m, in \u001b[0;36mHannanum.__init__\u001b[0;34m(self, jvmpath, max_heap_size)\u001b[0m\n\u001b[1;32m     <a href='file:///opt/homebrew/lib/python3.9/site-packages/konlpy/tag/_hannanum.py?line=66'>67</a>\u001b[0m \u001b[39mdef\u001b[39;00m \u001b[39m__init__\u001b[39m(\u001b[39mself\u001b[39m, jvmpath\u001b[39m=\u001b[39m\u001b[39mNone\u001b[39;00m, max_heap_size\u001b[39m=\u001b[39m\u001b[39m1024\u001b[39m):\n\u001b[1;32m     <a href='file:///opt/homebrew/lib/python3.9/site-packages/konlpy/tag/_hannanum.py?line=67'>68</a>\u001b[0m     \u001b[39mif\u001b[39;00m \u001b[39mnot\u001b[39;00m jpype\u001b[39m.\u001b[39misJVMStarted():\n\u001b[0;32m---> <a href='file:///opt/homebrew/lib/python3.9/site-packages/konlpy/tag/_hannanum.py?line=68'>69</a>\u001b[0m         jvm\u001b[39m.\u001b[39;49minit_jvm(jvmpath, max_heap_size)\n\u001b[1;32m     <a href='file:///opt/homebrew/lib/python3.9/site-packages/konlpy/tag/_hannanum.py?line=70'>71</a>\u001b[0m     jhannanumJavaPackage \u001b[39m=\u001b[39m jpype\u001b[39m.\u001b[39mJPackage(\u001b[39m'\u001b[39m\u001b[39mkr.lucypark.jhannanum.comm\u001b[39m\u001b[39m'\u001b[39m)\n\u001b[1;32m     <a href='file:///opt/homebrew/lib/python3.9/site-packages/konlpy/tag/_hannanum.py?line=71'>72</a>\u001b[0m     HannanumInterfaceJavaClass \u001b[39m=\u001b[39m jhannanumJavaPackage\u001b[39m.\u001b[39mHannanumInterface\n",
      "File \u001b[0;32m/opt/homebrew/lib/python3.9/site-packages/konlpy/jvm.py:64\u001b[0m, in \u001b[0;36minit_jvm\u001b[0;34m(jvmpath, max_heap_size)\u001b[0m\n\u001b[1;32m     <a href='file:///opt/homebrew/lib/python3.9/site-packages/konlpy/jvm.py?line=60'>61</a>\u001b[0m     jvmpath \u001b[39m=\u001b[39m \u001b[39m'\u001b[39m\u001b[39m%s\u001b[39;00m\u001b[39m/lib/jli/libjli.dylib\u001b[39m\u001b[39m'\u001b[39m \u001b[39m%\u001b[39m jvmpath\u001b[39m.\u001b[39msplit(\u001b[39m'\u001b[39m\u001b[39m/lib/\u001b[39m\u001b[39m'\u001b[39m)[\u001b[39m0\u001b[39m]\n\u001b[1;32m     <a href='file:///opt/homebrew/lib/python3.9/site-packages/konlpy/jvm.py?line=62'>63</a>\u001b[0m \u001b[39mif\u001b[39;00m jvmpath:\n\u001b[0;32m---> <a href='file:///opt/homebrew/lib/python3.9/site-packages/konlpy/jvm.py?line=63'>64</a>\u001b[0m     jpype\u001b[39m.\u001b[39;49mstartJVM(jvmpath, \u001b[39m'\u001b[39;49m\u001b[39m-Dfile.encoding=UTF8\u001b[39;49m\u001b[39m'\u001b[39;49m,\n\u001b[1;32m     <a href='file:///opt/homebrew/lib/python3.9/site-packages/konlpy/jvm.py?line=64'>65</a>\u001b[0m                             \u001b[39m'\u001b[39;49m\u001b[39m-ea\u001b[39;49m\u001b[39m'\u001b[39;49m, \u001b[39m'\u001b[39;49m\u001b[39m-Xmx\u001b[39;49m\u001b[39m{}\u001b[39;49;00m\u001b[39mm\u001b[39;49m\u001b[39m'\u001b[39;49m\u001b[39m.\u001b[39;49mformat(max_heap_size),\n\u001b[1;32m     <a href='file:///opt/homebrew/lib/python3.9/site-packages/konlpy/jvm.py?line=65'>66</a>\u001b[0m                             classpath\u001b[39m=\u001b[39;49mclasspath,\n\u001b[1;32m     <a href='file:///opt/homebrew/lib/python3.9/site-packages/konlpy/jvm.py?line=66'>67</a>\u001b[0m                             convertStrings\u001b[39m=\u001b[39;49m\u001b[39mTrue\u001b[39;49;00m)\n\u001b[1;32m     <a href='file:///opt/homebrew/lib/python3.9/site-packages/konlpy/jvm.py?line=67'>68</a>\u001b[0m \u001b[39melse\u001b[39;00m:\n\u001b[1;32m     <a href='file:///opt/homebrew/lib/python3.9/site-packages/konlpy/jvm.py?line=68'>69</a>\u001b[0m     \u001b[39mraise\u001b[39;00m \u001b[39mValueError\u001b[39;00m(\u001b[39m\"\u001b[39m\u001b[39mPlease specify the JVM path.\u001b[39m\u001b[39m\"\u001b[39m)\n",
      "File \u001b[0;32m/opt/homebrew/lib/python3.9/site-packages/jpype/_core.py:218\u001b[0m, in \u001b[0;36mstartJVM\u001b[0;34m(*args, **kwargs)\u001b[0m\n\u001b[1;32m    <a href='file:///opt/homebrew/lib/python3.9/site-packages/jpype/_core.py?line=213'>214</a>\u001b[0m     \u001b[39mraise\u001b[39;00m \u001b[39mTypeError\u001b[39;00m(\u001b[39m\"\u001b[39m\u001b[39mstartJVM() got an unexpected keyword argument \u001b[39m\u001b[39m'\u001b[39m\u001b[39m%s\u001b[39;00m\u001b[39m'\u001b[39m\u001b[39m\"\u001b[39m\n\u001b[1;32m    <a href='file:///opt/homebrew/lib/python3.9/site-packages/jpype/_core.py?line=214'>215</a>\u001b[0m                     \u001b[39m%\u001b[39m (\u001b[39m'\u001b[39m\u001b[39m,\u001b[39m\u001b[39m'\u001b[39m\u001b[39m.\u001b[39mjoin([\u001b[39mstr\u001b[39m(i) \u001b[39mfor\u001b[39;00m i \u001b[39min\u001b[39;00m kwargs])))\n\u001b[1;32m    <a href='file:///opt/homebrew/lib/python3.9/site-packages/jpype/_core.py?line=216'>217</a>\u001b[0m \u001b[39mtry\u001b[39;00m:\n\u001b[0;32m--> <a href='file:///opt/homebrew/lib/python3.9/site-packages/jpype/_core.py?line=217'>218</a>\u001b[0m     _jpype\u001b[39m.\u001b[39;49mstartup(jvmpath, \u001b[39mtuple\u001b[39;49m(args),\n\u001b[1;32m    <a href='file:///opt/homebrew/lib/python3.9/site-packages/jpype/_core.py?line=218'>219</a>\u001b[0m                    ignoreUnrecognized, convertStrings, interrupt)\n\u001b[1;32m    <a href='file:///opt/homebrew/lib/python3.9/site-packages/jpype/_core.py?line=219'>220</a>\u001b[0m     initializeResources()\n\u001b[1;32m    <a href='file:///opt/homebrew/lib/python3.9/site-packages/jpype/_core.py?line=220'>221</a>\u001b[0m \u001b[39mexcept\u001b[39;00m \u001b[39mRuntimeError\u001b[39;00m \u001b[39mas\u001b[39;00m ex:\n",
      "\u001b[0;31mOSError\u001b[0m: [Errno 0] JVM DLL not found: /Library/Java/JavaVirtualMachines/jdk-18.jdk/Contents/Home/lib/libjli.dylib\n"
     ]
    }
   ],
   "source": [
    "# Hannanum 객체를 생성한 후, .nouns()를 통해 명사를 추출합니다.\n",
    "\n",
    "words = []\n",
    "\n",
    "hannanum = Hannanum()\n",
    "\n",
    "for question in questions:\n",
    "    nouns = hannanum.nouns(question) # 1번 반복할 때 나온 명사들\n",
    "    words += nouns # 누적해서 나오는 명사들\n",
    "\n",
    "print(len(words))"
   ]
  },
  {
   "cell_type": "code",
   "execution_count": null,
   "metadata": {},
   "outputs": [],
   "source": [
    "# counter를 이용해 각 단어의 개수를 세줍니다.\n",
    "\n",
    "counter =Counter(words)\n",
    "\n",
    "counter"
   ]
  },
  {
   "cell_type": "code",
   "execution_count": null,
   "metadata": {},
   "outputs": [],
   "source": [
    "# WordCloud를 이용해 텍스트 구름을 만들어봅시다.\n",
    "\n",
    "wordcloud = WordCloud(\n",
    "    font_path=\"...\",\n",
    "    background_color=\"whight\"\n",
    "    height=10-00,\n",
    "    width=1000,\n",
    ")\n",
    "\n",
    "img = wordcloud.generate_from_frequencies(counter)\n",
    "plt.imshow(img)\n"
   ]
  }
 ],
 "metadata": {
  "interpreter": {
   "hash": "b0fa6594d8f4cbf19f97940f81e996739fb7646882a419484c72d19e05852a7e"
  },
  "kernelspec": {
   "display_name": "Python 3.9.13 64-bit",
   "language": "python",
   "name": "python3"
  },
  "language_info": {
   "codemirror_mode": {
    "name": "ipython",
    "version": 3
   },
   "file_extension": ".py",
   "mimetype": "text/x-python",
   "name": "python",
   "nbconvert_exporter": "python",
   "pygments_lexer": "ipython3",
   "version": "3.9.13"
  },
  "orig_nbformat": 4
 },
 "nbformat": 4,
 "nbformat_minor": 2
}

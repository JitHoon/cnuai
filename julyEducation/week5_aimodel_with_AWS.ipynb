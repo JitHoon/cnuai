{
 "cells": [
  {
   "cell_type": "markdown",
   "metadata": {},
   "source": [
    "# AWS를 활용한 인공지능 모델 배포"
   ]
  },
  {
   "cell_type": "markdown",
   "metadata": {},
   "source": [
    "## [contents]\n",
    "### 1. 클라우드 기초\n",
    "### 2. 실습 : AWS & 실습 환경 세팅\n",
    "### 3. API to serve ML model\n",
    "### 4. 실습 : Serialization & De-serialization\n",
    "### 5. 실습 : Inference를 위한 model handler개발\n",
    "### 6. Flask 기반 감성분석 API 개발\n",
    "\n"
   ]
  },
  {
   "cell_type": "markdown",
   "metadata": {},
   "source": [
    "----\n",
    "## 1. `클라우드` 기초\n",
    "- 클라우드 = 인터넷 기반 컴퓨팅의 일종\n",
    "### 1-1) 클라우드를 `사용하는 이유와 그 예시`\n",
    "- 인터넷 사용자가 크게 증가하고 다양한 서비스를 제공하게 되면서 필요한 때에 필요한 만큼 서버를 증설하기 원하는 `온디맨드 수요 증가` (클라우드를 통해서 적은 비용으로 빠르게 필요한 IT 환경(빅데이터, 플랫폼, 인고지능 개발 등의 환경 마련 가능)\n",
    "- ex) `인공지능 서비스 제공` : `도커와 같은 가상화 기술`을 통해 `GPU 활용과 소프트웨어 설치 및 배포 등의 작업에 비용과 시간 절감 가능\n",
    "- ex) `속도-주문형 셀프 서비스` : 클라우드 제공자와 `별도의 커뮤니케이션 없이` 원하는 클라우드 서비스를 바로 이용 가능\n",
    "- ex) `접근성` : 사용자의 위치, 시간과 관계없이 어떤 디바이스로도 접근 가능\n",
    "- ex) `확장성` : 이용량 증가시 유연하게 추가 확장 가능\n",
    "- ex) `생산성`, `측정 가능성` : 하드웨어, 소프트웨어 설치 비용 절감, 클라우드 서비스를 사용한 만큼만 과금\n",
    "- ex) `보안`, `안정성` : 클라우드 공급자가 전체적으로 보안이나 안정성 제공"
   ]
  },
  {
   "cell_type": "markdown",
   "metadata": {},
   "source": [
    "### 1-2) 클라우드 컴퓨팅 `운용 모델`\n",
    "#### `구축 및 배포 유형`에 따라 세 가지 형태로 구분\n",
    "#### `Public`, `Private`, `Hybrid` (분산형 등 다양한 형태가 존재함, 최근에는 네이버, 아마존, 마소 등 여러 클라우드를 공유하여 사용하는 분산형 클라우드도 블록체인에서 사용되고 있음)"
   ]
  },
  {
   "cell_type": "markdown",
   "metadata": {},
   "source": [
    "#### [`Public`] \n",
    "##### - `서비스 유지`를 위한 모든 인프라와 IT기술을 클라우드에서 사용\n",
    "##### - AWS, GCP, Azure와 같은 외부 클라우드 컴퓨팅 사업자가 IT자원을 소유하고 인터넷을 통해 제공\n",
    "##### - IT관리 `인력이나 인프라 구축 비용이 없는 경우`에 유용"
   ]
  },
  {
   "cell_type": "markdown",
   "metadata": {},
   "source": [
    "#### [`Private`] \n",
    "##### - 고객이 `자체 데이터 센터에서 직접 클라우드 서비스를 구축`하는 형태\n",
    "##### - 보안이 좋고 customization이 가능하며 판매자는 IT기술만 패키지 형태로 판매하기도 함"
   ]
  },
  {
   "cell_type": "markdown",
   "metadata": {},
   "source": [
    "#### [`Hybrid`] \n",
    "##### - 고객의 핵심 시스템은 내부에 두면서도 외부의 클라우드를 활용하는 형태\n",
    "##### - 퍼블릭의 경제성과 프라이빗의 보안성을 모두 고려"
   ]
  },
  {
   "cell_type": "markdown",
   "metadata": {},
   "source": [
    "### 1-3) 클라우드 서비스 `제공 모델`\n",
    "#### `클라우드 서비스 제공 방식`에 따라 세 가지 형태로 구분\n",
    "#### `IaaS`, `PaaS`, `SaaS` (`On-Premises` : 하드웨어, 클라우드, 소프트웨어어플리케이션 등을 모두 관리하는 모델)"
   ]
  },
  {
   "cell_type": "markdown",
   "metadata": {},
   "source": [
    "#### [`IaaS`] : 인프라 측면만 빌리고 나머지는 직접 관리\n",
    "##### - `App`, `Data`, `Runtime`, `Middleware`, `OS` 직접 관리\n",
    "##### - `Virtualization`, `Servers`, `Storage`, `Networking` 같은 인프라 측면은 빌림"
   ]
  },
  {
   "cell_type": "markdown",
   "metadata": {},
   "source": [
    "#### [`PaaS`] : 인프라 측면만 빌리고 나머지는 직접 관리\n",
    "##### - `App`, `Data` 직접 관리\n",
    "##### - `Runtime`, `Middleware`, `OS`, `Virtualization`, `Servers`, `Storage`, `Networking` 플랫폼, 인프라 측면을 빌림"
   ]
  },
  {
   "cell_type": "markdown",
   "metadata": {},
   "source": [
    "#### [`SaaS`] : 인프라 측면만 빌리고 나머지는 직접 관리\n",
    "##### - `App`, `Data`, `Runtime`, `Middleware`, `OS`, `Virtualization`, `Servers`, `Storage`, `Networking` 서비스, 플랫폼, 인프라 측면을 모두 빌림\n",
    "##### - ex) office365"
   ]
  },
  {
   "cell_type": "markdown",
   "metadata": {},
   "source": [
    "- 다양한 사업자들 : AWS, GCP, Azure, NCP\n",
    "- 이번 실습에서는 `Amazon EC2`를 사용할 예정"
   ]
  },
  {
   "cell_type": "markdown",
   "metadata": {},
   "source": [
    "----\n",
    "## 2. 실습 : AWS & 실습 환경 세팅"
   ]
  },
  {
   "cell_type": "markdown",
   "metadata": {},
   "source": [
    "### 2-1) AWS 계정 가입 (https://aws.amazon.com/ko/)"
   ]
  }
 ],
 "metadata": {
  "language_info": {
   "name": "python"
  },
  "orig_nbformat": 4
 },
 "nbformat": 4,
 "nbformat_minor": 2
}

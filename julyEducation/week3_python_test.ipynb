{
 "cells": [
  {
   "cell_type": "markdown",
   "metadata": {},
   "source": [
    "# lv1. 소수 만들기\n",
    "#### 주어진 숫자 중 3개의 수를 더했을 때 소수가 되는 경우의 개수를 구하려고 합니다. \n",
    "#### 숫자들이 들어있는 배열 nums가 매개변수로 주어질 때, \n",
    "#### nums에 있는 숫자들 중 서로 다른 3개를 골라 더했을 때 소수가 되는 경우의 개수를 return 하도록 solution 함수를 완성해주세요."
   ]
  },
  {
   "cell_type": "markdown",
   "metadata": {},
   "source": [
    "##### [공부 내용]\n",
    "##### 1. `리스트에 있는 n개의 숫자 중 서로다른 3개의 수를 겹치지 않고 가져오는 for문`\n",
    "##### 2. `가장 기본적인 소수 판단 함수`, `//와 %`\n",
    "##### 3. `리스트에 변수.append(숫자)로 리스트 만들기`"
   ]
  },
  {
   "cell_type": "code",
   "execution_count": 8,
   "metadata": {},
   "outputs": [
    {
     "data": {
      "text/plain": [
       "1"
      ]
     },
     "execution_count": 8,
     "metadata": {},
     "output_type": "execute_result"
    }
   ],
   "source": [
    "# 내 답\n",
    "nums = [1, 2, 3, 4] # result : 1\n",
    "\n",
    "# 가장 기본적인 소수 판단 함수\n",
    "def primenumber(x):\n",
    "    for i in range(2, x):\t# 2부터 x-1까지의 모든 숫자\n",
    "    \tif x % i == 0:\t\t# % : 나머지 판단, // : 몫 판단\n",
    "        \treturn False    # 나눠떨어지는게 하나라도 있으면 False\n",
    "    return True\n",
    "\n",
    "def solution(nums):\n",
    "    answer = 0\n",
    "    list = []\n",
    "    \n",
    "    for i in range(len(nums)):\n",
    "        for j in range(i+1, len(nums)):\n",
    "            for k in range(j+1, len(nums)):\n",
    "                \n",
    "                sum = nums[i] + nums[j] + nums[k]\n",
    "                list.append(sum)\n",
    "                \n",
    "                if primenumber(sum) == True:\n",
    "                    answer = answer + 1\n",
    "                \n",
    "    return answer\n",
    "\n",
    "solution(nums)"
   ]
  },
  {
   "cell_type": "code",
   "execution_count": 2,
   "metadata": {},
   "outputs": [
    {
     "data": {
      "text/plain": [
       "1"
      ]
     },
     "execution_count": 2,
     "metadata": {},
     "output_type": "execute_result"
    }
   ],
   "source": [
    "# 지호 답\n",
    "nums = [1, 2, 3, 4] # result : 1\n",
    "\n",
    "from itertools import *\n",
    "\n",
    "def solution(nums):        \n",
    "    answer = 0\n",
    "    sum = 0\n",
    "    A = list(combinations(nums,3))\n",
    "    for i in range(len(A)):\n",
    "        for k in range(3):\n",
    "            sum = sum + A[i][k]\n",
    "        for n in range(2,sum): \n",
    "            if (sum % n) == 0:\n",
    "                break\n",
    "            elif (sum % n) !=0:\n",
    "                if(n==sum-1):\n",
    "                    answer = answer + 1\n",
    "                    break\n",
    "                continue\n",
    "        sum = 0\n",
    "        \n",
    "    return answer\n",
    "\n",
    "solution(nums)"
   ]
  },
  {
   "cell_type": "markdown",
   "metadata": {},
   "source": [
    "# lv1. 폰켓몬\n",
    "#### 당신은 최대한 다양한 종류의 폰켓몬을 가지길 원하기 때문에, 최대한 많은 종류의 폰켓몬을 포함해서 N/2마리를 선택하려 합니다.\n",
    "#### N마리 폰켓몬의 종류 번호가 담긴 배열 nums가 매개변수로 주어질 때, \n",
    "#### N/2마리의 폰켓몬을 선택하는 방법 중, 가장 많은 종류의 폰켓몬을 선택하는 방법을 찾아, \n",
    "#### 그때의 폰켓몬 종류 번호의 개수를 return 하도록 solution 함수를 완성해주세요."
   ]
  },
  {
   "cell_type": "markdown",
   "metadata": {},
   "source": [
    "##### [공부 내용]\n",
    "##### 1. `list(set(리스트 변수)) : 중복되는 숫자가 없는 list 만들기`\n",
    "##### 2. `int(len(리스트 변수)) : 리스트의 길이를 정수로 바꿔주기`"
   ]
  },
  {
   "cell_type": "code",
   "execution_count": 9,
   "metadata": {},
   "outputs": [
    {
     "data": {
      "text/plain": [
       "2"
      ]
     },
     "execution_count": 9,
     "metadata": {},
     "output_type": "execute_result"
    }
   ],
   "source": [
    "nums = [3,3,3,2,2,2] # result : 2\n",
    "\n",
    "def solution(nums):\n",
    "    \n",
    "    unique_nums = list(set(nums))\n",
    "    Int = int(len(unique_nums))\n",
    "    \n",
    "    M = int(len(nums)/2) # N/2\n",
    "    \n",
    "    if (M > Int) | (M == Int):\n",
    "        return Int\n",
    "    elif M < Int:\n",
    "        return M\n",
    "\n",
    "solution(nums)"
   ]
  },
  {
   "cell_type": "markdown",
   "metadata": {},
   "source": [
    "# lv2. 예상 대진표\n",
    "#### 이때, 처음 라운드에서 A번을 가진 참가자는 경쟁자로 생각하는 B번 참가자와 몇 번째 라운드에서 만나는지 궁금해졌습니다.\n",
    "#### 게임 참가자 수 N, 참가자 번호 A, 경쟁자 번호 B가 함수 solution의 매개변수로 주어질 때, \n",
    "#### 처음 라운드에서 A번을 가진 참가자는 경쟁자로 생각하는 B번 참가자와 몇 번째 라운드에서 만나는지 return 하는 solution 함수를 완성해 주세요.\n",
    "#### 단, A번 참가자와 B번 참가자는 서로 붙게 되기 전까지 항상 이긴다고 가정합니다."
   ]
  },
  {
   "cell_type": "markdown",
   "metadata": {},
   "source": [
    "##### [공부 내용]\n",
    "##### 1. `토너먼트 승리시 몫과 나머지의 합으로 넘버링 하기`\n",
    "##### 2. `숫자가 붙어있다면 홀수는 항상 짝수보다 크다`"
   ]
  },
  {
   "cell_type": "code",
   "execution_count": null,
   "metadata": {},
   "outputs": [],
   "source": [
    "def solution(n,a,b):\n",
    "    answer = 0\n",
    "    \n",
    "    while n >= 2:\n",
    "        \n",
    "        if (b%2 == 0)&(a == b-1) | (b%2 == 1)&(a == b+1):\n",
    "            answer = answer +1\n",
    "            return answer\n",
    "        elif n == 2:\n",
    "            answer = answer +1\n",
    "            return answer\n",
    "        else:\n",
    "            answer = answer + 1\n",
    "            n=n/2\n",
    "            a = a//2 + a%2\n",
    "            b = b//2 + b%2 "
   ]
  },
  {
   "cell_type": "markdown",
   "metadata": {},
   "source": [
    "# lv2 숫자 게임\n",
    "#### 전체 사원들은 우선 무작위로 자연수를 하나씩 부여받았습니다.\n",
    "#### 그다음 A팀은 빠르게 출전순서를 정했고 자신들의 출전 순서를 B팀에게 공개해버렸습니다.\n",
    "#### B팀은 그것을 보고 자신들의 최종 승점을 가장 높이는 방법으로 팀원들의 출전 순서를 정했습니다. 이때의 B팀이 얻는 승점을 구해주세요."
   ]
  },
  {
   "cell_type": "markdown",
   "metadata": {},
   "source": [
    "##### [공부 내용]\n",
    "##### 1. `B를 계속 del을 통해서 제거하므로 각 A와 B[0]만 서로 비교하면 된다.(실패코드 원인)`\n",
    "##### 2. `del 리스트 값`"
   ]
  },
  {
   "cell_type": "code",
   "execution_count": 12,
   "metadata": {},
   "outputs": [
    {
     "data": {
      "text/plain": [
       "3"
      ]
     },
     "execution_count": 12,
     "metadata": {},
     "output_type": "execute_result"
    }
   ],
   "source": [
    "A = [5, 1, 3, 7]\n",
    "B = [2, 2, 6, 8] # 최대 3번 승리 가능\n",
    "\n",
    "def solution(A, B):\n",
    "    answer = 0\n",
    "    A.sort(reverse = True)\n",
    "    B.sort(reverse = True)\n",
    "\n",
    "    # B를 계속 del을 통해서 제거하므로 각 A와 B[0]만 서로 비교하면 된다.\n",
    "    for a in A:\n",
    "        if a >= B[0]:\n",
    "            continue\n",
    "        else:\n",
    "            answer += 1\n",
    "            del B[0]\n",
    "    return answer\n",
    "\n",
    "solution(A, B)"
   ]
  },
  {
   "cell_type": "markdown",
   "metadata": {},
   "source": [
    "아래는 실패한 코드 (일부만 통과됨)"
   ]
  },
  {
   "cell_type": "code",
   "execution_count": null,
   "metadata": {},
   "outputs": [],
   "source": [
    "def solution(A, B):\n",
    "    # 각 리스트 정렬\n",
    "    # A의 각 자리와 B를 비교하여 B중 크면서 차가 가장 적은 수 찾기\n",
    "    # A의 각 자리수를 비교할 때 마다 이길 수 있는 수를 다른 리스트에 추가하기\n",
    "    # set(다른 리스트)의 수 = 이길 수 있는 최대 횟수\n",
    "    closer = []\n",
    "    B_b = []\n",
    "    \n",
    "    A.sort()\n",
    "    B.sort()\n",
    "    \n",
    "    for a in range(len(A)):\n",
    "        closer.clear()\n",
    "        for b in range(len(B)):\n",
    "            \n",
    "            # 차가 양수일 경우에만 B가 더 큰 값\n",
    "            if (B[b] - A[a]) > 0:\n",
    "                closer.append(B[b] - A[a])                \n",
    "            else: # 차가 0 이거나 음수이면\n",
    "                continue\n",
    "            \n",
    "            # b 마지막 값일 때 closer에서 최소값을 가지는 수를 새로운 리스트에 추가\n",
    "            if b == len(B)-1:\n",
    "                    \n",
    "                for c in range(len(B)):\n",
    "                        \n",
    "                    if min(closer) == B[c] - A[a]:\n",
    "                        B_b.append(B[c])\n",
    "                    else:\n",
    "                        continue\n",
    "    \n",
    "    count = len(set(B_b))\n",
    "    \n",
    "    return count "
   ]
  }
 ],
 "metadata": {
  "interpreter": {
   "hash": "b0fa6594d8f4cbf19f97940f81e996739fb7646882a419484c72d19e05852a7e"
  },
  "kernelspec": {
   "display_name": "Python 3.9.13 64-bit",
   "language": "python",
   "name": "python3"
  },
  "language_info": {
   "codemirror_mode": {
    "name": "ipython",
    "version": 3
   },
   "file_extension": ".py",
   "mimetype": "text/x-python",
   "name": "python",
   "nbconvert_exporter": "python",
   "pygments_lexer": "ipython3",
   "version": "3.9.13"
  },
  "orig_nbformat": 4
 },
 "nbformat": 4,
 "nbformat_minor": 2
}

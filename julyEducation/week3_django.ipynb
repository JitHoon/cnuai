{
 "cells": [
  {
   "cell_type": "markdown",
   "metadata": {},
   "source": [
    "# Django\n",
    "- python 기반 프레임 워크\n",
    "- Flask와 지향성이 다름\n",
    "- Flask는 최소한의 모듈을 가지고있으며 작은 것부터 쌓아나가는 module임. (불러와야하는 모듈이 많음)\n",
    "- `Django는 거의 모든 모듈이 내장되어있는 프레임 워크`\n",
    "## 1. Django 시작하기"
   ]
  },
  {
   "cell_type": "code",
   "execution_count": null,
   "metadata": {
    "vscode": {
     "languageId": "bat"
    }
   },
   "outputs": [],
   "source": [
    "# 현재 디렉토리에 새 virtualenv 가상환경 만들기 (venv는 통상적인 이름)\n",
    "virtualenv venv\n",
    "\n",
    "# 새 가상환경 venv에 진입하기\n",
    "source venv/bin/activate\n",
    "\n",
    "# django 설치\n",
    "pip install django\n",
    "\n",
    "# django 프로젝트 생성하기\n",
    "django-admin startproject webproject\n",
    "\n",
    "# 생성한 django 프로젝트 폴더 안 mange.py를 이용하여 서버를 가동할 수 있다. (webproject 파일에서 실행)\n",
    "python manage.py runserver"
   ]
  },
  {
   "cell_type": "markdown",
   "metadata": {},
   "source": [
    "## 2. django의 project 관리법\n",
    "### - django는 `project들을 여러 App으로 관리`한다.\n",
    "### ex) 네이버의 경우 blog, news 등의 App Module로 관리한다."
   ]
  },
  {
   "cell_type": "code",
   "execution_count": null,
   "metadata": {
    "vscode": {
     "languageId": "bat"
    }
   },
   "outputs": [],
   "source": [
    "# django App 만들기 (webproject 파일에서 실행)\n",
    "django-admin startapp webprojectApp"
   ]
  },
  {
   "cell_type": "markdown",
   "metadata": {},
   "source": [
    "## 3. django의 `design pattern` [`MVT pattern`]\n",
    "### - `design pattern` : code들을 module화하여 독립적으로 만들고 각 module들을 유기적으로 사용하는 구조\n",
    "### - MVC pattern : Model View Controller (과거에 많이 쓰임)\n",
    "### - `MVT` pattern : Model View Template\n",
    "\n",
    "## 3-(1). django의 `View`\n",
    "### "
   ]
  },
  {
   "cell_type": "code",
   "execution_count": null,
   "metadata": {
    "vscode": {
     "languageId": "bat"
    }
   },
   "outputs": [],
   "source": []
  },
  {
   "cell_type": "markdown",
   "metadata": {},
   "source": [
    "## 3-(2). django의 `Template`\n",
    "###"
   ]
  }
 ],
 "metadata": {
  "language_info": {
   "name": "python"
  },
  "orig_nbformat": 4
 },
 "nbformat": 4,
 "nbformat_minor": 2
}

{
 "cells": [
  {
   "cell_type": "markdown",
   "metadata": {},
   "source": [
    "# Django\n",
    "- python 기반 프레임 워크\n",
    "- Flask와 지향성이 다름\n",
    "- Flask는 최소한의 모듈을 가지고있으며 작은 것부터 쌓아나가는 module임. (불러와야하는 모듈이 많음)\n",
    "- `Django는 거의 모든 모듈이 내장되어있는 프레임 워크`\n",
    "----\n",
    "## 1. Django 시작하기"
   ]
  },
  {
   "cell_type": "code",
   "execution_count": null,
   "metadata": {
    "vscode": {
     "languageId": "bat"
    }
   },
   "outputs": [],
   "source": [
    "# 현재 디렉토리에 새 virtualenv 가상환경 만들기 (venv는 통상적인 이름)\n",
    "virtualenv venv\n",
    "\n",
    "# 새 가상환경 venv에 진입하기\n",
    "source venv/bin/activate\n",
    "\n",
    "# django 설치\n",
    "pip install django\n",
    "\n",
    "# django 프로젝트 생성하기\n",
    "django-admin startproject webproject\n",
    "\n",
    "# 생성한 django 프로젝트 폴더 안 mange.py를 이용하여 서버를 가동할 수 있다. (webproject 파일에서 실행)\n",
    "python manage.py runserver"
   ]
  },
  {
   "cell_type": "markdown",
   "metadata": {},
   "source": [
    "----\n",
    "## 2. django의 project 관리법\n",
    "### - django는 `project들을 여러 App으로 관리`한다.\n",
    "### ex) 네이버의 경우 blog, news 등의 App Module로 관리한다."
   ]
  },
  {
   "cell_type": "code",
   "execution_count": null,
   "metadata": {
    "vscode": {
     "languageId": "bat"
    }
   },
   "outputs": [],
   "source": [
    "# django App 만들기 (webproject 파일에서 실행)\n",
    "django-admin startapp webprojectApp"
   ]
  },
  {
   "cell_type": "markdown",
   "metadata": {},
   "source": [
    "----\n",
    "## 3. django의 `design pattern` [`MVT pattern`]\n",
    "### - `design pattern` : code들을 module화하여 독립적으로 만들고 각 module들을 유기적으로 사용하는 구조\n",
    "### - MVC pattern : Model View Controller (과거에 많이 쓰임)\n",
    "### - `MVT` pattern : Model View Template\n"
   ]
  },
  {
   "cell_type": "markdown",
   "metadata": {},
   "source": [
    "## 3-(0). django의 `/admin/`의 관리자 아이디, 비밀번호 생성하기"
   ]
  },
  {
   "cell_type": "code",
   "execution_count": null,
   "metadata": {
    "vscode": {
     "languageId": "bat"
    }
   },
   "outputs": [],
   "source": [
    "# webproject 경로에서 (가상공간 on인 상태)\n",
    "\n",
    "# default로 만들어진 base로 이동\n",
    "python manage.py migrate\n",
    "\n",
    "# 관리자 계정 생성하기\n",
    "python manage.py createsuperuser"
   ]
  },
  {
   "cell_type": "markdown",
   "metadata": {},
   "source": [
    "## 3-(1). django의 `View`\n",
    "### : `request에 대한 처리를 담당하는 함수`\n",
    "### - `View`는 `Model`, `Template` 과 소통한다.\n",
    "### - `url` -> `view` -> `model`, `template`"
   ]
  },
  {
   "cell_type": "code",
   "execution_count": null,
   "metadata": {
    "vscode": {
     "languageId": "bat"
    }
   },
   "outputs": [],
   "source": [
    "# webprojectApp 파일의 views.py에서 view의 동작을 작업."
   ]
  },
  {
   "cell_type": "code",
   "execution_count": null,
   "metadata": {},
   "outputs": [],
   "source": [
    "# webprojectApp 파일의 views.py\n",
    "from http.client import HTTPResponse\n",
    "from django.shortcuts import render\n",
    "\n",
    "# Create your views here.\n",
    "\n",
    "# request가 들어오면 HTTPResponse()를 return\n",
    "\n",
    "def index(request):\n",
    "    return HTTPResponse(\"HTTP Response by django from webprogectApp/views.py\")\n"
   ]
  },
  {
   "cell_type": "code",
   "execution_count": null,
   "metadata": {
    "vscode": {
     "languageId": "bat"
    }
   },
   "outputs": [],
   "source": [
    "# views의 소스코드를 작성했다면 어느 경로로 request되면 동작을 할지 정해준다.\n",
    "# webproject 파일의 urls.py에서 urls 관리"
   ]
  },
  {
   "cell_type": "code",
   "execution_count": null,
   "metadata": {},
   "outputs": [],
   "source": [
    "# webproject 파일의 urls.py\n",
    "from django.contrib import admin\n",
    "from django.urls import path\n",
    "from webprojectApp.veiws import index\n",
    "\n",
    "urlpatterns = [\n",
    "    # path와 관련 views의 정보를 import하고 해당 함수 이름을 가져와야함\n",
    "    path('', index), # .127.0.0.1/\n",
    "    path('admin/', admin.site.urls), # .127.0.0.1/admin/\n",
    "]"
   ]
  },
  {
   "cell_type": "code",
   "execution_count": null,
   "metadata": {
    "vscode": {
     "languageId": "bat"
    }
   },
   "outputs": [],
   "source": [
    "# index view의 url 경로를 만들어 주었다면 \n",
    "# webproject 파일의 setting.py의 INSTALLED_APPS에 webprojectAPP 파일을 반드시 추가해준다."
   ]
  },
  {
   "cell_type": "code",
   "execution_count": null,
   "metadata": {},
   "outputs": [],
   "source": [
    "# webproject 파일의 setting.py\n",
    "\n",
    "# Application definition\n",
    "\n",
    "INSTALLED_APPS = [\n",
    "    'django.contrib.admin',\n",
    "    'django.contrib.auth',\n",
    "    'django.contrib.contenttypes',\n",
    "    'django.contrib.sessions',\n",
    "    'django.contrib.messages',\n",
    "    'django.contrib.staticfiles',\n",
    "    'webprojectAPP'\n",
    "]"
   ]
  },
  {
   "cell_type": "markdown",
   "metadata": {},
   "source": [
    "## 3-(2). django의 `Template`\n",
    "### : request에 대한 처리를 담당하는 함수 (`Views`)가 `보여주는 문서`들\n",
    "### ex) HTML, CSS, JS 등 \n",
    "### `Template 언어`를 통해 문서를 `rendering` 함\n",
    "### webprojectApp 파일안에 template 파일을 생성하여 따로 관리한다."
   ]
  },
  {
   "cell_type": "markdown",
   "metadata": {},
   "source": [
    "## cf. `render()` 함수의 역할\n",
    "#### - webprojectApp 파일안 views.py 에서 import해오는 render() 함수는 \n",
    "#### `views가 template들을 잘 rendering 할 수 있도록 도와주는` 역할을 한다.\n",
    "#### `render( , , )` 함수는 `세가지 인자`를 받으며 render가 `사용되는 함수의 request`, `.html` 파일 이름, `html에 사용되는 인자`들"
   ]
  },
  {
   "cell_type": "code",
   "execution_count": null,
   "metadata": {},
   "outputs": [],
   "source": [
    "from django.shortcuts import render, HttpResponse\n",
    "\n",
    "# Create your views here.\n",
    "\n",
    "# request가 들어오면 HTTPResponse()를 return\n",
    "\n",
    "\n",
    "def index(request):\n",
    "    number = 10\n",
    "\n",
    "    return render(request, 'index.html', {\"my_num\": number})\n",
    "    # return HttpResponse(\"<h1>Hello this is index View!</h1> (HTTP Response by django from webprogectApp/views.py)\")"
   ]
  },
  {
   "cell_type": "markdown",
   "metadata": {},
   "source": [
    "## - template 생성 과정\n",
    "### 1. webprojectApp 파일 안에 template 파일을 생성하여 그 안에 .html 등 파일 생성\n",
    "### 2. views.py 에서 render() 함수를 활용하여 .html 파일 rendering\n",
    "### 3. webproject 파일 setting.py 안 TEMPLATES 'DIRS' : [] 안에 templates의 경로를 알려준다."
   ]
  },
  {
   "cell_type": "markdown",
   "metadata": {},
   "source": [
    "## 3-(3). django `DB`의 `Model`\n",
    "### : `어떠한 요청이 들어왔을 때 DB를 관리하는 역할`\n",
    "### 요청 받은 DB를 Template과 View에 전달하여준다.\n",
    "### - webprojectApp 안의 `models.py` 에서 관리 가능\n",
    "### - Django 는 SQL 없이도 `ORM` 이라는 방법으로 DB를 구축할 수 있다. (`SQL도 사용가능`)\n",
    "### `ORM` : 객체(Object)단위로 DB를 관리할 수 있도록 해줌"
   ]
  },
  {
   "cell_type": "markdown",
   "metadata": {},
   "source": [
    "### 1. model 함수 만들기 (DB 구성)"
   ]
  },
  {
   "cell_type": "code",
   "execution_count": null,
   "metadata": {},
   "outputs": [],
   "source": [
    "#  webprojectApp 안의 models.py\n",
    "\n",
    "from pyexpat import model\n",
    "from django.db import models\n",
    "\n",
    "# Create your models here.\n",
    "\n",
    "\n",
    "class CpuTeam(models.Model):\n",
    "    # field1 = models.Field()\n",
    "    name = models.CharField(default=\"\", null=False, max_length=10)\n",
    "    studentID = models.IntegerField(default=0)\n",
    "    cool = models.BooleanField(default=False)"
   ]
  },
  {
   "cell_type": "markdown",
   "metadata": {},
   "source": [
    "### 2. model.py를 사용하기 위해서는 admin에서 import 해와서 사용한다고 명시해야함."
   ]
  },
  {
   "cell_type": "code",
   "execution_count": null,
   "metadata": {},
   "outputs": [],
   "source": [
    "from django.contrib import admin\n",
    "from .models import CpuTeam\n",
    "# Register your models here.\n",
    "admin.site.register(CpuTeam)"
   ]
  },
  {
   "cell_type": "markdown",
   "metadata": {},
   "source": [
    "### 3. mogration을 사용하여 model create 하기"
   ]
  },
  {
   "cell_type": "code",
   "execution_count": null,
   "metadata": {
    "vscode": {
     "languageId": "bat"
    }
   },
   "outputs": [],
   "source": [
    "# (venv) webproject 에서 migration 생성하기\n",
    "python manage.py makemigrations webprojectApp\n",
    "\n",
    "# 생성한 migration을 실제로 DB에 반영하기\n",
    "python manage.py migrate"
   ]
  },
  {
   "cell_type": "markdown",
   "metadata": {},
   "source": [
    "### 4. 생성한 model을 index.htlm (template)에 활용하기 위해서는 views.py 파일을 거챠야 한다."
   ]
  },
  {
   "cell_type": "code",
   "execution_count": null,
   "metadata": {},
   "outputs": [],
   "source": [
    "from django.shortcuts import render, HttpResponse\n",
    "from models import CpuTeam\n",
    "\n",
    "# Create your views here.\n",
    "\n",
    "# request가 들어오면 HTTPResponse()를 return\n",
    "\n",
    "\n",
    "def index(request):\n",
    "    number = 10\n",
    "\n",
    "    return render(request, 'index.html', {\"my_num\": number})\n",
    "    # return HttpResponse(\"<h1>Hello this is index View!</h1> (HTTP Response by django from webprogectApp/views.py)\")\n",
    "\n",
    "\n",
    "def CpuTeamModel_views(request):\n",
    "    CpuTeam_All = CpuTeam.objects.all()\n",
    "    return render(request, 'CpuTeam.html', {\"cputeam_list\": CpuTeam_All})"
   ]
  },
  {
   "cell_type": "markdown",
   "metadata": {},
   "source": [
    "### 5. model과 view, template가 새로 생겼으므로 urls.py 에 url을 지정해준다."
   ]
  },
  {
   "cell_type": "code",
   "execution_count": null,
   "metadata": {},
   "outputs": [],
   "source": [
    "from webprojectApp.views import index, CpuTeamModel_views\n",
    "\n",
    "urlpatterns = [\n",
    "    path('', index),\n",
    "    path('cputeam/', CpuTeamModel_views),\n",
    "    path('admin/', admin.site.urls),\n",
    "]"
   ]
  }
 ],
 "metadata": {
  "language_info": {
   "name": "python"
  },
  "orig_nbformat": 4
 },
 "nbformat": 4,
 "nbformat_minor": 2
}

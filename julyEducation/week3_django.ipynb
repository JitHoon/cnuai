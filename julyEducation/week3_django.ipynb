{
 "cells": [
  {
   "cell_type": "markdown",
   "metadata": {},
   "source": [
    "# Django\n",
    "- python 기반 프레임 워크\n",
    "- Flask와 지향성이 다름\n",
    "- Flask는 최소한의 모듈을 가지고있으며 작은 것부터 쌓아나가는 module임. (불러와야하는 모듈이 많음)\n",
    "- `Django는 거의 모든 모듈이 내장되어있는 프레임 워크`\n",
    "## 1. Django 시작하기"
   ]
  },
  {
   "cell_type": "code",
   "execution_count": null,
   "metadata": {
    "vscode": {
     "languageId": "bat"
    }
   },
   "outputs": [],
   "source": [
    "# 현재 디렉토리에 새 virtualenv 가상환경 만들기 (venv는 통상적인 이름)\n",
    "virtualenv venv\n",
    "\n",
    "# 새 가상환경 venv에 진입하기\n",
    "source venv/bin/activate\n",
    "\n",
    "# django 설치\n",
    "pip install django\n",
    "\n",
    "# django 프로젝트 생성하기\n",
    "django-admin startproject webproject\n",
    "\n",
    "# 생성한 django 프로젝트 폴더 안 mange.py를 이용하여 서버를 가동할 수 있다. (webproject 파일에서 실행)\n",
    "python manage.py runserver"
   ]
  },
  {
   "cell_type": "markdown",
   "metadata": {},
   "source": [
    "## 2. django의 project 관리법\n",
    "### - django는 `project들을 여러 App으로 관리`한다.\n",
    "### ex) 네이버의 경우 blog, news 등의 App Module로 관리한다."
   ]
  },
  {
   "cell_type": "code",
   "execution_count": null,
   "metadata": {
    "vscode": {
     "languageId": "bat"
    }
   },
   "outputs": [],
   "source": [
    "# django App 만들기 (webproject 파일에서 실행)\n",
    "django-admin startapp webprojectApp"
   ]
  },
  {
   "cell_type": "markdown",
   "metadata": {},
   "source": [
    "## 3. django의 `design pattern` [`MVT pattern`]\n",
    "### - `design pattern` : code들을 module화하여 독립적으로 만들고 각 module들을 유기적으로 사용하는 구조\n",
    "### - MVC pattern : Model View Controller (과거에 많이 쓰임)\n",
    "### - `MVT` pattern : Model View Template\n"
   ]
  },
  {
   "cell_type": "markdown",
   "metadata": {},
   "source": [
    "## 3-(0). django의 `/admin/`의 관리자 아이디, 비밀번호 생성하기"
   ]
  },
  {
   "cell_type": "code",
   "execution_count": null,
   "metadata": {
    "vscode": {
     "languageId": "bat"
    }
   },
   "outputs": [],
   "source": [
    "# webproject 경로에서 (가상공간 on인 상태)\n",
    "\n",
    "# default로 만들어진 base로 이동\n",
    "python manage.py migrate\n",
    "\n",
    "# 관리자 계정 생성하기\n",
    "python manage.py createsuperuser"
   ]
  },
  {
   "cell_type": "markdown",
   "metadata": {},
   "source": [
    "## 3-(1). django의 `View`\n",
    "### : `request에 대한 처리를 담당하는 함수`\n",
    "### - `View`는 `Model`, `Template` 과 소통한다.\n",
    "### - `url` -> `view` -> `model`, `template`"
   ]
  },
  {
   "cell_type": "code",
   "execution_count": null,
   "metadata": {
    "vscode": {
     "languageId": "bat"
    }
   },
   "outputs": [],
   "source": [
    "# webprojectApp 파일의 views.py에서 view의 동작을 작업."
   ]
  },
  {
   "cell_type": "code",
   "execution_count": null,
   "metadata": {},
   "outputs": [],
   "source": [
    "# webprojectApp 파일의 views.py\n",
    "from http.client import HTTPResponse\n",
    "from django.shortcuts import render\n",
    "\n",
    "# Create your views here.\n",
    "\n",
    "# request가 들어오면 HTTPResponse()를 return\n",
    "\n",
    "def index(request):\n",
    "    return HTTPResponse(\"HTTP Response by django from webprogectApp/views.py\")\n"
   ]
  },
  {
   "cell_type": "code",
   "execution_count": null,
   "metadata": {
    "vscode": {
     "languageId": "bat"
    }
   },
   "outputs": [],
   "source": [
    "# views의 소스코드를 작성했다면 어느 경로로 request되면 동작을 할지 정해준다.\n",
    "# webproject 파일의 urls.py에서 urls 관리"
   ]
  },
  {
   "cell_type": "code",
   "execution_count": null,
   "metadata": {},
   "outputs": [],
   "source": [
    "# webproject 파일의 urls.py\n",
    "from django.contrib import admin\n",
    "from django.urls import path\n",
    "from webprojectApp.veiws import index\n",
    "\n",
    "urlpatterns = [\n",
    "    # path와 관련 views의 정보를 import하고 해당 함수 이름을 가져와야함\n",
    "    path('', index), # .127.0.0.1/\n",
    "    path('admin/', admin.site.urls), # .127.0.0.1/admin/\n",
    "]"
   ]
  },
  {
   "cell_type": "code",
   "execution_count": null,
   "metadata": {
    "vscode": {
     "languageId": "bat"
    }
   },
   "outputs": [],
   "source": [
    "# index view의 url 경로를 만들어 주었다면 \n",
    "# webproject 파일의 setting.py의 INSTALLED_APPS에 webprojectAPP 파일을 반드시 추가해준다."
   ]
  },
  {
   "cell_type": "code",
   "execution_count": null,
   "metadata": {},
   "outputs": [],
   "source": [
    "# webproject 파일의 setting.py\n",
    "\n",
    "# Application definition\n",
    "\n",
    "INSTALLED_APPS = [\n",
    "    'django.contrib.admin',\n",
    "    'django.contrib.auth',\n",
    "    'django.contrib.contenttypes',\n",
    "    'django.contrib.sessions',\n",
    "    'django.contrib.messages',\n",
    "    'django.contrib.staticfiles',\n",
    "    'webprojectAPP'\n",
    "]"
   ]
  },
  {
   "cell_type": "markdown",
   "metadata": {},
   "source": [
    "## 3-(2). django의 `Template`\n",
    "### : request에 대한 처리를 담당하는 함수 (`Views`)가 `보여주는 문서`들\n",
    "### ex) HTML, CSS, JS 등 \n",
    "### `Template 언어`를 통해 문서를 `rendering` 함"
   ]
  }
 ],
 "metadata": {
  "language_info": {
   "name": "python"
  },
  "orig_nbformat": 4
 },
 "nbformat": 4,
 "nbformat_minor": 2
}

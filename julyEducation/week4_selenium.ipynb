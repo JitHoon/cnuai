{
 "cells": [
  {
   "cell_type": "markdown",
   "id": "192778f5-b6a0-458f-9d28-2ecd531975a1",
   "metadata": {},
   "source": [
    "## 브라우저 자동화하기, Selenium\n",
    "\n",
    "- `Selenium`을 활용해 브라우저를 조작해봅시다."
   ]
  },
  {
   "cell_type": "markdown",
   "id": "4641b904-0d90-4bd0-a963-3f01ea8547d1",
   "metadata": {},
   "source": [
    "### Selenium 라이브러리\n",
    "\n",
    "- `selenium`은 Python을 이용해서 웹 브라우저를 조작할 수 있는 자동화 프레임워크입니다.\n",
    "\n",
    "이를 사용하기 위해서는 먼저 `selenium` 프레임워크를 설치해야합니다.  \n",
    "`pip install`을 통해서 이를 간단하게 설치할 수 있습니다.\n",
    "\n",
    "> Tip: `%`를 이용해서 노트북(.ipynb) 환경에서 터미널 코드를 실행할 수 있습니다."
   ]
  },
  {
   "cell_type": "code",
   "execution_count": 1,
   "id": "1b08d5f2-01ae-4b19-bff8-f933f12f94e4",
   "metadata": {},
   "outputs": [
    {
     "name": "stdout",
     "output_type": "stream",
     "text": [
      "\u001b[33mDEPRECATION: Configuring installation scheme with distutils config files is deprecated and will no longer work in the near future. If you are using a Homebrew or Linuxbrew Python, please see discussion at https://github.com/Homebrew/homebrew-core/issues/76621\u001b[0m\u001b[33m\n",
      "\u001b[0mCollecting selenium\n",
      "  Downloading selenium-4.3.0-py3-none-any.whl (981 kB)\n",
      "\u001b[2K     \u001b[90m━━━━━━━━━━━━━━━━━━━━━━━━━━━━━━━━━━━━━━\u001b[0m \u001b[32m981.4/981.4 kB\u001b[0m \u001b[31m14.8 MB/s\u001b[0m eta \u001b[36m0:00:00\u001b[0ma \u001b[36m0:00:01\u001b[0m\n",
      "\u001b[?25hCollecting trio~=0.17\n",
      "  Downloading trio-0.21.0-py3-none-any.whl (358 kB)\n",
      "\u001b[2K     \u001b[90m━━━━━━━━━━━━━━━━━━━━━━━━━━━━━━━━━━━━━━\u001b[0m \u001b[32m359.0/359.0 kB\u001b[0m \u001b[31m13.8 MB/s\u001b[0m eta \u001b[36m0:00:00\u001b[0m\n",
      "\u001b[?25hRequirement already satisfied: urllib3[secure,socks]~=1.26 in /opt/homebrew/lib/python3.9/site-packages (from selenium) (1.26.11)\n",
      "Collecting trio-websocket~=0.9\n",
      "  Downloading trio_websocket-0.9.2-py3-none-any.whl (16 kB)\n",
      "Requirement already satisfied: attrs>=19.2.0 in /opt/homebrew/lib/python3.9/site-packages (from trio~=0.17->selenium) (21.4.0)\n",
      "Collecting sortedcontainers\n",
      "  Downloading sortedcontainers-2.4.0-py2.py3-none-any.whl (29 kB)\n",
      "Collecting async-generator>=1.9\n",
      "  Downloading async_generator-1.10-py3-none-any.whl (18 kB)\n",
      "Collecting sniffio\n",
      "  Downloading sniffio-1.2.0-py3-none-any.whl (10 kB)\n",
      "Requirement already satisfied: idna in /opt/homebrew/lib/python3.9/site-packages (from trio~=0.17->selenium) (3.3)\n",
      "Collecting outcome\n",
      "  Downloading outcome-1.2.0-py2.py3-none-any.whl (9.7 kB)\n",
      "Collecting wsproto>=0.14\n",
      "  Downloading wsproto-1.1.0-py3-none-any.whl (24 kB)\n",
      "Collecting PySocks!=1.5.7,<2.0,>=1.5.6\n",
      "  Downloading PySocks-1.7.1-py3-none-any.whl (16 kB)\n",
      "Collecting pyOpenSSL>=0.14\n",
      "  Downloading pyOpenSSL-22.0.0-py2.py3-none-any.whl (55 kB)\n",
      "\u001b[2K     \u001b[90m━━━━━━━━━━━━━━━━━━━━━━━━━━━━━━━━━━━━━━━━\u001b[0m \u001b[32m55.8/55.8 kB\u001b[0m \u001b[31m2.2 MB/s\u001b[0m eta \u001b[36m0:00:00\u001b[0m\n",
      "\u001b[?25hCollecting cryptography>=1.3.4\n",
      "  Downloading cryptography-37.0.4-cp36-abi3-macosx_10_10_universal2.whl (5.4 MB)\n",
      "\u001b[2K     \u001b[90m━━━━━━━━━━━━━━━━━━━━━━━━━━━━━━━━━━━━━━━━\u001b[0m \u001b[32m5.4/5.4 MB\u001b[0m \u001b[31m36.0 MB/s\u001b[0m eta \u001b[36m0:00:00\u001b[0ma \u001b[36m0:00:01\u001b[0m\n",
      "\u001b[?25hRequirement already satisfied: certifi in /opt/homebrew/lib/python3.9/site-packages (from urllib3[secure,socks]~=1.26->selenium) (2022.6.15)\n",
      "Requirement already satisfied: cffi>=1.12 in /opt/homebrew/lib/python3.9/site-packages (from cryptography>=1.3.4->urllib3[secure,socks]~=1.26->selenium) (1.15.1)\n",
      "Collecting h11<1,>=0.9.0\n",
      "  Downloading h11-0.13.0-py3-none-any.whl (58 kB)\n",
      "\u001b[2K     \u001b[90m━━━━━━━━━━━━━━━━━━━━━━━━━━━━━━━━━━━━━━━━\u001b[0m \u001b[32m58.2/58.2 kB\u001b[0m \u001b[31m2.4 MB/s\u001b[0m eta \u001b[36m0:00:00\u001b[0m\n",
      "\u001b[?25hRequirement already satisfied: pycparser in /opt/homebrew/lib/python3.9/site-packages (from cffi>=1.12->cryptography>=1.3.4->urllib3[secure,socks]~=1.26->selenium) (2.21)\n",
      "Installing collected packages: sortedcontainers, sniffio, PySocks, outcome, h11, async-generator, wsproto, trio, cryptography, trio-websocket, pyOpenSSL, selenium\n",
      "\u001b[33m  DEPRECATION: Configuring installation scheme with distutils config files is deprecated and will no longer work in the near future. If you are using a Homebrew or Linuxbrew Python, please see discussion at https://github.com/Homebrew/homebrew-core/issues/76621\u001b[0m\u001b[33m\n",
      "\u001b[0m\u001b[33m  DEPRECATION: Configuring installation scheme with distutils config files is deprecated and will no longer work in the near future. If you are using a Homebrew or Linuxbrew Python, please see discussion at https://github.com/Homebrew/homebrew-core/issues/76621\u001b[0m\u001b[33m\n",
      "\u001b[0m\u001b[33m  DEPRECATION: Configuring installation scheme with distutils config files is deprecated and will no longer work in the near future. If you are using a Homebrew or Linuxbrew Python, please see discussion at https://github.com/Homebrew/homebrew-core/issues/76621\u001b[0m\u001b[33m\n",
      "\u001b[0m\u001b[33m  DEPRECATION: Configuring installation scheme with distutils config files is deprecated and will no longer work in the near future. If you are using a Homebrew or Linuxbrew Python, please see discussion at https://github.com/Homebrew/homebrew-core/issues/76621\u001b[0m\u001b[33m\n",
      "\u001b[0m\u001b[33m  DEPRECATION: Configuring installation scheme with distutils config files is deprecated and will no longer work in the near future. If you are using a Homebrew or Linuxbrew Python, please see discussion at https://github.com/Homebrew/homebrew-core/issues/76621\u001b[0m\u001b[33m\n",
      "\u001b[0m\u001b[33m  DEPRECATION: Configuring installation scheme with distutils config files is deprecated and will no longer work in the near future. If you are using a Homebrew or Linuxbrew Python, please see discussion at https://github.com/Homebrew/homebrew-core/issues/76621\u001b[0m\u001b[33m\n",
      "\u001b[0m\u001b[33m  DEPRECATION: Configuring installation scheme with distutils config files is deprecated and will no longer work in the near future. If you are using a Homebrew or Linuxbrew Python, please see discussion at https://github.com/Homebrew/homebrew-core/issues/76621\u001b[0m\u001b[33m\n",
      "\u001b[0m\u001b[33m  DEPRECATION: Configuring installation scheme with distutils config files is deprecated and will no longer work in the near future. If you are using a Homebrew or Linuxbrew Python, please see discussion at https://github.com/Homebrew/homebrew-core/issues/76621\u001b[0m\u001b[33m\n",
      "\u001b[0m\u001b[33m  DEPRECATION: Configuring installation scheme with distutils config files is deprecated and will no longer work in the near future. If you are using a Homebrew or Linuxbrew Python, please see discussion at https://github.com/Homebrew/homebrew-core/issues/76621\u001b[0m\u001b[33m\n",
      "\u001b[0m\u001b[33m  DEPRECATION: Configuring installation scheme with distutils config files is deprecated and will no longer work in the near future. If you are using a Homebrew or Linuxbrew Python, please see discussion at https://github.com/Homebrew/homebrew-core/issues/76621\u001b[0m\u001b[33m\n",
      "\u001b[0m\u001b[33m  DEPRECATION: Configuring installation scheme with distutils config files is deprecated and will no longer work in the near future. If you are using a Homebrew or Linuxbrew Python, please see discussion at https://github.com/Homebrew/homebrew-core/issues/76621\u001b[0m\u001b[33m\n",
      "\u001b[0m\u001b[33m  DEPRECATION: Configuring installation scheme with distutils config files is deprecated and will no longer work in the near future. If you are using a Homebrew or Linuxbrew Python, please see discussion at https://github.com/Homebrew/homebrew-core/issues/76621\u001b[0m\u001b[33m\n",
      "\u001b[0m\u001b[33mDEPRECATION: Configuring installation scheme with distutils config files is deprecated and will no longer work in the near future. If you are using a Homebrew or Linuxbrew Python, please see discussion at https://github.com/Homebrew/homebrew-core/issues/76621\u001b[0m\u001b[33m\n",
      "\u001b[0mSuccessfully installed PySocks-1.7.1 async-generator-1.10 cryptography-37.0.4 h11-0.13.0 outcome-1.2.0 pyOpenSSL-22.0.0 selenium-4.3.0 sniffio-1.2.0 sortedcontainers-2.4.0 trio-0.21.0 trio-websocket-0.9.2 wsproto-1.1.0\n",
      "\n",
      "\u001b[1m[\u001b[0m\u001b[34;49mnotice\u001b[0m\u001b[1;39;49m]\u001b[0m\u001b[39;49m A new release of pip available: \u001b[0m\u001b[31;49m22.1.2\u001b[0m\u001b[39;49m -> \u001b[0m\u001b[32;49m22.2\u001b[0m\n",
      "\u001b[1m[\u001b[0m\u001b[34;49mnotice\u001b[0m\u001b[1;39;49m]\u001b[0m\u001b[39;49m To update, run: \u001b[0m\u001b[32;49mpython3.9 -m pip install --upgrade pip\u001b[0m\n",
      "Note: you may need to restart the kernel to use updated packages.\n"
     ]
    }
   ],
   "source": [
    "# selenium 라이브러리를 설치해봅시다.\n",
    "\n",
    "%pip install selenium"
   ]
  },
  {
   "cell_type": "markdown",
   "id": "03b2584d-ca5a-4aa6-80ce-0c478a097fbd",
   "metadata": {},
   "source": [
    "설치를 다 진행했다면, 이제 Chrome Driver를 설치하러 가봅시다."
   ]
  },
  {
   "cell_type": "markdown",
   "id": "dce0cfef-9a70-404a-bbc3-dd45b446c5ca",
   "metadata": {},
   "source": [
    "### Web Driver\n",
    "\n",
    "- 웹 브라우저와 연동을 위해서는 `WebDriver`가 필요합니다.\n",
    "\n",
    "`WebDriver`는 웹 브라우저를 제어할 수 있는 프레임워크입니다.  \n",
    "이 실습에서는 **Chrome**을 기준으로 설명하겠습니다.\n",
    "\n",
    "`pip insall`을 통해 webdriver를 관리하는 라이브러리 `webdriver-manager`를 설치합니다."
   ]
  },
  {
   "cell_type": "code",
   "execution_count": 2,
   "id": "0c76a2a6-0cba-4656-aeaf-ae0d3b80ef35",
   "metadata": {},
   "outputs": [
    {
     "name": "stdout",
     "output_type": "stream",
     "text": [
      "\u001b[33mDEPRECATION: Configuring installation scheme with distutils config files is deprecated and will no longer work in the near future. If you are using a Homebrew or Linuxbrew Python, please see discussion at https://github.com/Homebrew/homebrew-core/issues/76621\u001b[0m\u001b[33m\n",
      "\u001b[0mCollecting webdriver-manager\n",
      "  Downloading webdriver_manager-3.8.3-py2.py3-none-any.whl (26 kB)\n",
      "Collecting tqdm\n",
      "  Downloading tqdm-4.64.0-py2.py3-none-any.whl (78 kB)\n",
      "\u001b[2K     \u001b[90m━━━━━━━━━━━━━━━━━━━━━━━━━━━━━━━━━━━━━━━━\u001b[0m \u001b[32m78.4/78.4 kB\u001b[0m \u001b[31m2.6 MB/s\u001b[0m eta \u001b[36m0:00:00\u001b[0m\n",
      "\u001b[?25hCollecting python-dotenv\n",
      "  Downloading python_dotenv-0.20.0-py3-none-any.whl (17 kB)\n",
      "Requirement already satisfied: requests in /opt/homebrew/lib/python3.9/site-packages (from webdriver-manager) (2.28.1)\n",
      "Requirement already satisfied: certifi>=2017.4.17 in /opt/homebrew/lib/python3.9/site-packages (from requests->webdriver-manager) (2022.6.15)\n",
      "Requirement already satisfied: urllib3<1.27,>=1.21.1 in /opt/homebrew/lib/python3.9/site-packages (from requests->webdriver-manager) (1.26.11)\n",
      "Requirement already satisfied: charset-normalizer<3,>=2 in /opt/homebrew/lib/python3.9/site-packages (from requests->webdriver-manager) (2.1.0)\n",
      "Requirement already satisfied: idna<4,>=2.5 in /opt/homebrew/lib/python3.9/site-packages (from requests->webdriver-manager) (3.3)\n",
      "Installing collected packages: tqdm, python-dotenv, webdriver-manager\n",
      "\u001b[33m  DEPRECATION: Configuring installation scheme with distutils config files is deprecated and will no longer work in the near future. If you are using a Homebrew or Linuxbrew Python, please see discussion at https://github.com/Homebrew/homebrew-core/issues/76621\u001b[0m\u001b[33m\n",
      "\u001b[0m\u001b[33m  DEPRECATION: Configuring installation scheme with distutils config files is deprecated and will no longer work in the near future. If you are using a Homebrew or Linuxbrew Python, please see discussion at https://github.com/Homebrew/homebrew-core/issues/76621\u001b[0m\u001b[33m\n",
      "\u001b[0m\u001b[33m  DEPRECATION: Configuring installation scheme with distutils config files is deprecated and will no longer work in the near future. If you are using a Homebrew or Linuxbrew Python, please see discussion at https://github.com/Homebrew/homebrew-core/issues/76621\u001b[0m\u001b[33m\n",
      "\u001b[0m\u001b[33mDEPRECATION: Configuring installation scheme with distutils config files is deprecated and will no longer work in the near future. If you are using a Homebrew or Linuxbrew Python, please see discussion at https://github.com/Homebrew/homebrew-core/issues/76621\u001b[0m\u001b[33m\n",
      "\u001b[0mSuccessfully installed python-dotenv-0.20.0 tqdm-4.64.0 webdriver-manager-3.8.3\n",
      "\n",
      "\u001b[1m[\u001b[0m\u001b[34;49mnotice\u001b[0m\u001b[1;39;49m]\u001b[0m\u001b[39;49m A new release of pip available: \u001b[0m\u001b[31;49m22.1.2\u001b[0m\u001b[39;49m -> \u001b[0m\u001b[32;49m22.2\u001b[0m\n",
      "\u001b[1m[\u001b[0m\u001b[34;49mnotice\u001b[0m\u001b[1;39;49m]\u001b[0m\u001b[39;49m To update, run: \u001b[0m\u001b[32;49mpython3.9 -m pip install --upgrade pip\u001b[0m\n",
      "Note: you may need to restart the kernel to use updated packages.\n"
     ]
    }
   ],
   "source": [
    "# webdriver-manager를 설치해봅시다.\n",
    "\n",
    "%pip install webdriver-manager"
   ]
  },
  {
   "cell_type": "markdown",
   "id": "7c73e625-2eb4-401a-83d0-4d07702153ba",
   "metadata": {},
   "source": [
    "설치를 완료했다면 이제 Webdriver를 사용할 수 있습니다.\n",
    "\n",
    "컴퓨터에 Chrome이 깔려있어야 이후 실습을 진행할 수 있습니다.  \n",
    "[Chrome 설치하기](https://www.google.com/intl/ko_kr/chrome/)"
   ]
  },
  {
   "cell_type": "markdown",
   "id": "1631423f-39be-4478-8464-81bcc3d5b408",
   "metadata": {},
   "source": [
    "### Selenium 시작하기\n",
    "\n"
   ]
  },
  {
   "cell_type": "markdown",
   "id": "e0684b2c-5a51-44dc-a859-c52ee73cbbc6",
   "metadata": {},
   "source": [
    "Selenium을 사용하기 위해 우선 Selenium을 불러와봅시다."
   ]
  },
  {
   "cell_type": "code",
   "execution_count": 4,
   "id": "f47f2f16-bd2b-4bd8-89a6-11c13e37d081",
   "metadata": {},
   "outputs": [],
   "source": [
    "# selenium으로부터 webdriver 모듈을 불러옵니다.\n",
    "\n",
    "# webdriver 불러오기\n",
    "from selenium import webdriver\n",
    "# webdriver에서 제공해주는 chrome안 service 불러오기 (chrome이라는 객체를 만들때 인자로 사용)\n",
    "from selenium.webdriver.chrome.service import Service\n",
    "# 현재 사용중인 chrome의 버전과 싱크를 맞추기 위해서 불러옴\n",
    "from webdriver_manager.chrome import ChromeDriverManager"
   ]
  },
  {
   "cell_type": "markdown",
   "id": "c76bd4a5-7aa1-477e-a931-c98c234d1810",
   "metadata": {},
   "source": [
    "불러온 모듈 webdriver에서 Chrome() 객체를 생성합니다."
   ]
  },
  {
   "cell_type": "code",
   "execution_count": 5,
   "id": "66bb591b-7a2f-43d7-bb01-495ee065e52e",
   "metadata": {},
   "outputs": [
    {
     "name": "stderr",
     "output_type": "stream",
     "text": [
      "[WDM] - Downloading: 100%|██████████| 7.28M/7.28M [00:00<00:00, 38.0MB/s]\n"
     ]
    }
   ],
   "source": [
    "# driver 객체를 생성해봅시다.\n",
    "# 현재 사용중인 크롬 브라우저에 맞춰서 드라이버를 받아 올 수 있도록 도와준다.\n",
    "driver = webdriver.Chrome(service=Service(ChromeDriverManager().install()))"
   ]
  },
  {
   "cell_type": "markdown",
   "id": "253b9971-9246-412d-b039-6f9194697796",
   "metadata": {},
   "source": [
    "갑자기 크롬이 실행된다구요? 정상입니다. 저희는 위 명령을 통해 웹 브라우저를 실행하고 파이썬과 연동할 수 있습니다.\n",
    "\n",
    "여기서 그치지 않고, 저희는 이제 요청을 보내보도록 하겠습니다.  \n",
    "`.get(url)`을 활용해 요청을 보낼 수 있습니다."
   ]
  },
  {
   "cell_type": "code",
   "execution_count": 7,
   "id": "2befd945-b5a1-4ef2-bb36-914ac3334707",
   "metadata": {},
   "outputs": [],
   "source": [
    "# http://www.example.com 으로 요청을 보내봅시다.\n",
    "\n",
    "# 위에서 설정한 driver 객체를 통해 chrome에 get 요청을 보낼 수 있음\n",
    "driver = webdriver.Chrome(service=Service(ChromeDriverManager().install()))\n",
    "driver.get(\"http://www.example.com\")"
   ]
  },
  {
   "cell_type": "markdown",
   "id": "7d409f9d-9aa1-4e77-8333-35612aaad435",
   "metadata": {},
   "source": [
    "요청이 잘 보내지시나요?  :)  \n",
    "응답을 받은 후, `page_source` 속성을 통해 Response의 HTML 문서를 확인할 수 있습니다."
   ]
  },
  {
   "cell_type": "code",
   "execution_count": 8,
   "id": "5057fcfc-cea0-420f-910d-c0e130f81942",
   "metadata": {},
   "outputs": [
    {
     "name": "stdout",
     "output_type": "stream",
     "text": [
      "<html><head>\n",
      "    <title>Example Domain</title>\n",
      "\n",
      "    <meta charset=\"utf-8\">\n",
      "    <meta http-equiv=\"Content-type\" content=\"text/html; charset=utf-8\">\n",
      "    <meta name=\"viewport\" content=\"width=device-width, initial-scale=1\">\n",
      "    <style type=\"text/css\">\n",
      "    body {\n",
      "        background-color: #f0f0f2;\n",
      "        margin: 0;\n",
      "        padding: 0;\n",
      "        font-family: -apple-system, system-ui, BlinkMacSystemFont, \"Segoe UI\", \"Open Sans\", \"Helvetica Neue\", Helvetica, Arial, sans-serif;\n",
      "        \n",
      "    }\n",
      "    div {\n",
      "        width: 600px;\n",
      "        margin: 5em auto;\n",
      "        padding: 2em;\n",
      "        background-color: #fdfdff;\n",
      "        border-radius: 0.5em;\n",
      "        box-shadow: 2px 3px 7px 2px rgba(0,0,0,0.02);\n",
      "    }\n",
      "    a:link, a:visited {\n",
      "        color: #38488f;\n",
      "        text-decoration: none;\n",
      "    }\n",
      "    @media (max-width: 700px) {\n",
      "        div {\n",
      "            margin: 0 auto;\n",
      "            width: auto;\n",
      "        }\n",
      "    }\n",
      "    </style>    \n",
      "</head>\n",
      "\n",
      "<body>\n",
      "<div>\n",
      "    <h1>Example Domain</h1>\n",
      "    <p>This domain is for use in illustrative examples in documents. You may use this\n",
      "    domain in literature without prior coordination or asking for permission.</p>\n",
      "    <p><a href=\"https://www.iana.org/domains/example\">More information...</a></p>\n",
      "</div>\n",
      "\n",
      "\n",
      "</body></html>\n"
     ]
    }
   ],
   "source": [
    "# page_source 속성을 확인해봅시다.\n",
    "\n",
    "driver = webdriver.Chrome(service=Service(ChromeDriverManager().install()))\n",
    "driver.get(\"http://www.example.com\")\n",
    "print(driver.page_source)"
   ]
  },
  {
   "cell_type": "markdown",
   "id": "2641954d-5464-460d-bc55-00f92ed0aa7a",
   "metadata": {},
   "source": [
    "그런데, 프로그램들을 실행하다보면 Chrome 창이 계속 켜져있게 됩니다.\n",
    "이는 저희가 해당 창을 끄라고 명령을 내린 적이 없기 때문이죠!\n",
    "\n",
    "`with-as` 구문을 통해 주어진 명령이 끝나면 driver를 종료하도록 설정할 수 있습니다."
   ]
  },
  {
   "cell_type": "code",
   "execution_count": 9,
   "id": "65f28749-ade7-4168-9972-60e2b3ac92c8",
   "metadata": {},
   "outputs": [
    {
     "name": "stdout",
     "output_type": "stream",
     "text": [
      "<html><head>\n",
      "    <title>Example Domain</title>\n",
      "\n",
      "    <meta charset=\"utf-8\">\n",
      "    <meta http-equiv=\"Content-type\" content=\"text/html; charset=utf-8\">\n",
      "    <meta name=\"viewport\" content=\"width=device-width, initial-scale=1\">\n",
      "    <style type=\"text/css\">\n",
      "    body {\n",
      "        background-color: #f0f0f2;\n",
      "        margin: 0;\n",
      "        padding: 0;\n",
      "        font-family: -apple-system, system-ui, BlinkMacSystemFont, \"Segoe UI\", \"Open Sans\", \"Helvetica Neue\", Helvetica, Arial, sans-serif;\n",
      "        \n",
      "    }\n",
      "    div {\n",
      "        width: 600px;\n",
      "        margin: 5em auto;\n",
      "        padding: 2em;\n",
      "        background-color: #fdfdff;\n",
      "        border-radius: 0.5em;\n",
      "        box-shadow: 2px 3px 7px 2px rgba(0,0,0,0.02);\n",
      "    }\n",
      "    a:link, a:visited {\n",
      "        color: #38488f;\n",
      "        text-decoration: none;\n",
      "    }\n",
      "    @media (max-width: 700px) {\n",
      "        div {\n",
      "            margin: 0 auto;\n",
      "            width: auto;\n",
      "        }\n",
      "    }\n",
      "    </style>    \n",
      "</head>\n",
      "\n",
      "<body>\n",
      "<div>\n",
      "    <h1>Example Domain</h1>\n",
      "    <p>This domain is for use in illustrative examples in documents. You may use this\n",
      "    domain in literature without prior coordination or asking for permission.</p>\n",
      "    <p><a href=\"https://www.iana.org/domains/example\">More information...</a></p>\n",
      "</div>\n",
      "\n",
      "\n",
      "</body></html>\n"
     ]
    }
   ],
   "source": [
    "# with-as를 사용해서 위 코드를 다시 적어봅시다.\n",
    "\n",
    "with webdriver.Chrome(service=Service(ChromeDriverManager().install())) as driver:\n",
    "    driver.get(\"http://www.example.com\")\n",
    "    print(driver.page_source)"
   ]
  },
  {
   "cell_type": "markdown",
   "id": "87e75ad7-8536-4555-a6bd-a59dc311cef5",
   "metadata": {},
   "source": [
    "주어진 명령을 실행하고 잘 종료되는 것을 확인할 수 있습니다.\n",
    "\n",
    "----\n",
    "\n",
    "### Driver에서 특정 요소 추출하기\n",
    "\n",
    "selenium은 받아온 응답으로부터 특정 요소를 추출할 수도 있습니다.  \n",
    "**이미 브라우저를 활용하기 때문이죠!**\n",
    "\n",
    "응답을 가지고 있는 driver/요소에 대해서 다음과 같은 메서드를 적용할 수 있습니다.\n",
    "\n",
    "**요소 하나 찾기**  \n",
    "- `.find_element(by, target)`\n",
    "  - `by` : 대상을 찾는 기준 : `ID`, `TAG_NAME`, `CLASS_NAME`, ...\n",
    "  - `target` : 대상의 속성  \n",
    "\n",
    "**요소 여러개 찾기**  \n",
    "- `.find_elements(by, target)`\n",
    "  - `by` : 대상을 찾는 기준 : `ID`, `TAG_NAME`, `CLASS_NAME`, ...\n",
    "  - `target` : 대상의 속성"
   ]
  },
  {
   "cell_type": "code",
   "execution_count": 10,
   "id": "be765c3c-1cad-4b12-bfb5-2b917ce52bba",
   "metadata": {},
   "outputs": [],
   "source": [
    "# 원하는 요소만 불러오기위해서는 우선 By를 import해봅시다.\n",
    "\n",
    "from selenium.webdriver.common.by import By"
   ]
  },
  {
   "cell_type": "code",
   "execution_count": 12,
   "id": "530b2366-1e2d-4c86-b432-9b9a56778041",
   "metadata": {},
   "outputs": [
    {
     "name": "stdout",
     "output_type": "stream",
     "text": [
      "This domain is for use in illustrative examples in documents. You may use this domain in literature without prior coordination or asking for permission.\n"
     ]
    }
   ],
   "source": [
    "# p 태그에 해당하는 요소 하나를 찾아봅시다.\n",
    "\n",
    "with webdriver.Chrome(service=Service(ChromeDriverManager().install())) as driver:\n",
    "    driver.get(\"http://www.example.com\")\n",
    "    print(driver.find_element(By.TAG_NAME, \"p\").text)"
   ]
  },
  {
   "cell_type": "code",
   "execution_count": 14,
   "id": "3f99f957-56b9-4615-864b-a8f68611ab7c",
   "metadata": {},
   "outputs": [
    {
     "name": "stdout",
     "output_type": "stream",
     "text": [
      "Text: This domain is for use in illustrative examples in documents. You may use this domain in literature without prior coordination or asking for permission.\n",
      "Text: More information...\n"
     ]
    }
   ],
   "source": [
    "# p 태그에 해당하는 요소 여러개를 찾아봅시다.\n",
    "\n",
    "with webdriver.Chrome(service=Service(ChromeDriverManager().install())) as driver:\n",
    "    driver.get(\"http://www.example.com\")\n",
    "    for element in driver.find_elements(By.TAG_NAME, \"p\"):\n",
    "        print(\"Text:\", element.text)"
   ]
  },
  {
   "cell_type": "markdown",
   "id": "67269b08",
   "metadata": {},
   "source": [
    "----\n",
    "## Wait and Call\n",
    "\n",
    "- Wait을 이용해서 동적 웹 사이트를 성공적으로 스크래핑해봅시다."
   ]
  },
  {
   "cell_type": "markdown",
   "id": "7e133de7",
   "metadata": {},
   "source": [
    "### Implicit / Explicit Wait\n",
    "\n",
    "Selenium은 동적 웹 사이트에 대한 지원을 진행하기 위해 **명시적 기다림(Explicit Wait)** 과 **암묵적 기다림(Implicit Wait)** 을 지원합니다.\n",
    "\n",
    "- Implicit Wait: 다 로딩이 될 때까지 **지정한 시간** 동안 기다림 (e.g. 다 로딩이 될 때까지 5초동안 기다려!)\n",
    "- Explicit Wait: **특정 요소에 대한 제약**을 통한 기다림 (e.g. 이 태그를 가져올 수 있을 때까지 기다려!)"
   ]
  },
  {
   "cell_type": "markdown",
   "id": "4854eb25",
   "metadata": {},
   "source": [
    "### Target: IndieStreet 이벤트 스크래핑\n",
    "\n",
    "다음 사이트에 있는 행사의 이름들을 스크래핑 해봅시다 : https://indistreet.com/live?sortOption=startDate%3AASC \n",
    "\n",
    "해당 웹 페이지는 공연 리스트가 담긴 웹 페이지입니다."
   ]
  },
  {
   "cell_type": "code",
   "execution_count": 15,
   "id": "ebce17b8",
   "metadata": {},
   "outputs": [],
   "source": [
    "# 스크래핑에 필요한 라이브러리를 불러와봅시다.\n",
    "\n",
    "from selenium import webdriver\n",
    "from selenium.webdriver.chrome.service import Service\n",
    "from selenium.webdriver.common.by import By\n",
    "from webdriver_manager.chrome import ChromeDriverManager"
   ]
  },
  {
   "cell_type": "markdown",
   "id": "f32108c4",
   "metadata": {},
   "source": [
    "### XPath?\n",
    "\n",
    "위 사이트를 확인해보니 class 이름이 조금 특이했습니다.  \n",
    "이는 `스크래핑을 방지할 목적으로 랜덤하게 class 이름을 생성`하기 때문인데요,\n",
    "\n",
    "이러한 경우에서 쓸 수 있는 방법이 여러가지가 있는데,  \n",
    "그 중 한가지 방법인, **위치**를 활용한 방법을 알아보도록 하겠습니다.\n",
    "\n",
    "`XPath`는 XML, HTML 문서 등의 요소의 위치를 경로로 표현하는 것을 의미합니다.  \n",
    "마치 `데스크탑/폴더1/폴더2/음악.mp3`와 같이 말이죠!\n",
    "\n",
    "이를 적용해서 데이터를 온전히 가져와봅시다.\n",
    "사이트에서, 검사 -> 우클릭 -> copy -> Xpath로 복사하기\n",
    "\n",
    "Hint: 저희가 원하는 요소의 XPath는 `//*[@id=\"__next\"]/div/main/div[2]/div/div[4]/div[1]/div[1]/div/a/div[2]/p[1]` 입니다."
   ]
  },
  {
   "cell_type": "code",
   "execution_count": 22,
   "id": "aa955e15",
   "metadata": {},
   "outputs": [
    {
     "data": {
      "text/plain": [
       "'Sign up'"
      ]
     },
     "execution_count": 22,
     "metadata": {},
     "output_type": "execute_result"
    }
   ],
   "source": [
    "# 예시 사이트에 요청을 진행하고, 예시 사이트의 첫 번째 이벤트의 제목을 가져와봅시다.\n",
    "\n",
    "driver = webdriver.Chrome(service=Service(ChromeDriverManager().install()))\n",
    "# 비동기 처리를 하기 때문에 모든 요소가 채워진 웹사이트가 뜨는데 시간이 걸림 \n",
    "driver.get(\"https://indistreet.com/live?sortOption=startDate%3AASC\")\n",
    "# Xpah 를 통해 요소 가져오기\n",
    "driver.find_element(By.XPATH, '//*[@id=\"__next\"]/div/main/div[2]/div/div[4]/div[1]/div[1]/div/a/div[2]/p[1]').text"
   ]
  },
  {
   "cell_type": "markdown",
   "id": "206fceda",
   "metadata": {},
   "source": [
    "오류가 발생합니다! 왜 그럴까요?\n",
    "\n",
    "이 웹 페이지는 **동적 웹페이지**이기 때문에 그렇습니다.\n",
    "이 페이지를 성공적으로 스크래핑하기 위해서는 `Wait`을 사용해야합니다.\n",
    "\n",
    "2가지 Wait 방법을 활용해서 주어진 내용을 스크래핑 해봅시다."
   ]
  },
  {
   "cell_type": "markdown",
   "id": "c33fc983",
   "metadata": {},
   "source": [
    "### Implicit Wait\n",
    "\n",
    "`.implicitly_wait()`을 활용해서 암시적 기다림을 적용할 수 있습니다.  \n",
    "\n",
    "주의하실 점으론, 반드시 해당 시간을 기다리는 것이 아니라, 로딩이 다 될때까지의 한계 시간의 의미를 가집니다."
   ]
  },
  {
   "cell_type": "code",
   "execution_count": 23,
   "id": "6128c4b6",
   "metadata": {},
   "outputs": [
    {
     "name": "stdout",
     "output_type": "stream",
     "text": [
      "Sign up\n"
     ]
    }
   ],
   "source": [
    "# 10초동안 Implicit Wait을 진행하도록 해서 스크래핑이 잘 이루어지도록 수정해봅시다.\n",
    "\n",
    "from selenium.webdriver.support.ui import WebDriverWait\n",
    "\n",
    "with webdriver.Chrome(service=Service(ChromeDriverManager().install())) as driver:\n",
    "    driver.get(\"https://indistreet.com/live?sortOption=startDate%3AASC\")\n",
    "    \n",
    "    # TODO: implicit wait을 추가해봅시다.\n",
    "    driver.implicitly_wait(10)\n",
    "    \n",
    "    print(driver.find_element(By.XPATH, '//*[@id=\"__next\"]/div/main/div[2]/div/div[4]/div[1]/div[1]/div/a/div[2]/p[1]').text)"
   ]
  },
  {
   "cell_type": "markdown",
   "id": "4bca3219",
   "metadata": {},
   "source": [
    "### Explicit Wait\n",
    "`WebDriverWait()`과 두 메서드를 활용해서 명시적 기다림을 적용할 수 있습니다.\n",
    "\n",
    "`until()`: 인자의 조건이 만족될 때까지  \n",
    "`until_not()` 인자의 조건이 만족되지 않을 때까지  \n",
    "\n",
    "예를 들어, id가 `target`인 요소가 존재할 때까지 기다린 후 다음 명령을 진행합니다.\n",
    "\n",
    "```python\n",
    "    element = WebDriverWait(driver, 10).until(EC.presence_of_element_located((By.ID, \"target\")))\n",
    "```\n",
    "\n",
    "이때, EC는 `expected_conditions`로, selenium에서 정의된 조건들입니다 (~가 존재하면, ...)  \n",
    "[이곳](https://www.selenium.dev/selenium/docs/api/py/webdriver_support/selenium.webdriver.support.expected_conditions.html)에서 더 자세한 정보를 확인할 수 있습니다.\n",
    "\n",
    "주어진 XPath가 등장할 때 까지 Wait을 진행해봅시다. (`EC.presence_of_element_located()` 활용)"
   ]
  },
  {
   "cell_type": "code",
   "execution_count": 25,
   "id": "99cf86fa",
   "metadata": {},
   "outputs": [
    {
     "name": "stdout",
     "output_type": "stream",
     "text": [
      "Sign up\n"
     ]
    }
   ],
   "source": [
    "from selenium.webdriver.support import expected_conditions as EC\n",
    "\n",
    "with webdriver.Chrome(service=Service(ChromeDriverManager().install())) as driver:\n",
    "    driver.get(\"https://indistreet.com/live?sortOption=startDate%3AASC\")\n",
    "    \n",
    "    # TODO: explicit wait으로 변경해봅시다.\n",
    "    element = WebDriverWait(driver, 10).until(EC.presence_of_element_located((By.XPATH,'//*[@id=\"__next\"]/div/main/div[2]/div/div[4]/div[1]/div[1]/div/a/div[2]/p[1]')))\n",
    "     \n",
    "    print(element.text)"
   ]
  },
  {
   "cell_type": "markdown",
   "id": "12c6f20a",
   "metadata": {},
   "source": [
    "### 여러 공연 제목 가져오기\n",
    "\n",
    "여러 공연의 제목들을 가져오기 위해 XPath를 관찰해봅시다.  \n",
    "이 페이지의 공연 제목들에 해당하는 XPath는 다음과 같습니다:\n",
    "\n",
    "```\n",
    "//*[@id=\"__next\"]/div/main/div[2]/div/div[4]/div[1]/div[1]/div/a/div[2]/p[1]\n",
    "//*[@id=\"__next\"]/div/main/div[2]/div/div[4]/div[1]/div[2]/div/a/div[2]/p[1]\n",
    "//*[@id=\"__next\"]/div/main/div[2]/div/div[4]/div[1]/div[3]/div/a/div[2]/p[1]\n",
    "...\n",
    "```\n",
    "\n",
    "이를 일반화해서 가장 먼저 등장하는 **10개**의 이름을 추출하는 코드를 작성해봅시다."
   ]
  },
  {
   "cell_type": "code",
   "execution_count": 35,
   "id": "cabb33c3",
   "metadata": {},
   "outputs": [
    {
     "name": "stdout",
     "output_type": "stream",
     "text": [
      "Sign up\n",
      "이디어츠 1st EP 발매기념 공연\n",
      "도라페스트 4탄\n",
      "NO PASARAN! Vol.1\n",
      "LIVE in NOV 2019\n",
      "LIVE in DEC 2019\n",
      "오롯한 라이브와 함께\n",
      "LIVE in FEB\n",
      "2020 PUNK Marathon\n",
      "THE LIGHTS\n"
     ]
    }
   ],
   "source": [
    "# 10개의 이름을 스크래핑하는 코드 작성 (by. implicitly_wait)\n",
    "\n",
    "with webdriver.Chrome(service=Service(ChromeDriverManager().install())) as driver:\n",
    "    driver.get(\"https://indistreet.com/live?sortOption=startDate%3AASC\")\n",
    "    \n",
    "    # TODO: 10개의 이름을 추출하는 코드를 작성해봅시다.\n",
    "    driver.implicitly_wait(10)\n",
    "\n",
    "    for i in range(1, 11): # 1~10\n",
    "        element = driver.find_element(By.XPATH, '//*[@id=\"__next\"]/div/main/div[2]/div/div[4]/div[1]/div[{}]/div/a/div[2]/p[1]'.format(i))\n",
    "        print(element.text)"
   ]
  },
  {
   "cell_type": "code",
   "execution_count": 38,
   "id": "500b42b0",
   "metadata": {},
   "outputs": [
    {
     "name": "stdout",
     "output_type": "stream",
     "text": [
      "Sign up\n",
      "이디어츠 1st EP 발매기념 공연\n",
      "도라페스트 4탄\n",
      "NO PASARAN! Vol.1\n",
      "LIVE in NOV 2019\n",
      "LIVE in DEC 2019\n",
      "오롯한 라이브와 함께\n",
      "LIVE in FEB\n",
      "2020 PUNK Marathon\n",
      "THE LIGHTS\n"
     ]
    }
   ],
   "source": [
    "# 10개의 이름을 스크래핑하는 코드 작성 (by. explicit_wait)\n",
    "\n",
    "from selenium.webdriver.support import expected_conditions as EC\n",
    "with webdriver.Chrome(service=Service(ChromeDriverManager().install())) as driver:\n",
    "    driver.get(\"http://indistreet.com/live?sortOption=startDate%3AASC\")\n",
    "    \n",
    "    \n",
    "    for i in range(1,11):\n",
    "        element= WebDriverWait(driver,10).until(EC.presence_of_element_located((By.XPATH, '//*[@id=\"__next\"]/div/main/div[2]/div/div[4]/div[1]/div[{}]/div/a/div[2]/p[1]'.format(i))))\n",
    "        print(element.text)"
   ]
  },
  {
   "cell_type": "markdown",
   "id": "6494c8eb",
   "metadata": {},
   "source": [
    "----\n",
    "## 마우스 이벤트 처리하기\n",
    "\n",
    "- Selenium을 이용해서 마우스 Event를 동작해봅시다."
   ]
  },
  {
   "cell_type": "markdown",
   "id": "7488a2ff",
   "metadata": {},
   "source": [
    "### Target: \"로그인\" 창 접속하기\n",
    "\n",
    "*이번 실습과 다음 실습에 걸쳐 로그인 과정을 자동화하는 것을 목표로 합니다.*\n",
    "\n",
    "다음 사이트에 로그인하기 위해 \"로그인\" 버튼을 눌러봅시다 : https://hashcode.co.kr/"
   ]
  },
  {
   "cell_type": "markdown",
   "id": "87719374",
   "metadata": {},
   "source": [
    "### Mouse Event\n",
    "\n",
    "웹 페이지에서 일어나는 일들을 Event라고 합니다.\n",
    "\n",
    "마우스로 일어날 수 있는 대표적인 이벤트는 다음과 같습니다.\n",
    "\n",
    "- 마우스 움직이기(move)\n",
    "- 마우스 누르기(press down)\n",
    "- 마우스 떼기(press up)\n",
    "- ..."
   ]
  },
  {
   "cell_type": "markdown",
   "id": "cadddccc",
   "metadata": {},
   "source": [
    "\n",
    "저희는 버튼을 찾은 후 이를 클릭하는 것을 목표로 합니다.  \n",
    "마우스 입력은 크게 다음과 같은 과정을 거칩니다.\n",
    "\n",
    "1. 입력하고자 하는 대상 요소를 찾습니다. (`find_element()` 이용)\n",
    "2. 입력하고자 하는 내용을 `click`을 통해 전달합니다.\n",
    "3. `.perform()`을 통해 동작합니다.\n",
    "\n",
    "아래 예시는 `id`가 button인 요소를 클릭하는 예제입니다.\n",
    "```python\n",
    "    button = driver.find_element(By.ID, \"button\")\n",
    "    ActionChains(driver).click(button).perform()\n",
    "```"
   ]
  },
  {
   "cell_type": "code",
   "execution_count": 39,
   "id": "232dcc9a",
   "metadata": {},
   "outputs": [],
   "source": [
    "# 스크래핑에 필요한 라이브러리를 불러와봅시다.\n",
    "\n",
    "from selenium import webdriver\n",
    "from selenium.webdriver import ActionChains\n",
    "from selenium.webdriver.chrome.service import Service\n",
    "from selenium.webdriver.common.by import By\n",
    "from webdriver_manager.chrome import ChromeDriverManager"
   ]
  },
  {
   "cell_type": "code",
   "execution_count": 42,
   "id": "04991a79",
   "metadata": {},
   "outputs": [],
   "source": [
    "# 주어진 웹사이트를 누른 후, 우리가 원하는 버튼 요소를 찾은 후 마우스 이벤트를 실행시켜봅시다.\n",
    "\n",
    "driver = webdriver.Chrome(service=Service(ChromeDriverManager().install()))\n",
    "driver.get(\"https://hashcode.co.kr/\")\n",
    "driver.implicitly_wait(0.5)\n",
    "\n",
    "button = driver.find_element(By.CLASS_NAME, \"nav-link.nav-signin\")\n",
    "ActionChains(driver).click(button).perform()"
   ]
  },
  {
   "cell_type": "markdown",
   "id": "4ff22af3",
   "metadata": {},
   "source": [
    "성공적으로 로그인 창에 진입했나요?  \n",
    "이제 다음 실습에서 키보드 입력을 진행하는 방법에 대해서 학습해봅시다.\n",
    "\n",
    "Tip: 이 외에도 사용할 수 있는 마우스 이벤트들이 많습니다. 다음 [링크](https://www.selenium.dev/documentation/webdriver/actions_api/mouse/)를 통해 확인하실 수 있어요!"
   ]
  },
  {
   "cell_type": "markdown",
   "id": "055aadde",
   "metadata": {},
   "source": [
    "----\n",
    "## 키보드 이벤트 처리하기\n",
    "\n",
    "- Selenium을 이용해서 키보드 Event를 동작해봅시다."
   ]
  },
  {
   "cell_type": "markdown",
   "id": "c13a617f",
   "metadata": {},
   "source": [
    "### Keyboard Event\n",
    "\n",
    "웹 페이지에서 일어나는 일들을 Event라고 합니다.\n",
    "\n",
    "키보드로 일어날 수 있는 대표적인 이벤트는 다음과 같습니다.\n",
    "\n",
    "- 키보드 누르기(press down)\n",
    "- 키보드 떼기(press up)\n",
    "- ..."
   ]
  },
  {
   "cell_type": "markdown",
   "id": "9413348a",
   "metadata": {},
   "source": [
    "저희는 입력창(`input` 태그의 form)에 키보드 입력을 진행하는 것을 목표로 합니다.  \n",
    "키보드 입력은 크게 다음과 같은 과정을 거칩니다.\n",
    "\n",
    "1. 입력하고자 하는 대상 요소를 찾습니다. (`find_element()` 이용)\n",
    "2. 입력하고자 하는 내용을 `send_keys_to_element`를 통해 전달합니다.\n",
    "3. `.perform()`을 통해 동작합니다.\n",
    "\n",
    "아래 예시는 `id`가 textInput인 요소에 \"abc\"를 입력하는 예제입니다.\n",
    "```python\n",
    "    text_input = driver.find_element(By.ID, \"textInput\")\n",
    "    ActionChains(driver).send_keys_to_element(text_input, \"abc\").perform()\n",
    "```"
   ]
  },
  {
   "cell_type": "markdown",
   "id": "0c6e9382",
   "metadata": {},
   "source": [
    "### Target: 해시코드 로그인하기\n",
    "\n",
    "다음 사이트에 Selenium을 이용해서 로그인을 진행해봅시다 : https://hashcode.co.kr "
   ]
  },
  {
   "cell_type": "code",
   "execution_count": null,
   "id": "ada8e8d2",
   "metadata": {},
   "outputs": [],
   "source": [
    "# 스크래핑에 필요한 라이브러리를 불러와봅시다.\n",
    "\n",
    "from selenium import webdriver\n",
    "from selenium.webdriver import ActionChains\n",
    "from webdriver_manager.chrome import ChromeDriverManager\n",
    "from selenium.webdriver.common.actions.action_builder import ActionBuilder\n",
    "from selenium.webdriver import Keys, ActionChains\n",
    "from selenium.webdriver.chrome.service import Service\n",
    "from selenium.webdriver.common.by import By"
   ]
  },
  {
   "cell_type": "markdown",
   "id": "90f3082f",
   "metadata": {},
   "source": [
    "지난 실습에서 다룬 마우스 실습을 통해 로그인 창에 접속하는 것에 성공했는데요,  \n",
    "여기에 이제 키보드 입력을 넣어서 로그인을 완료해봅시다."
   ]
  },
  {
   "cell_type": "code",
   "execution_count": 47,
   "id": "e75677d7",
   "metadata": {},
   "outputs": [],
   "source": [
    "# driver를 이용해 해당 사이트에 요청을 보내봅시다.\n",
    "driver = webdriver.Chrome(service=Service(ChromeDriverManager().install()))\n",
    "driver.get(\"https://hashcode.co.kr/\")\n",
    "driver.implicitly_wait(0.5)\n",
    "\n",
    "# 내비게이션 바에서 \"로그인\" 버튼을 찾아 눌러봅시다.\n",
    "button = driver.find_element(By.CLASS_NAME, \"nav-link.nav-signin\")\n",
    "ActionChains(driver).click(button).perform()\n",
    "\n",
    "# \"아이디\" input 요소에 여러분의 아이디를 입력합니다.\n",
    "id_input = driver.find_element(By.XPATH, '//*[@id=\"main-app-account\"]/div/div[2]/div/div[2]/div[1]/div/div[2]/div[2]/input') \n",
    "ActionChains(driver).send_keys_to_element(id_input, \"imessi0336@gmail.com\").perform()\n",
    "\n",
    "# \"패스워드\" input 요소에 여러분의 비밀번호를 입력합니다.\n",
    "password_input = driver.find_element(By.XPATH, '//*[@id=\"main-app-account\"]/div/div[2]/div/div[2]/div[1]/div/div[2]/div[4]/input') \n",
    "ActionChains(driver).send_keys_to_element(password_input, \"jsjh73218!\").perform()\n",
    "\n",
    "\n",
    "# \"로그인\" 버튼을 눌러서 로그인을 완료합니다.\n",
    "button = driver.find_element(By.XPATH, '//*[@id=\"main-app-account\"]/div/div[2]/div/div[2]/div[1]/div/div[2]/button')\n",
    "ActionChains(driver).click(button).perform()"
   ]
  },
  {
   "cell_type": "markdown",
   "id": "a226c1f5",
   "metadata": {},
   "source": [
    "이렇게 저희가 로그인을 손 대지 않고 진행하는 실습을 진행해보았습니다.  \n",
    "이를 바탕으로 로그인이 필요한 정보를 스크래핑할 수 있겠죠? :)"
   ]
  },
  {
   "cell_type": "markdown",
   "id": "7c15b0b3",
   "metadata": {},
   "source": [
    "Tip: 이 외에도 사용할 수 있는 키보드 이벤트들 역시 많습니다. 다음 [링크](https://www.selenium.dev/documentation/webdriver/actions_api/keyboard/)를 통해 확인하실 수 있어요!"
   ]
  }
 ],
 "metadata": {
  "interpreter": {
   "hash": "b0fa6594d8f4cbf19f97940f81e996739fb7646882a419484c72d19e05852a7e"
  },
  "kernelspec": {
   "display_name": "Python 3.9.13 64-bit",
   "language": "python",
   "name": "python3"
  },
  "language_info": {
   "codemirror_mode": {
    "name": "ipython",
    "version": 3
   },
   "file_extension": ".py",
   "mimetype": "text/x-python",
   "name": "python",
   "nbconvert_exporter": "python",
   "pygments_lexer": "ipython3",
   "version": "3.9.13"
  }
 },
 "nbformat": 4,
 "nbformat_minor": 5
}

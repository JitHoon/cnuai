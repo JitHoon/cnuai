{
 "cells": [
  {
   "cell_type": "markdown",
   "metadata": {},
   "source": [
    "# 4. DNN (깊은 신경망), Deep Learning (심층학습)\n",
    "- `다층 퍼셉트론에 은닉층`을 여러 개 `추가`하면 `깊은 신경`망이 됨\n",
    "- 은닉층이 4개 이상이면 깊은 다층 퍼셉트론 = 깊은 신경망 이라고 봄"
   ]
  },
  {
   "cell_type": "markdown",
   "metadata": {},
   "source": [
    "## 4-1) 현대 기계학습 특징\n",
    "#### `representation learning` (`표현 학습`)\n",
    "- 가공하지 않은 데이터라도 자동적으로 데이터로부터 특징을 추출할 수 있음\n",
    "- `end-to end 학습` (`종단 간 학습`) 가능"
   ]
  },
  {
   "cell_type": "markdown",
   "metadata": {},
   "source": [
    "## 4-2) `CNN (Convolution neural network)` \n",
    ": 컨볼루션(합성곱) 신경망\n",
    "\n",
    "#### `CONV (컨볼루션층)`\n",
    "- `선형함수인 컨볼루션`과 비선형 함수인 활성함수(ReLU)의 조합\n",
    "- 컨볼루션층을 잘 조합하여 CNN의 전체 구조를 구현"
   ]
  },
  {
   "cell_type": "markdown",
   "metadata": {},
   "source": [
    "## 4-3) `DMLP와 CNN의 비교`\n",
    "\n",
    "![DMNN](./pic/DMNN.png) \n",
    "\n",
    "#### `DMLP`\n",
    "- 완전 연결 구조로 높은 복잡도를 가짐\n",
    "- 학습이 매우 느리고 과잉적합 우려\n",
    "\n",
    "#### `CNN`\n",
    "- 희소한 부분에서 데이터를 추출하고 연산하는 `컨볼루션 연산`과 `가중치 공유`를 이용한 `부분연결 (희소 연결)`을 통해 구조의 복잡도를 낮춤\n",
    "- `필드(커널)를 옮겨가면서 컨볼루션 연산을 진행하고 각 커널에 대응되는 특증을 추출한다.`\n",
    "- `특징맵` : 각 층의 입출력의 특징형상 유지\n",
    "- `POOL 층` : `추출된 특징을 요약`하고 강화\n",
    "- `병렬 구조` : 각 노드는 독립적으로 계산 가능\n",
    "- `분산 구조` : 깊은 층을 거치면서 전체에 영향을 미침\n",
    "- 격자 구조 (영상, 음성 등)를 갖는 데이터에 적합\n",
    "- receptive field (수용장) 가 인간 시각과 유사\n",
    "- `가변 크기`의 데이터를 다룰 수 있다."
   ]
  },
  {
   "cell_type": "markdown",
   "metadata": {},
   "source": [
    "## 4-3) `convolution 컨볼루션 (합성곱) 연산`\n",
    "\n",
    " - 전체 대 전체를 연산하는 내적과 다른 `전체 대 부분을 연산하는 선형 연산`\n",
    "\n",
    "- 디지털신호처리!\n",
    "\n",
    "![convolution](./pic/convolution.png)\n",
    "\n",
    "- 아래와같이 컨볼루션 연산 후 원래 입력 차원보다 줄어들기 때문에 `padding`을 사용하여 차원을 보존시킴\n",
    "\n",
    "- 주로 zero padding을 사용\n",
    "\n",
    "![convolution2](./pic/convolution2.png)\n",
    "![convolution3](./pic/convolution3.png)\n",
    "\n",
    "- `filter = 관점 = 학습을 통해 결정되는 weight sharing`\n",
    "\n",
    "- filter에 bias값을 추가시키기도 함\n",
    "\n",
    "- 한 데이터에 다양한 filter를 적용시키는 것을 `다중 특징 맵 추출`이라고 한다.\n",
    "\n",
    "![buildingblock](./pic/buildingblock.png) "
   ]
  }
 ],
 "metadata": {
  "language_info": {
   "name": "python"
  },
  "orig_nbformat": 4
 },
 "nbformat": 4,
 "nbformat_minor": 2
}

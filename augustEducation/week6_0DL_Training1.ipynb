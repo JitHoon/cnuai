{
 "cells": [
  {
   "cell_type": "markdown",
   "metadata": {},
   "source": [
    "# 0. Deep Learning HW\n",
    "- CPU, GPU, TPU"
   ]
  },
  {
   "cell_type": "markdown",
   "metadata": {},
   "source": [
    "## 1-1) `CPU` vs `GPU`\n",
    "- `CPU` : core 수가 적지만 core 연산이 빠르다.연속적인 task에 유리.\n",
    "- `GPU` : core 수가 많지만 core 연산이 느리다. 병렬적인 task에 유리.\n",
    "\n",
    "## 1-2) Programming GPUs (`GPGPU 기술`)\n",
    "- `CUDA` : 그래픽 처리 장치(GPU)에서 수행하는 (병렬 처리) 알고리즘을 C 프로그래밍 언어를 비롯한 산업 표준 언어를 사용하여 작성할 수 있도록 하는 GPGPU 기술.\n",
    "- `openCL` : OpenCL은 개방형 범용 병렬 컴퓨팅 프레임워크."
   ]
  },
  {
   "cell_type": "markdown",
   "metadata": {},
   "source": [
    "- cf. `GPGPU 기술`은 일반적으로 컴퓨터 그래픽스를 위한 계산만 맡았던 `그래픽 처리 장치`를, 전통적으로 중앙 처리 장치가 맡았던 `응용 프로그램들의 계산에 사용하는 기술`"
   ]
  },
  {
   "cell_type": "markdown",
   "metadata": {},
   "source": [
    "![GPU_CPU_network](./pic/GPU_CPU_network.png)\n",
    "- GPU, CPU 통신 과정에서 `bottleneck` (전체 시스템의 성능이나 용량이 하나의 구성 요소로 인해 제한을 받는 현상을 말한다) 현상이 발생할 수 있음\n",
    "- solution은 그림 설명 참고"
   ]
  },
  {
   "cell_type": "markdown",
   "metadata": {},
   "source": [
    "----\n",
    "# 2. Deep Learning SW\n",
    "- `PyTorch` and `TensorFlow`\n",
    "- Static, Dynamic computation graphs"
   ]
  },
  {
   "cell_type": "markdown",
   "metadata": {},
   "source": [
    "#### cf. DL Framework의 point\n",
    "- 빠르게 test new ideas\n",
    "- 그레디언트 자동 연산\n",
    "- 빠른 GPU 연산을 돕는다"
   ]
  },
  {
   "cell_type": "markdown",
   "metadata": {},
   "source": [
    "![numpy_vs_pytorch](./pic/numpy_vs_pytorch.png)\n",
    "- Pytorch : GPU 지정 가능, 쉽게 그레디언트 연산 가능"
   ]
  }
 ],
 "metadata": {
  "language_info": {
   "name": "python"
  },
  "orig_nbformat": 4
 },
 "nbformat": 4,
 "nbformat_minor": 2
}

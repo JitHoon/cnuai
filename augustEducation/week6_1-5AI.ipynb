{
 "cells": [
  {
   "cell_type": "markdown",
   "metadata": {},
   "source": [
    "# 5. 심층학습 최적화"
   ]
  },
  {
   "cell_type": "markdown",
   "metadata": {},
   "source": [
    "## 5-1. 평균제곱 오차 (MSE) 목적함수 (loss function)\n",
    "$ e = 1/2 |y-o|^2 $\n",
    "- 오차가 클수록 e값이 크므로 벌점으로 활용\n",
    "\n",
    "- 하지만 큰 `허점`이 존재함 : 학습은 오류를 줄이는 방향으로 가중치와 편향을 교정하지만 MSE 사용후 back propagation을 적용하면 `오류가 커도 경사도(=벌점)가 작게 계산되어 작게 계산되는 경우가 발생`한다."
   ]
  },
  {
   "cell_type": "markdown",
   "metadata": {},
   "source": [
    "![mse](./pic/mse.png)"
   ]
  },
  {
   "cell_type": "markdown",
   "metadata": {},
   "source": [
    "#### 이에따라 목적함수를 MSE에서 `cross entropy (교차 엔트로피)`로 바꾸어 사용"
   ]
  },
  {
   "cell_type": "markdown",
   "metadata": {},
   "source": [
    "## 5-2. `Cross entropy`\n",
    "\n",
    "- P는 정답, Q는 신경망 (예측) 출력일 때, P의 출력은 0 혹은 1, Q의 출력은 binary property의 확장으로 o 혹은 1-o로 보고 `P, Q의 서로 다른 RV간의 상관 관계(불확실성)를 교차 엔트로피를 통해 확인.`"
   ]
  },
  {
   "cell_type": "markdown",
   "metadata": {},
   "source": [
    "![crosse](./pic/crosse.png)\n",
    "\n",
    "- cross entropy를 통해 오차가 클수록 벌칙도 더 크게 줄 수 있게됨\n",
    "\n",
    "![crosse1](./pic/crosse1.png)\n",
    "\n",
    "- c개의 출력노드로 확장"
   ]
  },
  {
   "cell_type": "markdown",
   "metadata": {},
   "source": [
    "- cross entropy 를 사용했을 때의 `output gradient * local gradient`\n",
    "\n",
    "![cross](./pic/cross.png)\n",
    "\n",
    "- MSE vs cross entropy \n",
    "\n",
    "![vsmse](./pic/vsmse.png)\n",
    "![vscross](./pic/vscross.png)"
   ]
  },
  {
   "cell_type": "markdown",
   "metadata": {},
   "source": [
    "## 5-3. `softmax 함수`\n",
    "- `출력 노드의 중간 계산 결과의 최댓값을 더욱 활성화하고 작은 값들은 억제`하는 함수 (모두 더하면 1이 되는 확룰 모방)"
   ]
  },
  {
   "cell_type": "markdown",
   "metadata": {},
   "source": [
    "![softmax](./pic/softmax.png)"
   ]
  },
  {
   "cell_type": "markdown",
   "metadata": {},
   "source": [
    "#### `cross entropy + softmax 목적함수 연산 과정`\n",
    "![cs](./pic/cs.png)"
   ]
  },
  {
   "cell_type": "markdown",
   "metadata": {},
   "source": [
    "`softmax + 로그우도` 목적함수\n",
    "\n",
    "- `예측값이 틀린` 경우 : `softmax 후 결과값이 정답인 예측값보다 작기 때문에 로그우도 식에 대입했을 때 목적함수(로스, 벌칙)의 크기가 큰 값으로 출력이된다.` 따라서 softmax와 로그우도는 자주 함께 쓰인다."
   ]
  },
  {
   "cell_type": "markdown",
   "metadata": {},
   "source": [
    "![solo](./pic/solo.png)"
   ]
  },
  {
   "cell_type": "markdown",
   "metadata": {},
   "source": [
    "## 5-4. `데이터 전처리` (현재 의존성은 떨어짐)\n",
    "#### 5-4-1) 데이터 값의 `scale` 문제\n",
    "\n",
    "ex) 사람의 특징 중 m 단위의 키와 kg 단위의 몸무게를 동시에 학습시킬 때 `몸무게 값의 scale이 더 커서` 몸무게의 학습이 더 빨리되어 `학습의 불균형이 발생`하고 `전체적인 학습이 느려지는 문제` 발생\n",
    "\n",
    "#### 5-4-2) 데이터 값이 `모두 양수 혹은 음수일 때` 문제\n",
    "\n",
    "부호가 모두 같을 때 학습의 방향이 극단으로가서 학습의 속도가 느려짐 따라서 데이터값이 양수이든 음수이든 모두를 포괄할 수 있는 전처리가 필요함\n",
    "\n",
    "#### 5-4-3) `정규화 (normalization)`으로 규모 문제와 양수 문제를 해결\n",
    "\n",
    "방법 1. `정규 분포` 사용 (데이터를 평균 0, 표준편차 1로 변환)\n",
    "\n",
    "방법 2. `최대 최소 변환율` 적용\n",
    "\n",
    "방법 3. `norminal value (명목 변수)를 one hot 코드로 변환`\n",
    "\n",
    "`명목 변수` : 객체간 서로 구분하기 위한 변수"
   ]
  },
  {
   "cell_type": "markdown",
   "metadata": {},
   "source": [
    "## 5-5. `가중치 초기화`\n",
    "#### 5-5-1) `대칭적 가중치` 문제\n",
    "`동일한 가중치를 중복적으로 학습`하는 대칭적 가중치 발생하면 서로 다른 관점에서 학습하려고 만든 `은닉층들의 의미가 없어짐`\n",
    "\n",
    "이는 `경험적으로 만들어진 난수`로 가중치를 초기화한다. (현재로는 많이 사용되지 않음)\n",
    "\n",
    "![rd](./pic/rd.png)"
   ]
  },
  {
   "cell_type": "markdown",
   "metadata": {},
   "source": [
    "## 5-6. `탄력 (가속도, 관성)` (탐색 과정 개선)\n",
    "\n",
    "- 기계 학습은 훈련집합을 이용하여 `매개변수의 경사도를 추정하므로 잡음 가능성 높음`\n",
    "\n",
    "- `탄력 (가속도 관성, momentum)`은 경사도에 부드러움을 가하여 `잡음 효과 줄임` (과거 이동했던 방식을 기억하면서 기존 방향으로 일정 이상 추가 이동\n",
    "\n",
    "- 이를 통해 `수렴 속도 향상` (`안장점에 빠지는 문제 해소`)), `overshooting 현상 누그러뜨림`\n",
    "\n",
    "- ex) 네스테로프 가속 경사도 관성"
   ]
  },
  {
   "cell_type": "markdown",
   "metadata": {},
   "source": [
    "## 5-7. `적응적 학습률`\n",
    "![lr](./pic/lr.png)"
   ]
  },
  {
   "cell_type": "markdown",
   "metadata": {},
   "source": [
    "#### `경사도 * 학습률`\n",
    "- 매개변수마다 자신의 상황에 따라 학습률을 조절해 사용"
   ]
  },
  {
   "cell_type": "markdown",
   "metadata": {},
   "source": [
    "## 5-8. `활성함수`\n",
    "![](./pic/.png)"
   ]
  },
  {
   "cell_type": "markdown",
   "metadata": {},
   "source": [
    "## 5-9. `배치 정규화`"
   ]
  },
  {
   "cell_type": "markdown",
   "metadata": {},
   "source": [
    "![](./pic/.png)"
   ]
  }
 ],
 "metadata": {
  "language_info": {
   "name": "python"
  },
  "orig_nbformat": 4
 },
 "nbformat": 4,
 "nbformat_minor": 2
}

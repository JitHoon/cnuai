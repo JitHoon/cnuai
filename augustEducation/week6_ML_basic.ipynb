{
 "cells": [
  {
   "cell_type": "markdown",
   "metadata": {},
   "source": [
    "# Machine Learning Basic"
   ]
  },
  {
   "cell_type": "markdown",
   "metadata": {},
   "source": [
    "![ML](./pic/ML.png)"
   ]
  },
  {
   "cell_type": "markdown",
   "metadata": {},
   "source": [
    "#### `핵심 개념들`\n",
    "1. `학습단계 (training or learning phase)` : 함수 y(x)를 학습데이터에 기반해 결정하는 단계\n",
    "\n",
    "2. `시험셋 (test set)`: 모델을 평가하기 위해서 사용하는 새로운 데이터\n",
    "\n",
    "3. `일반화 (generalization)` : 모델에서 학습에 사용된 데이터가 아닌 이전에 접하지 못한 새로운 데이터에 대해 올바른 예측을 수행하는 역량\n",
    "\n",
    "4. `지도학습 (supervised learning)` : target이 주어진 경우\n",
    "- 분류 (classification) : 값이 0, 1\n",
    "- 회귀 (regression) : 값이 실수값\n",
    "\n",
    "5. `비지도학습 (unsupervised learning)` : target이 없는 경우 (데이터들만 있는 경우)\n",
    "- 군집 (clustering) : 비슷한 데이터들끼리 모아놓고 분석\n"
   ]
  },
  {
   "cell_type": "markdown",
   "metadata": {},
   "source": [
    "#### `문제 예시 : 다항식 곡선 근사 polynomial_curve_fitting`"
   ]
  },
  {
   "cell_type": "markdown",
   "metadata": {},
   "source": [
    "- 문제 목표\n",
    "![polynomial_curve_fitting](./pic/polynomial_curve_fitting.png)"
   ]
  },
  {
   "cell_type": "markdown",
   "metadata": {},
   "source": [
    "- `polynomial_function` : 매개변수 w를 찾아야함\n",
    "![polynomial_function](./pic/polynomial_function.png)\n",
    "\n",
    "- `x는 데이터에서 주어지는 값`\n",
    "- `w는 고정되어있는 찾아야하는 파라미터`\n",
    "- `M+1은 모델 파라마터의 수`"
   ]
  },
  {
   "cell_type": "markdown",
   "metadata": {},
   "source": [
    "- `오차 함수` : 오차를 확인하여 수정해야함\n",
    "![error_function](./pic/error_function.png)"
   ]
  },
  {
   "cell_type": "markdown",
   "metadata": {},
   "source": [
    "- 파라미터 수 M 이 같을 때 데이터 수(N)가 많을수록 학습능력이 좋다.\n",
    "![M](./pic/M.png)"
   ]
  },
  {
   "cell_type": "markdown",
   "metadata": {},
   "source": [
    "- 파라미터 수가 많아질수록 정확한 모델 학습을 위해 계수값이 커지는 경향이 있는데 이를 `규제화 (Regulation)`를 통해 잡을 수 있다.\n",
    "![bigM](./pic/bigM.png)"
   ]
  },
  {
   "cell_type": "markdown",
   "metadata": {},
   "source": [
    "![requlary](./pic/requlary.png)\n",
    "\n",
    "- `람다 값이 작을 수록 w 절댓값이 작아지므로 규제를 많이한 것이다.` (0 ~ -값)\n"
   ]
  },
  {
   "cell_type": "markdown",
   "metadata": {},
   "source": []
  }
 ],
 "metadata": {
  "language_info": {
   "name": "python"
  },
  "orig_nbformat": 4
 },
 "nbformat": 4,
 "nbformat_minor": 2
}

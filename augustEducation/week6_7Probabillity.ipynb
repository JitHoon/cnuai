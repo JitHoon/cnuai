{
 "cells": [
  {
   "cell_type": "markdown",
   "metadata": {},
   "source": [
    "# 확률 이론"
   ]
  },
  {
   "cell_type": "markdown",
   "metadata": {},
   "source": [
    "### 1. `확률 변수 (Random Variables)`\n",
    "`확률 변수 X`는 `표본 집합 S`의 `원소 e`를 실수 값 $ X(e) = x $ 에 대응시키는 `함수`이다.\n",
    "- 확률 변수는 `함수`로 정의되어있다.\n",
    "\n",
    "- ex) 동전 set $ S = {H, T} $ 일 때 $ X(H) = 0 ,  H(T) = 1 $ 로 표현 가능하다.\n",
    "\n",
    "`대문자` X, Y … : `확률 변수`\n",
    "\n",
    "`소문자` x, y … : 확률 변수가 가질 수 있는 `값`\n",
    "\n",
    "`확률 P`는 `집합 S`의 부분집합을 실수값에 대응시키는 함수이다."
   ]
  },
  {
   "cell_type": "markdown",
   "metadata": {},
   "source": [
    "![P_X_x](./pic/P_X_x.png)\n",
    "- X는 H 개수를 세는 함수 (확률 변수)"
   ]
  },
  {
   "cell_type": "markdown",
   "metadata": {},
   "source": [
    "### 2. `연속 확률 변수 (Continuous Random Variables)`"
   ]
  },
  {
   "cell_type": "markdown",
   "metadata": {},
   "source": [
    "![cdf_pdf](./pic/cdf_pdf.png)"
   ]
  },
  {
   "cell_type": "markdown",
   "metadata": {},
   "source": [
    "- 누적 분포 함수 `CDF` : $ F(x) $\n",
    "\n",
    "- 확률 밀도 함수 `pdf` : $ f(x) $ = $ p(x) $\n",
    "\n",
    "- 연속 확률 변수 : $ X $\n",
    "\n",
    "- 확률 : $ P $"
   ]
  },
  {
   "cell_type": "markdown",
   "metadata": {},
   "source": [
    "### 3. `확률 변수의 성질`"
   ]
  },
  {
   "cell_type": "markdown",
   "metadata": {},
   "source": [
    "![RV_property](./pic/RV_property.png)"
   ]
  },
  {
   "cell_type": "markdown",
   "metadata": {},
   "source": [
    "`posterior` : 사후 확률\n",
    "\n",
    "`likelihood` : 가능도(우도)\n",
    "\n",
    "`prior` : 사전확률\n",
    "\n",
    "`normalization` : Y와 상관없는 상수. X의 경계확률(marginal) p(X)"
   ]
  },
  {
   "cell_type": "markdown",
   "metadata": {},
   "source": [
    "### 4. `확률변수의 함수 (Function of RV)`\n",
    "확률변수 $ X $ 의 $ Y = f(X) $도 확률변수이다(함수의 함수).\n",
    "\n",
    "예를들어 확률변수 X가 주 수로 표현되어있다면 $ Y = 7X $ 로 표현할 수 있다.\n",
    "\n",
    "$ X $ 의 확률 밀도 함수를 구할 수 있다면 $ Y $ 의 확률 밀도 함수를 구할 수 있고 아래와 같다."
   ]
  },
  {
   "cell_type": "markdown",
   "metadata": {},
   "source": [
    "![y_property](./pic/y_property.png)"
   ]
  },
  {
   "cell_type": "markdown",
   "metadata": {},
   "source": [
    "k차원으로 확장하면 아래와같이 $ y = g(x) $ (벡터 형태로 표현 가능하고)로 표현 가능하고 $ y $ 가 일대일 변환일 경우 `자코비안`을 곱하여  `y의 결합 확률 밀도함수` (`joint pdf`)를 구할 수 있다."
   ]
  },
  {
   "cell_type": "markdown",
   "metadata": {},
   "source": [
    "![jaco](./pic/jaco.png)"
   ]
  },
  {
   "cell_type": "markdown",
   "metadata": {},
   "source": [
    "#### `흔히 접하는 문제`\n",
    "< 확률 변수가 어떤 CDF나 PDF를 가진다고 할 때 밀도 함수로부터 샘플들을 만들어내는 문제 >\n",
    "\n",
    "샘플링 상황을 고려해보면 연속 확률 분포에서 확률 밀도 함수 $ p(x) $ 는 확률변수 정의역내 $x$ 가 주어지면 확률값 $ p(x) $ 를 돌려주게 된다.\n",
    "\n",
    "하지만 샘플을 뽑기 위해서 필요한 것은 $ p(x) $ 가 아닌 $ x $ 이다. 다시 말해 확률 밀도 함수( $ p(x) $ ) 하나 만으로는 샘플링이 불가능하다.\n",
    "\n",
    "따라서, 샘플을 뽑기 위해서는 `output이` $ x $ `가 되는 함수를 정의`해야 한다. 이 경우에 `Inverse CDF를 활용`하는 것이다."
   ]
  },
  {
   "cell_type": "markdown",
   "metadata": {},
   "source": [
    "#### `Inverse CDF Technique`\n",
    "- 확률변수 $ X $ 가 CDF $ F_X(x) $ 를 가진다고 하자. 연속확률분포 $ U $ ~ $ UNIF(0,1) $ 의 함수로 정의되는 다음 확률변수 $ Y $ 를 생각해보자. ( $ UNIF(0,1) $ : uniform distribution을 따르는 연속확률분포 0~1까지 값이 계속 1 )"
   ]
  },
  {
   "cell_type": "markdown",
   "metadata": {},
   "source": [
    "$ Y = F_X^-1(U) \n",
    "$"
   ]
  },
  {
   "cell_type": "markdown",
   "metadata": {},
   "source": [
    "- 확률변수 U를 통해서 새로운 확률변수 Y를 정의한 다음에 Y로부터 샘플링을 할 수 있게됨"
   ]
  },
  {
   "cell_type": "markdown",
   "metadata": {},
   "source": [
    "- 확률변수 $ Y$ 는 확률변수 $ X $ 와 동일한 분포를 따르게 된다.\n",
    "\n",
    "![Inverse_CDF_Technique](./pic/Inverse_CDF_Technique.png)\n",
    "- 가장 첫 식은 CDF 정의"
   ]
  },
  {
   "cell_type": "markdown",
   "metadata": {},
   "source": [
    "`결론` : $ F(x) $ 가 주어지면 샘플링을 위해 $F^-1(x)$ 를 구하면 되는데, uniform 분포를 따르는 $U$ 로부터 샘플들을 계속 생산하여 $F^-1(u)$ 를 구하면 결국 이 값이 $x$ 의 분포를 따르게되고 그 $x$ 를 활용하여 샘플링이 가능하게 된다.  "
   ]
  },
  {
   "cell_type": "markdown",
   "metadata": {},
   "source": [
    "예제)\n",
    "\n",
    "한 점을 찍기위해 u 샘플과 세타 샘플을 뽑아야함\n",
    "\n",
    "![dot](./pic/dot.png)"
   ]
  },
  {
   "cell_type": "code",
   "execution_count": null,
   "metadata": {},
   "outputs": [],
   "source": [
    "import turtle # 그래픽 모듈\n",
    "import math\n",
    "import random\n",
    "\n",
    "wn = turtle.Screen() # 스크린 객체 생성\n",
    "turtle.tracer(8,0)\n",
    "alex = turtle.Turtle() # 객체 생성(거북이 생성)\n",
    "alex.hideturtle() # 아이콘 숨기기\n",
    "\n",
    "r=200\n",
    "\n",
    "for i in range(5000):\n",
    "    u=random.random()\n",
    "\n",
    "    d = r*(u**0.5)\n",
    "    theta = random.random()*360\n",
    "\n",
    "    x = d * math.cos(math.radians(theta))\n",
    "    y = d * math.sin(math.radians(theta))\n",
    "    \n",
    "    alex.penup()\n",
    "    alex.setposition(x,y)\n",
    "    alex.dot()\n",
    "\n",
    "turtle.update()\n",
    "wn.mainloop()"
   ]
  },
  {
   "cell_type": "markdown",
   "metadata": {},
   "source": [
    "### 5. `기댓값 (Expectation)`"
   ]
  },
  {
   "cell_type": "markdown",
   "metadata": {},
   "source": [
    "![expectation](./pic/expectation.png)"
   ]
  },
  {
   "cell_type": "markdown",
   "metadata": {},
   "source": [
    "### 6. `분산(variance), 공분산(covariance)`"
   ]
  },
  {
   "cell_type": "markdown",
   "metadata": {},
   "source": [
    "![variance](./pic/variance.png)"
   ]
  },
  {
   "cell_type": "markdown",
   "metadata": {},
   "source": [
    "### 7. `확률 해석 방법 두 가지`\n",
    "#### 7-1) `빈도주의(Frequentist)` : 반복가능한 사건들의 빈도수에 기반\n",
    "\n",
    "- `빈도주의에서의 모델 파라미터 구하기` : \n",
    "![estimator](./pic/estimator.png)\n",
    "\n",
    "- `bootsrtap` : 뽑기를 여러번 반복하여 다양한 set을 만들어서 추정자의 정확도를 높이는 방법\n",
    "\n",
    "#### 7-2) `베이지안(Bayesian)` : 불확실성을 정량적으로 표현 (반복가능하지 않은 사건)\n",
    "- 베이지안 예시 : 북극얼음이 이번 세기말까지 녹아 없어질 확률 : 우리가 이미 알고있는 정보 (얼음이 녹고있는 속도)에 근거해 확률을 정량적으로 나타내고 새로운 정보에 따라 확률을 업데이트\n",
    "\n",
    "- `베이지안에서의 모델 파라미터 구하기` : \n",
    "![find_baysian_parameter](./pic/find_baysian_parameter.png)\n",
    "- `posterior (사후확률) = likelihood (우도) x prior (사전확률)`\n",
    "\n",
    "- `likelihood` : 추출한 샘플이 가지는 확률\n",
    "\n",
    "- 베이지안의 장점 : 1. 사전확률을 모델이 포함시킬 수 있다. 2. 극단적인 확률을 피할 수 있다. (동전 던지기 세번이 모두 앞면일 때 빈도주의에서의 최대우도 (추정자)의 확률은 1임)\n"
   ]
  },
  {
   "cell_type": "markdown",
   "metadata": {},
   "source": [
    "### 8. `Gaussian Distribution (정규분포)`\n",
    "#### 8-1) `Normalization (정규화)`"
   ]
  },
  {
   "cell_type": "markdown",
   "metadata": {},
   "source": [
    "![gaussian](./pic/gaussian.png)\n",
    "\n",
    "- 평균과 분산을 알아야 가우시안 분포를 알 수 있음"
   ]
  },
  {
   "cell_type": "markdown",
   "metadata": {},
   "source": [
    "![nomalized](./pic/nomalized.png)"
   ]
  },
  {
   "cell_type": "markdown",
   "metadata": {},
   "source": [
    "#### 8-2) `Maximun Likelihood solution (최대우도해)`\n"
   ]
  },
  {
   "cell_type": "markdown",
   "metadata": {},
   "source": [
    "![MaxL](./pic/MaxL.png)\n",
    "![MaxL2](./pic/MaxL2.png)\n",
    "\n",
    "- likelihood function을 미분하여 0이되는 최댓값을 찾는다. (ln은 계산 편의상 사용)\n",
    "\n",
    "- 최대우도해의 의미 : 평균값과 분산을 데이터로부터 찾고싶은데 `N개의 샘플의 평균과 분산을 내면 함수의 평균과 분산이 될 수 있다고 봄`"
   ]
  },
  {
   "cell_type": "markdown",
   "metadata": {},
   "source": [
    "### 9. `곡선근사 문제의 확률적 관점`\n",
    "\n",
    "![view](./pic/view.png)\n",
    "\n",
    "- 곡선을 나타내는 `한 데이터 (점)가 그 위치에 있을 확률`을 `정규분포`로 나타내어 `아래 확률분포 식`으로 나태낼 수 있다.\n",
    "\n",
    "![curvefit](./pic/curvefit.png)\n",
    "\n",
    "-   `파라미터 w, 베타를 찾기위해 로그우도함수를 활용`하며 `로그우도함수가 최대`가 되기위해서 오차함수가 최소가되어야하므로 `오차함수의 최솟값`을 만드는 w와 베타를 찾아야한다.\n",
    "\n",
    "![sol](./pic/sol.png)\n",
    "\n",
    "- 여기에 더 나아가서 모델에 사전확률울 포함시켜 학습 능력을 강화한다.\n",
    "\n",
    "![prior](./pic/prior.png)\n",
    "\n"
   ]
  }
 ],
 "metadata": {
  "interpreter": {
   "hash": "b0fa6594d8f4cbf19f97940f81e996739fb7646882a419484c72d19e05852a7e"
  },
  "kernelspec": {
   "display_name": "Python 3.9.13 64-bit",
   "language": "python",
   "name": "python3"
  },
  "language_info": {
   "codemirror_mode": {
    "name": "ipython",
    "version": 3
   },
   "file_extension": ".py",
   "mimetype": "text/x-python",
   "name": "python",
   "nbconvert_exporter": "python",
   "pygments_lexer": "ipython3",
   "version": "3.9.13"
  },
  "orig_nbformat": 4
 },
 "nbformat": 4,
 "nbformat_minor": 2
}

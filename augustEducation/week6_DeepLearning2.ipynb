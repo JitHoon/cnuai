{
 "cells": [
  {
   "cell_type": "markdown",
   "metadata": {},
   "source": [
    "# 1. 기계학습과 수학\n",
    "- ![ML_concept](./pic/ML_concept.png)\n",
    "- 수학은 `목적함수`(성능 지표)를 정의하고, 목적함수의 `최저점`을 찾아주는 `최적화 이론`을 제공한다.\n",
    "- 수학은 목적함수뿐만 아니라 알고리즘, 데이터(수치적 형태, 벡터 등) 모두 사용된다."
   ]
  },
  {
   "cell_type": "markdown",
   "metadata": {},
   "source": [
    "# 2. 선형대수 (Linear Algebra)\n",
    "## 2-1) 벡터(vector)와 행렬(matrix)\n",
    "- vector = 데이터의 종류(실수, 정수 등)와 크기 표현\n",
    "- `샘플` = `특징 벡터`(`Feature Vector`)\n",
    "- matrix = 여러개의 vector를 담음 (`vector로 인해서 형성되는 공간`) (`n행` : `n번째 데이터` (3번 Iris), `n열` : `데이터의 n번째 특징` (Iris의 꽃잎의 길이))\n",
    "- 행렬을 이용하면 `방정식을 간결하게 표현` 가능\n",
    "- ex) 전치 행렬, 정방행렬, 대각행렬, 단위행렬, 대칭행렬\n",
    "- 참고 : 전치 행렬 : 연산 순서를 바꿔줘야하는 경우 식을 간단하게 표현하기 위해 사용\n",
    "- `행렬 곱셈` = `벡터의 내적 연산` : `vector로 인해서 형성되는 공간을 변환시키는 것 (4차원 -> 2차원 등 새로운 공간으로의 이동)` (교환 법칙은 성립하지 않음, 분배, 결합 법칙은 성립 (AB)C = A(BC))\n",
    "-  `벡터의 내적` (곱셈과 합의 연산) : `방향`의 `유사도(similarity)`를 확인하는 연산 (같은 방향이면 양수, 반대 방향이면 음수, 90도면 0)\n",
    "- `Tensor` : `3차원 이상의 구조를 가진 숫자 배열(array)` (0차 : scalar, 1차 : vector, 2차 : matrix)\n",
    "- ![tensor](./pic/tensor.png)\n",
    "- `norm`: 벡터와 행렬의 `거리(크기)를 측정`할 때, 하강 기울기의 `규제`(벡터의 이동을 자유롭게 하지 못하게 boundary를 치는 것) 경우 (p차 norm, 최대 norm, Frobenius norm(행렬의 크기))\n",
    "- `퍼셉트론`(perceptron : 분류기(classifier) 모델) : 물리적 의미 : `데이터 x를 기준 w에 맞게 결정 직선, 평면으로 필터링하겠다.` 방법 : 입력(x)과 기준(w)을 `내적`하여 scalar값을 구하고 그 값이 `활성(activation) 함수`의 `기준(threshold)`보다 높으면 1 낮으면 -1을 출력한다. 이때 그 `기준을 나누는` 직선과 평면을 `결정 직선(2차원), 결정 평면(3차원), 결정 초평면(4차원)`이라고 부른다.\n",
    "- 여러개의 퍼셉트론 출력의 경우, 가중치(기준 w) 벡터와 입력(x)의 내적으로 표현(유사도 계산)된 출력은 벡터 o로 표현된다.\n",
    "- ![perceptron1](./pic/perceptron1.png)\n",
    "- ![perceptron2](./pic/perceptron2.png)\n"
   ]
  }
 ],
 "metadata": {
  "language_info": {
   "name": "python"
  },
  "orig_nbformat": 4
 },
 "nbformat": 4,
 "nbformat_minor": 2
}

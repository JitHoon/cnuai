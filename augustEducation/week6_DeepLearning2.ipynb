{
 "cells": [
  {
   "cell_type": "markdown",
   "metadata": {},
   "source": [
    "# 1. 기계학습과 수학\n",
    "- ![ML_concept](./pic/ML_concept.png)\n",
    "- 수학은 `목적함수`(성능 지표)를 정의하고, 목적함수의 `최저점`을 찾아주는 `최적화 이론`을 제공한다.\n",
    "- 수학은 목적함수뿐만 아니라 알고리즘, 데이터(수치적 형태, 벡터 등) 모두 사용된다."
   ]
  },
  {
   "cell_type": "markdown",
   "metadata": {},
   "source": [
    "# 2. 선형대수 (Linear Algebra)\n",
    "## 2-1) 벡터와 행렬\n",
    "- vector = 데이터의 종류(실수, 정수 등)와 크기 표현\n",
    "- `샘플` = `특징 벡터`(`Feature Vector`)\n",
    "- matrix = 여러개의 vector를 담음 (`n행` : `n번째 데이터` (3번 Iris), `n열` : `데이터의 n번째 특징` (Iris의 꽃잎의 길이))"
   ]
  }
 ],
 "metadata": {
  "language_info": {
   "name": "python"
  },
  "orig_nbformat": 4
 },
 "nbformat": 4,
 "nbformat_minor": 2
}

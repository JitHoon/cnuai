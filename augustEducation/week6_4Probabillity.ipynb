{
 "cells": [
  {
   "cell_type": "markdown",
   "metadata": {},
   "source": [
    "# 확률 이론"
   ]
  },
  {
   "cell_type": "markdown",
   "metadata": {},
   "source": [
    "### 1. 확률 변수 (Random Variables)\n",
    "`확률 변수 X`는 `표본 집합 S`의 `원소 e`를 실수 값 $ X(e) = x $ 에 대응시키는 `함수`이다.\n",
    "- 확률 변수는 `함수`로 정의되어있다.\n",
    "\n",
    "- ex) 동전 set $ S = {H, T} $ 일 때 $ X(H) = 0 ,  H(T) = 1 $ 로 표현 가능하다.\n",
    "\n",
    "`대문자` X, Y … : `확률 변수`\n",
    "\n",
    "`소문자` x, y … : 확률 변수가 가질 수 있는 `값`\n",
    "\n",
    "`확률 P`는 `집합 S`의 부분집합을 실수값에 대응시키는 함수이다."
   ]
  },
  {
   "cell_type": "markdown",
   "metadata": {},
   "source": [
    "![P_X_x](./pic/P_X_x.png)\n",
    "- X는 H 개수를 세는 함수 (확률 변수)"
   ]
  },
  {
   "cell_type": "markdown",
   "metadata": {},
   "source": [
    "### 2. 연속 확률 변수 (Continuous Random Variables)"
   ]
  },
  {
   "cell_type": "markdown",
   "metadata": {},
   "source": [
    "![cdf_pdf](./pic/cdf_pdf.png)"
   ]
  },
  {
   "cell_type": "markdown",
   "metadata": {},
   "source": [
    "- 누적 분포 함수 `CDF` : $ F(x) $\n",
    "\n",
    "- 확률 밀도 함수 `pdf` : $ f(x) $ = $ p(x) $\n",
    "\n",
    "- 연속 확률 변수 : $ X $\n",
    "\n",
    "- 확률 : $ P $"
   ]
  },
  {
   "cell_type": "markdown",
   "metadata": {},
   "source": [
    "### 3. 확률 변수의 성질"
   ]
  },
  {
   "cell_type": "markdown",
   "metadata": {},
   "source": [
    "![RV_property](./pic/RV_property.png)"
   ]
  },
  {
   "cell_type": "markdown",
   "metadata": {},
   "source": [
    "`posterior` : 사후 확률\n",
    "\n",
    "`likelihood` : 가능도(우도)\n",
    "\n",
    "`prior` : 사전확률\n",
    "\n",
    "`normalization` : Y와 상관없는 상수. X의 경계확률(marginal) p(X)"
   ]
  },
  {
   "cell_type": "markdown",
   "metadata": {},
   "source": [
    "### 4. 확률변수의 함수 (Function of RV)\n",
    "확률변수 $ X $ 의 $ Y = f(X) $도 확률변수이다(함수의 함수).\n",
    "\n",
    "예를들어 확률변수 X가 주 수로 표현되어있다면 $ Y = 7X $ 로 표현할 수 있다.\n",
    "\n",
    "$ X $ 의 확률 밀도 함수를 구할 수 있다면 $ Y $ 의 확률 밀도 함수를 구할 수 있고 아래와 같다."
   ]
  },
  {
   "cell_type": "markdown",
   "metadata": {},
   "source": [
    "![y_property](./pic/y_property.png)"
   ]
  },
  {
   "cell_type": "markdown",
   "metadata": {},
   "source": [
    "k차원으로 확장하면 아래와같이 $ y = g(x) $ (벡터 형태로 표현 가능하고)로 표현 가능하고 $ y $ 가 일대일 변환일 경우 `자코비안`을 곱하여  `y의 결합 확률 밀도함수` (`joint pdf`)를 구할 수 있다."
   ]
  },
  {
   "cell_type": "markdown",
   "metadata": {},
   "source": [
    "![jaco](./pic/jaco.png)"
   ]
  },
  {
   "cell_type": "markdown",
   "metadata": {},
   "source": [
    "#### `흔히 접하는 문제`\n",
    "< 확률 변수가 어떤 CDF나 PDF를 가진다고 할 때 밀도 함수로부터 샘플들을 만들어내는 문제 >\n",
    "\n",
    "샘플링 상황을 고려해보면 연속 확률 분포에서 확률 밀도 함수 $ p(x) $ 는 확률변수 정의역내 $x$ 가 주어지면 확률값 $ p(x) $ 를 돌려주게 된다.\n",
    "\n",
    "하지만 샘플을 뽑기 위해서 필요한 것은 $ p(x) $ 가 아닌 $ x $ 이다. 다시 말해 확률 밀도 함수( $ p(x) $ ) 하나 만으로는 샘플링이 불가능하다.\n",
    "\n",
    "따라서, 샘플을 뽑기 위해서는 `output이` $ x $ `가 되는 함수를 정의`해야 한다. 이 경우에 `Inverse CDF를 활용`하는 것이다."
   ]
  },
  {
   "cell_type": "markdown",
   "metadata": {},
   "source": [
    "#### `Inverse CDF Technique`\n",
    "- 확률변수 $ X $ 가 CDF $ F_X(x) $ 를 가진다고 하자. 연속확률분포 $ U $ ~ $ UNIF(0,1) $ 의 함수로 정의되는 다음 확률변수 $ Y $ 를 생각해보자. ( $ UNIF(0,1) $ : uniform distribution을 따르는 연속확률분포 0~1까지 값이 계속 1 )"
   ]
  },
  {
   "cell_type": "markdown",
   "metadata": {},
   "source": [
    "$ Y = F_X^-1(U) \n",
    "$"
   ]
  },
  {
   "cell_type": "markdown",
   "metadata": {},
   "source": [
    "- 확률변수 U를 통해서 새로운 확률변수 Y를 정의한 다음에 Y로부터 샘플링을 할 수 있게됨"
   ]
  },
  {
   "cell_type": "markdown",
   "metadata": {},
   "source": [
    "- 확률변수 $ Y$ 는 확률변수 $ X $ 와 동일한 분포를 따르게 된다.\n",
    "\n",
    "![Inverse_CDF_Technique](./pic/Inverse_CDF_Technique.png)\n",
    "- 가장 첫 식은 CDF 정의"
   ]
  },
  {
   "cell_type": "markdown",
   "metadata": {},
   "source": [
    "`결론` : $ F(x) $ 가 주어지면 샘플링을 위해 $F^-1(x)$ 를 구하면 되는데, uniform 분포를 따르는 $U$ 로부터 샘플들을 계속 생산하여 $F^-1(u)$ 를 구하면 결국 이 값이 $x$ 의 분포를 따르게되고 그 $x$ 를 활용하여 샘플링이 가능하게 된다.  "
   ]
  },
  {
   "cell_type": "markdown",
   "metadata": {},
   "source": [
    "예제)\n",
    "\n",
    "한 점을 찍기위해 u 샘플과 세타 샘플을 뽑아야함\n",
    "\n",
    "![dot](./pic/dot.png)"
   ]
  }
 ],
 "metadata": {
  "language_info": {
   "name": "python"
  },
  "orig_nbformat": 4
 },
 "nbformat": 4,
 "nbformat_minor": 2
}

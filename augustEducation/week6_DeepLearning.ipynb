{
 "cells": [
  {
   "cell_type": "markdown",
   "metadata": {},
   "source": [
    "# 1. 인공지능 개요\n",
    "- 인간처럼 생각하고 행동하는 기기 (by, 컴퓨터 프로그래밍)\n",
    "- 이번 수업에서는 `학습`이라는 관점(`머신러닝`)에서 인공지능을 바라본다.\n",
    "- `머신러닝` 중에서도 하나의 학습 방법인 `Deep Learning`에 대해서 알아봄\n",
    "- ex) 음성인식, 추천 시스템, 자율주행, 실시간 객체 인식, 로봇, 번역"
   ]
  },
  {
   "cell_type": "markdown",
   "metadata": {},
   "source": [
    "- 인공지능 시작 (1940~) -> 기계학습 (1980~) -> 심층학습 (~2010)"
   ]
  },
  {
   "cell_type": "markdown",
   "metadata": {},
   "source": [
    "- `데이터` 분석을 기본 소양으로 가져가고 `python`과 `open source`로 `인간중심`의 소통해야함"
   ]
  },
  {
   "cell_type": "markdown",
   "metadata": {},
   "source": [
    "- `신경망`은 레고처럼 `조립이 가능`하다."
   ]
  },
  {
   "cell_type": "markdown",
   "metadata": {},
   "source": [
    "![ai_framework](./pic/ai_framework.png)\n",
    "![compare_framework](./pic/compare_framework.png)\n",
    "- ai framework (실습은 `pytorch`)"
   ]
  },
  {
   "cell_type": "markdown",
   "metadata": {},
   "source": [
    "----\n",
    "# 2. 인간 학습 vs 기계 학습\n",
    "- 이번 내용 : 기계도 학습이 가능한가? -> 가능하다"
   ]
  },
  {
   "cell_type": "markdown",
   "metadata": {},
   "source": [
    "## 2-1) 기계 학습\n",
    "- 초창기 정의 : `경험` = `데이터` 를 통해 배우는 컴퓨터 프로그램\n",
    "- 현대적 정의 : `경험` = `데이터` 를 통해 성능이 개선되는 프로그램 ( `경험 E` * `작업 T` = `성능 P`)"
   ]
  },
  {
   "cell_type": "markdown",
   "metadata": {},
   "source": [
    "- input(`data`)과 `원하는 결과`를 기계에 입력하여 기계가 `스스로 규칙을 찾아` 원하는 결과를 내놓도록 하는 방식"
   ]
  },
  {
   "cell_type": "markdown",
   "metadata": {},
   "source": [
    "- 인공지능의 탄생 = 연산 장치의 탄생\n",
    "- 초창기 지식 기반(rule base) 가계 학습이 주류였음\n",
    "- 지식 기반 -> 기계 학습 -> 심층 학습 (표현 학습 (데이터 중심 학습))"
   ]
  },
  {
   "cell_type": "markdown",
   "metadata": {},
   "source": [
    "### 2-1-1) 기계 학습 예제 (E * T = P)\n",
    "- 가로축은 시간, 세로축은 이동체의 위치일 때 4개의 점이 있다. (벡터 형테의 `data` = `경험 E` = 관찰된 데이터) 이때 임의의 시간이 주어지면 이동체의 위치 (`작업 T`) 는?\n",
    "- `예측(성능) P` : `회귀(regression)`와 `분류 (classification)`로 나뉨. `회귀(regression)`는 목표치가 `실수`의 값, `분류 (classification)`는  `종류`의 값"
   ]
  },
  {
   "cell_type": "markdown",
   "metadata": {},
   "source": [
    "### 2-1-2) 훈련 집합 (training set(data))\n",
    "- : `경험`(= data, 규칙이 내제된 값)을 통해서 `규칙을 찾는 학습`을 위한 `훈련용 데이터` = `입력값`(= x값, 특징)과 그에 대응하는 `출력값` (= y값, 목표값, 라벨값)"
   ]
  },
  {
   "cell_type": "markdown",
   "metadata": {},
   "source": [
    "### 2-1-3) 관찰된 데이터들을 어떻게 설명할 것인가?\n",
    "- `가설` : 모델을 특정 식으로 선택 가정\n",
    "- 위의 예제의 경우 2개의 매개변수를 사용하여 직선 방정식을 가정으로 선택\n",
    "- deep learnig이 강력한 이유는 가설이 불완전하여도 예측을 잘 수정해주기 때문이다."
   ]
  },
  {
   "cell_type": "markdown",
   "metadata": {},
   "source": [
    "### 2-1-4) 기계 학습의 훈련\n",
    "- 주어진 문제 예측(기설)을 가장 정확하게 할 수 있는 `최적의 매개변수를 찾는` 작업 (with 훈련 집합)\n",
    "- `임의의 매개변수` 값에서 시작하지만, 개선하여 `정량적인 최적 성능`에 도달"
   ]
  },
  {
   "cell_type": "markdown",
   "metadata": {},
   "source": [
    "### 2-1-5) 좋은 예측의 정량적 판단은??\n",
    "- error를 통해 서로 다른 예측과 비교 및 판단."
   ]
  },
  {
   "cell_type": "markdown",
   "metadata": {},
   "source": [
    "### 2-1-6) 훈련을 마치면 추론(inference)을 수행\n",
    "- : `새로운 특징`(관찰된 데이터 이외의 예측으로 얻는 값들)에 대응되는 `목표치의 예측`(= 추론)을 수행하는 것\n",
    "- `새로운 데이터들`(= 테스트 집합)을 `예측식`에 넣어서 새로운 지점에서의 값을 추론 할 수 있음"
   ]
  },
  {
   "cell_type": "markdown",
   "metadata": {},
   "source": [
    "### 2-1-7) 기계 학습의 궁극적인 목표\n",
    "- 훈련 집합에 없는 `새로운 데이터`(= 테스트 집합, 보지못한 데이터)에 대한 `오류를 최소화`\n",
    "- 테스트 집합에 대한 높은 성능을 `일반화(generalization) 능력`이라고 부름\n",
    "- ex) 모의고사만 잘 본 학생 vs 모의고사와 수능을 잘 본 학생"
   ]
  },
  {
   "cell_type": "markdown",
   "metadata": {},
   "source": [
    "### 2-1-8) 기계학습의 필수요소\n",
    "- 1. `학습`할 수 있는 `데이터`\n",
    "- 2. 데이터 `규칙` 존재\n",
    "- 3. `수학적으로 설명 불가능`!"
   ]
  },
  {
   "cell_type": "markdown",
   "metadata": {},
   "source": [
    "## 2-2) 특징 공간의 이해"
   ]
  },
  {
   "cell_type": "markdown",
   "metadata": {},
   "source": [
    "### 2-2-1) 특징 공간\n",
    "- 모든 데이터는 정량적으로 표현되고 특징 공간 상에 존재\n",
    "- `1차원 특징 공간`\n",
    "- `2차원 특징 공간` : 특징 벡터로 표기 (`각 차원`들이 의미하는 것 : 어떤 `각 입력에 대해`서 서술하고 있는 `특징`)\n",
    "- `다차원 특징 공간` : 4차원 (Iris), 16차원 (MNIST 4*4 화소)\n",
    "- 이러한 데이터의 특징 공간안에서 규칙을 찾음."
   ]
  },
  {
   "cell_type": "markdown",
   "metadata": {},
   "source": [
    "- `d-차원 데이터` : 컴퓨터가 이해할 수 있도록 공간상에 `d-차원의 벡터`로 표현\n",
    "- ex) y = w1x1 + w2x2 + w3x3 + ... (매개변수 수 d+1): `1차원의 벡터 표현에서 학습으로 매개변수 w를 결정하여 y를 예측`, 2차원의 경우 매개 변수 수  : d^2 + d + 1 -> 예측 모델의 차원에 따라서 필요한 매개 변수 수가 달라짐\n",
    "- `거리` : 차원과 무관하게 수식 적용 가능"
   ]
  }
 ],
 "metadata": {
  "language_info": {
   "name": "python"
  },
  "orig_nbformat": 4
 },
 "nbformat": 4,
 "nbformat_minor": 2
}
